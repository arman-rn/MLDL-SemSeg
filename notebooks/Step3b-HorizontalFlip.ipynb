{
  "cells": [
    {
      "cell_type": "code",
      "execution_count": null,
      "metadata": {
        "colab": {
          "base_uri": "https://localhost:8080/"
        },
        "id": "B7KzljWIYcOM",
        "outputId": "c9627707-e7ee-4431-9ace-855176ab4588"
      },
      "outputs": [
        {
          "name": "stdout",
          "output_type": "stream",
          "text": [
            "Cloning into 'RTDA-SemanticSegmentation'...\n",
            "remote: Enumerating objects: 141, done.\u001b[K\n",
            "remote: Counting objects: 100% (141/141), done.\u001b[K\n",
            "remote: Compressing objects: 100% (95/95), done.\u001b[K\n",
            "remote: Total 141 (delta 75), reused 107 (delta 41), pack-reused 0 (from 0)\u001b[K\n",
            "Receiving objects: 100% (141/141), 920.30 KiB | 13.53 MiB/s, done.\n",
            "Resolving deltas: 100% (75/75), done.\n",
            "/content/RTDA-SemanticSegmentation\n",
            "\u001b[2K     \u001b[90m━━━━━━━━━━━━━━━━━━━━━━━━━━━━━━━━━━━━━━━━\u001b[0m \u001b[32m50.2/50.2 kB\u001b[0m \u001b[31m2.0 MB/s\u001b[0m eta \u001b[36m0:00:00\u001b[0m\n",
            "\u001b[?25h  Preparing metadata (setup.py) ... \u001b[?25l\u001b[?25hdone\n",
            "\u001b[2K     \u001b[90m━━━━━━━━━━━━━━━━━━━━━━━━━━━━━━━━━━━━━━━━\u001b[0m \u001b[32m42.2/42.2 kB\u001b[0m \u001b[31m2.7 MB/s\u001b[0m eta \u001b[36m0:00:00\u001b[0m\n",
            "\u001b[?25h  Preparing metadata (setup.py) ... \u001b[?25l\u001b[?25hdone\n",
            "  Building wheel for fvcore (setup.py) ... \u001b[?25l\u001b[?25hdone\n",
            "  Building wheel for iopath (setup.py) ... \u001b[?25l\u001b[?25hdone\n"
          ]
        }
      ],
      "source": [
        "# Clone your GitHub repository and install required packages\n",
        "!git clone https://github.com/arman-rn/MLDL-SemSeg.git\n",
        "%cd MLDL-SemSeg\n",
        "\n",
        "# Install necessary Python packages\n",
        "!pip install -U fvcore gdown==4.7.1 --quiet"
      ]
    },
    {
      "cell_type": "code",
      "execution_count": 2,
      "metadata": {
        "colab": {
          "base_uri": "https://localhost:8080/"
        },
        "id": "Nokb_AGtaEEW",
        "outputId": "d6ed15d7-048d-44cf-924e-1cab610f6443"
      },
      "outputs": [
        {
          "name": "stdout",
          "output_type": "stream",
          "text": [
            "Cityspaces\n",
            "images\tlabels\n"
          ]
        }
      ],
      "source": [
        "import zipfile\n",
        "\n",
        "# Unzip Cityscapes dataset\n",
        "with zipfile.ZipFile('/content/drive/MyDrive/MLDL_PROJECT/Cityscapes.zip', 'r') as zip_ref:\n",
        "    zip_ref.extractall('/content/data')\n",
        "\n",
        "# Unzip GTA5 dataset\n",
        "with zipfile.ZipFile('/content/drive/MyDrive/MLDL_PROJECT/GTA5.zip', 'r') as zip_ref:\n",
        "    zip_ref.extractall('/content/data')\n",
        "\n",
        "# Verify that the files are extracted\n",
        "!ls /content/data/Cityscapes\n",
        "!ls /content/data/GTA5"
      ]
    },
    {
      "cell_type": "code",
      "execution_count": 3,
      "metadata": {
        "colab": {
          "base_uri": "https://localhost:8080/"
        },
        "id": "aGKM-PeRf3YC",
        "outputId": "c91abab6-9ced-4a1f-98f6-dfa95fbe5456"
      },
      "outputs": [
        {
          "name": "stdout",
          "output_type": "stream",
          "text": [
            "/usr/local/lib/python3.11/dist-packages/albumentations/__init__.py:28: UserWarning: A new version of Albumentations is available: '2.0.8' (you have '2.0.7'). Upgrade using: pip install -U albumentations. To disable automatic update checks, set the environment variable NO_ALBUMENTATIONS_UPDATE to 1.\n",
            "  check_for_updates()\n",
            "Color-to-ID LUT for GTA5 initialized for pre-processing.\n",
            "Saving pre-converted ID labels to: /content/data/GTA5/labels_trainids\n",
            "Converting labels: 100% 2500/2500 [02:39<00:00, 15.69it/s]\n",
            "\n",
            "Pre-conversion complete. 2500 labels processed.\n",
            "Converted labels saved in: /content/data/GTA5/labels_trainids\n",
            "✅ GTA5 label pre-conversion script finished.\n"
          ]
        }
      ],
      "source": [
        "import os\n",
        "\n",
        "# Path to the root of your downloaded GTA5 dataset (must match Cell 3 & config.py)\n",
        "gta5_data_root_for_preprocess = \"/content/data/GTA5\" # Or your actual path\n",
        "\n",
        "preprocess_script_path = \"datasets/preprocess_gta5_labels.py\" # Assuming it's at the root of your repo\n",
        "\n",
        "if not os.path.exists(preprocess_script_path):\n",
        "    print(f\"⚠️ ERROR: '{preprocess_script_path}' not found in your cloned repository at '{os.getcwd()}'.\")\n",
        "else:\n",
        "\n",
        "    # Prepend current directory to PYTHONPATH for the script execution\n",
        "    !PYTHONPATH=. python {preprocess_script_path} \\\n",
        "        --gta5_root {gta5_data_root_for_preprocess}\n",
        "    print(\"✅ GTA5 label pre-conversion script finished.\")\n"
      ]
    },
    {
      "cell_type": "code",
      "execution_count": null,
      "metadata": {
        "colab": {
          "base_uri": "https://localhost:8080/",
          "height": 191
        },
        "id": "3aHIc8e1dXA-",
        "outputId": "41777fed-c3d4-4e4a-cb1b-bb370fea9045"
      },
      "outputs": [],
      "source": [
        "import wandb\n",
        "wandb.login()"
      ]
    },
    {
      "cell_type": "code",
      "execution_count": 5,
      "metadata": {
        "colab": {
          "base_uri": "https://localhost:8080/",
          "height": 1000
        },
        "id": "EvCH0m6VhYVJ",
        "outputId": "dbe7da09-5c99-4582-9335-0a39b8cde5f7"
      },
      "outputs": [
        {
          "name": "stderr",
          "output_type": "stream",
          "text": [
            "/usr/local/lib/python3.11/dist-packages/albumentations/__init__.py:28: UserWarning: A new version of Albumentations is available: '2.0.8' (you have '2.0.7'). Upgrade using: pip install -U albumentations. To disable automatic update checks, set the environment variable NO_ALBUMENTATIONS_UPDATE to 1.\n",
            "  check_for_updates()\n"
          ]
        },
        {
          "name": "stdout",
          "output_type": "stream",
          "text": [
            "\n",
            "Running main script with simulated command line arguments: ['main.py']\n",
            "Seeds set to 42\n",
            "--- Effective Configuration (from cfg object after CLI overrides) ---\n",
            "Model Name: BISENET\n",
            "Train Dataset: GTA5 (1280x720)\n",
            "  - Path: /content/data/GTA5\n",
            "Validation Dataset: CITYSCAPES (1024x512)\n",
            "  - Path: /content/data/Cityscapes/Cityspaces\n",
            "GTA5 Transformations: ['Resize', 'HorizontalFlip', 'Normalize', 'ToTensorV2']\n",
            "BiSeNet Context Path: resnet18\n",
            "Optimizer: ADAM\n",
            "Base Learning Rate (for adam): 0.0001\n",
            "Weight Decay: 0.0001\n",
            "Training for 50 epochs.\n",
            "Device: cuda\n",
            "Batch Size (from config): 8\n",
            "Checkpoint Directory: ./checkpoints/bisenet\n",
            "Resume from checkpoint: No\n",
            "-----------------------------\n"
          ]
        },
        {
          "data": {
            "text/html": [
              "Tracking run with wandb version 0.19.11"
            ],
            "text/plain": [
              "<IPython.core.display.HTML object>"
            ]
          },
          "metadata": {},
          "output_type": "display_data"
        },
        {
          "data": {
            "text/html": [
              "Run data is saved locally in <code>/content/RTDA-SemanticSegmentation/wandb/run-20250602_171619-aligimg3</code>"
            ],
            "text/plain": [
              "<IPython.core.display.HTML object>"
            ]
          },
          "metadata": {},
          "output_type": "display_data"
        },
        {
          "data": {
            "text/html": [
              "Syncing run <strong><a href='https://wandb.ai/RTDA-SemSeg/RTDA-SemSeg/runs/aligimg3' target=\"_blank\">expert-totem-25</a></strong> to <a href='https://wandb.ai/RTDA-SemSeg/RTDA-SemSeg' target=\"_blank\">Weights & Biases</a> (<a href='https://wandb.me/developer-guide' target=\"_blank\">docs</a>)<br>"
            ],
            "text/plain": [
              "<IPython.core.display.HTML object>"
            ]
          },
          "metadata": {},
          "output_type": "display_data"
        },
        {
          "data": {
            "text/html": [
              " View project at <a href='https://wandb.ai/RTDA-SemSeg/RTDA-SemSeg' target=\"_blank\">https://wandb.ai/RTDA-SemSeg/RTDA-SemSeg</a>"
            ],
            "text/plain": [
              "<IPython.core.display.HTML object>"
            ]
          },
          "metadata": {},
          "output_type": "display_data"
        },
        {
          "data": {
            "text/html": [
              " View run at <a href='https://wandb.ai/RTDA-SemSeg/RTDA-SemSeg/runs/aligimg3' target=\"_blank\">https://wandb.ai/RTDA-SemSeg/RTDA-SemSeg/runs/aligimg3</a>"
            ],
            "text/plain": [
              "<IPython.core.display.HTML object>"
            ]
          },
          "metadata": {},
          "output_type": "display_data"
        },
        {
          "name": "stdout",
          "output_type": "stream",
          "text": [
            "Weights & Biases initialized successfully.\n",
            "Loading GTA5 training data from: /content/data/GTA5\n",
            "Using GTA5 training transforms (resize to 1280x720).\n",
            "GTA5 will use pre-converted labels from subdir: 'labels_trainids'\n",
            "Found 2500 image-label pairs in /content/data/GTA5\n",
            "Found 2500 training images for gta5.\n",
            "Loading Cityscapes validation data from: /content/data/Cityscapes/Cityspaces\n",
            "Using Cityscapes validation transforms (resize to 1024x512).\n",
            "Found 500 validation images for cityscapes.\n",
            "Train loader: 312 batches, 2500 images.\n",
            "Val loader: 500 batches, 500 images.\n",
            "Loading BiSeNet model with 19 classes.\n",
            "Using BiSeNet context path: resnet18\n"
          ]
        },
        {
          "name": "stderr",
          "output_type": "stream",
          "text": [
            "Downloading: \"https://download.pytorch.org/models/resnet18-f37072fd.pth\" to /root/.cache/torch/hub/checkpoints/resnet18-f37072fd.pth\n",
            "100%|██████████| 44.7M/44.7M [00:00<00:00, 171MB/s]\n",
            "Downloading: \"https://download.pytorch.org/models/resnet101-63fe2227.pth\" to /root/.cache/torch/hub/checkpoints/resnet101-63fe2227.pth\n",
            "100%|██████████| 171M/171M [00:00<00:00, 196MB/s]\n",
            "\u001b[34m\u001b[1mwandb\u001b[0m: logging graph, to disable use `wandb.watch(log_graph=False)`\n"
          ]
        },
        {
          "name": "stdout",
          "output_type": "stream",
          "text": [
            "Model 'bisenet' moved to device: cuda\n",
            "Using mixed-precision training with GradScaler on CUDA device.\n",
            "No resume checkpoint specified. Starting training from scratch.\n",
            "\n",
            "--- Epoch 1/50 ---\n"
          ]
        },
        {
          "name": "stderr",
          "output_type": "stream",
          "text": []
        },
        {
          "name": "stdout",
          "output_type": "stream",
          "text": [
            "\n",
            "Validation Epoch 1: Avg Loss: 2.6702, Overall Mean IoU: 0.1294\n",
            "New best mIoU: 0.1294 at epoch 1\n",
            "Saving checkpoint to ./checkpoints/bisenet/best_miou_checkpoint.pth...\n",
            "Checkpoint saved successfully to ./checkpoints/bisenet/best_miou_checkpoint.pth\n",
            "Checkpoint 'best_miou_checkpoint.pth' also saved to W&B artifacts.\n",
            "\n",
            "--- Epoch 2/50 ---\n"
          ]
        },
        {
          "name": "stderr",
          "output_type": "stream",
          "text": []
        },
        {
          "name": "stdout",
          "output_type": "stream",
          "text": [
            "\n",
            "Validation Epoch 2: Avg Loss: 2.1593, Overall Mean IoU: 0.1637\n",
            "New best mIoU: 0.1637 at epoch 2\n",
            "Saving checkpoint to ./checkpoints/bisenet/best_miou_checkpoint.pth...\n",
            "Checkpoint saved successfully to ./checkpoints/bisenet/best_miou_checkpoint.pth\n",
            "Checkpoint 'best_miou_checkpoint.pth' also saved to W&B artifacts.\n",
            "\n",
            "--- Epoch 3/50 ---\n"
          ]
        },
        {
          "name": "stderr",
          "output_type": "stream",
          "text": []
        },
        {
          "name": "stdout",
          "output_type": "stream",
          "text": [
            "\n",
            "Validation Epoch 3: Avg Loss: 2.8108, Overall Mean IoU: 0.1660\n",
            "New best mIoU: 0.1660 at epoch 3\n",
            "Saving checkpoint to ./checkpoints/bisenet/best_miou_checkpoint.pth...\n",
            "Checkpoint saved successfully to ./checkpoints/bisenet/best_miou_checkpoint.pth\n",
            "Checkpoint 'best_miou_checkpoint.pth' also saved to W&B artifacts.\n",
            "\n",
            "--- Epoch 4/50 ---\n"
          ]
        },
        {
          "name": "stderr",
          "output_type": "stream",
          "text": []
        },
        {
          "name": "stdout",
          "output_type": "stream",
          "text": [
            "\n",
            "Validation Epoch 4: Avg Loss: 2.7949, Overall Mean IoU: 0.1589\n",
            "\n",
            "--- Epoch 5/50 ---\n"
          ]
        },
        {
          "name": "stderr",
          "output_type": "stream",
          "text": []
        },
        {
          "name": "stdout",
          "output_type": "stream",
          "text": [
            "\n",
            "Validation Epoch 5: Avg Loss: 2.2307, Overall Mean IoU: 0.1634\n",
            "Saving checkpoint to ./checkpoints/bisenet/checkpoint.pth...\n",
            "Checkpoint saved successfully to ./checkpoints/bisenet/checkpoint.pth\n",
            "Checkpoint 'checkpoint.pth' also saved to W&B artifacts.\n",
            "\n",
            "--- Epoch 6/50 ---\n"
          ]
        },
        {
          "name": "stderr",
          "output_type": "stream",
          "text": []
        },
        {
          "name": "stdout",
          "output_type": "stream",
          "text": [
            "\n",
            "Validation Epoch 6: Avg Loss: 2.3911, Overall Mean IoU: 0.1727\n",
            "New best mIoU: 0.1727 at epoch 6\n",
            "Saving checkpoint to ./checkpoints/bisenet/best_miou_checkpoint.pth...\n",
            "Checkpoint saved successfully to ./checkpoints/bisenet/best_miou_checkpoint.pth\n",
            "Checkpoint 'best_miou_checkpoint.pth' also saved to W&B artifacts.\n",
            "\n",
            "--- Epoch 7/50 ---\n"
          ]
        },
        {
          "name": "stderr",
          "output_type": "stream",
          "text": []
        },
        {
          "name": "stdout",
          "output_type": "stream",
          "text": [
            "\n",
            "Validation Epoch 7: Avg Loss: 1.7260, Overall Mean IoU: 0.1949\n",
            "New best mIoU: 0.1949 at epoch 7\n",
            "Saving checkpoint to ./checkpoints/bisenet/best_miou_checkpoint.pth...\n",
            "Checkpoint saved successfully to ./checkpoints/bisenet/best_miou_checkpoint.pth\n",
            "Checkpoint 'best_miou_checkpoint.pth' also saved to W&B artifacts.\n",
            "\n",
            "--- Epoch 8/50 ---\n"
          ]
        },
        {
          "name": "stderr",
          "output_type": "stream",
          "text": []
        },
        {
          "name": "stdout",
          "output_type": "stream",
          "text": [
            "\n",
            "Validation Epoch 8: Avg Loss: 2.5573, Overall Mean IoU: 0.1811\n",
            "\n",
            "--- Epoch 9/50 ---\n"
          ]
        },
        {
          "name": "stderr",
          "output_type": "stream",
          "text": []
        },
        {
          "name": "stdout",
          "output_type": "stream",
          "text": [
            "\n",
            "Validation Epoch 9: Avg Loss: 2.9770, Overall Mean IoU: 0.1732\n",
            "\n",
            "--- Epoch 10/50 ---\n"
          ]
        },
        {
          "name": "stderr",
          "output_type": "stream",
          "text": []
        },
        {
          "name": "stdout",
          "output_type": "stream",
          "text": [
            "\n",
            "Validation Epoch 10: Avg Loss: 2.1368, Overall Mean IoU: 0.2018\n",
            "New best mIoU: 0.2018 at epoch 10\n",
            "Saving checkpoint to ./checkpoints/bisenet/best_miou_checkpoint.pth...\n",
            "Checkpoint saved successfully to ./checkpoints/bisenet/best_miou_checkpoint.pth\n",
            "Checkpoint 'best_miou_checkpoint.pth' also saved to W&B artifacts.\n",
            "Saving checkpoint to ./checkpoints/bisenet/checkpoint.pth...\n",
            "Checkpoint saved successfully to ./checkpoints/bisenet/checkpoint.pth\n",
            "Checkpoint 'checkpoint.pth' also saved to W&B artifacts.\n",
            "\n",
            "--- Epoch 11/50 ---\n"
          ]
        },
        {
          "name": "stderr",
          "output_type": "stream",
          "text": []
        },
        {
          "name": "stdout",
          "output_type": "stream",
          "text": [
            "\n",
            "Validation Epoch 11: Avg Loss: 2.0310, Overall Mean IoU: 0.2009\n",
            "\n",
            "--- Epoch 12/50 ---\n"
          ]
        },
        {
          "name": "stderr",
          "output_type": "stream",
          "text": []
        },
        {
          "name": "stdout",
          "output_type": "stream",
          "text": [
            "\n",
            "Validation Epoch 12: Avg Loss: 2.1542, Overall Mean IoU: 0.1943\n",
            "\n",
            "--- Epoch 13/50 ---\n"
          ]
        },
        {
          "name": "stderr",
          "output_type": "stream",
          "text": []
        },
        {
          "name": "stdout",
          "output_type": "stream",
          "text": [
            "\n",
            "Validation Epoch 13: Avg Loss: 2.0973, Overall Mean IoU: 0.2015\n",
            "\n",
            "--- Epoch 14/50 ---\n"
          ]
        },
        {
          "name": "stderr",
          "output_type": "stream",
          "text": []
        },
        {
          "name": "stdout",
          "output_type": "stream",
          "text": [
            "\n",
            "Validation Epoch 14: Avg Loss: 2.5571, Overall Mean IoU: 0.1656\n",
            "\n",
            "--- Epoch 15/50 ---\n"
          ]
        },
        {
          "name": "stderr",
          "output_type": "stream",
          "text": []
        },
        {
          "name": "stdout",
          "output_type": "stream",
          "text": [
            "\n",
            "Validation Epoch 15: Avg Loss: 2.2575, Overall Mean IoU: 0.1947\n",
            "Saving checkpoint to ./checkpoints/bisenet/checkpoint.pth...\n",
            "Checkpoint saved successfully to ./checkpoints/bisenet/checkpoint.pth\n",
            "Checkpoint 'checkpoint.pth' also saved to W&B artifacts.\n",
            "\n",
            "--- Epoch 16/50 ---\n"
          ]
        },
        {
          "name": "stderr",
          "output_type": "stream",
          "text": []
        },
        {
          "name": "stdout",
          "output_type": "stream",
          "text": [
            "\n",
            "Validation Epoch 16: Avg Loss: 2.7324, Overall Mean IoU: 0.1638\n",
            "\n",
            "--- Epoch 17/50 ---\n"
          ]
        },
        {
          "name": "stderr",
          "output_type": "stream",
          "text": []
        },
        {
          "name": "stdout",
          "output_type": "stream",
          "text": [
            "\n",
            "Validation Epoch 17: Avg Loss: 2.1155, Overall Mean IoU: 0.1817\n",
            "\n",
            "--- Epoch 18/50 ---\n"
          ]
        },
        {
          "name": "stderr",
          "output_type": "stream",
          "text": []
        },
        {
          "name": "stdout",
          "output_type": "stream",
          "text": [
            "\n",
            "Validation Epoch 18: Avg Loss: 2.2683, Overall Mean IoU: 0.1697\n",
            "\n",
            "--- Epoch 19/50 ---\n"
          ]
        },
        {
          "name": "stderr",
          "output_type": "stream",
          "text": []
        },
        {
          "name": "stdout",
          "output_type": "stream",
          "text": [
            "\n",
            "Validation Epoch 19: Avg Loss: 1.8742, Overall Mean IoU: 0.1979\n",
            "\n",
            "--- Epoch 20/50 ---\n"
          ]
        },
        {
          "name": "stderr",
          "output_type": "stream",
          "text": []
        },
        {
          "name": "stdout",
          "output_type": "stream",
          "text": [
            "\n",
            "Validation Epoch 20: Avg Loss: 2.7515, Overall Mean IoU: 0.1670\n",
            "Saving checkpoint to ./checkpoints/bisenet/checkpoint.pth...\n",
            "Checkpoint saved successfully to ./checkpoints/bisenet/checkpoint.pth\n",
            "Checkpoint 'checkpoint.pth' also saved to W&B artifacts.\n",
            "\n",
            "--- Epoch 21/50 ---\n"
          ]
        },
        {
          "name": "stderr",
          "output_type": "stream",
          "text": []
        },
        {
          "name": "stdout",
          "output_type": "stream",
          "text": [
            "\n",
            "Validation Epoch 21: Avg Loss: 2.5482, Overall Mean IoU: 0.1775\n",
            "\n",
            "--- Epoch 22/50 ---\n"
          ]
        },
        {
          "name": "stderr",
          "output_type": "stream",
          "text": []
        },
        {
          "name": "stdout",
          "output_type": "stream",
          "text": [
            "\n",
            "Validation Epoch 22: Avg Loss: 2.2197, Overall Mean IoU: 0.1849\n",
            "\n",
            "--- Epoch 23/50 ---\n"
          ]
        },
        {
          "name": "stderr",
          "output_type": "stream",
          "text": []
        },
        {
          "name": "stdout",
          "output_type": "stream",
          "text": [
            "\n",
            "Validation Epoch 23: Avg Loss: 2.2030, Overall Mean IoU: 0.1791\n",
            "\n",
            "--- Epoch 24/50 ---\n"
          ]
        },
        {
          "name": "stderr",
          "output_type": "stream",
          "text": []
        },
        {
          "name": "stdout",
          "output_type": "stream",
          "text": [
            "\n",
            "Validation Epoch 24: Avg Loss: 2.4151, Overall Mean IoU: 0.1911\n",
            "\n",
            "--- Epoch 25/50 ---\n"
          ]
        },
        {
          "name": "stderr",
          "output_type": "stream",
          "text": []
        },
        {
          "name": "stdout",
          "output_type": "stream",
          "text": [
            "\n",
            "Validation Epoch 25: Avg Loss: 2.2545, Overall Mean IoU: 0.1843\n",
            "Saving checkpoint to ./checkpoints/bisenet/checkpoint.pth...\n",
            "Checkpoint saved successfully to ./checkpoints/bisenet/checkpoint.pth\n",
            "Checkpoint 'checkpoint.pth' also saved to W&B artifacts.\n",
            "\n",
            "--- Epoch 26/50 ---\n"
          ]
        },
        {
          "name": "stderr",
          "output_type": "stream",
          "text": []
        },
        {
          "name": "stdout",
          "output_type": "stream",
          "text": [
            "\n",
            "Validation Epoch 26: Avg Loss: 2.3994, Overall Mean IoU: 0.1832\n",
            "\n",
            "--- Epoch 27/50 ---\n"
          ]
        },
        {
          "name": "stderr",
          "output_type": "stream",
          "text": []
        },
        {
          "name": "stdout",
          "output_type": "stream",
          "text": [
            "\n",
            "Validation Epoch 27: Avg Loss: 2.1712, Overall Mean IoU: 0.2014\n",
            "\n",
            "--- Epoch 28/50 ---\n"
          ]
        },
        {
          "name": "stderr",
          "output_type": "stream",
          "text": []
        },
        {
          "name": "stdout",
          "output_type": "stream",
          "text": [
            "\n",
            "Validation Epoch 28: Avg Loss: 2.3174, Overall Mean IoU: 0.1945\n",
            "\n",
            "--- Epoch 29/50 ---\n"
          ]
        },
        {
          "name": "stderr",
          "output_type": "stream",
          "text": []
        },
        {
          "name": "stdout",
          "output_type": "stream",
          "text": [
            "\n",
            "Validation Epoch 29: Avg Loss: 2.2593, Overall Mean IoU: 0.1848\n",
            "\n",
            "--- Epoch 30/50 ---\n"
          ]
        },
        {
          "name": "stderr",
          "output_type": "stream",
          "text": []
        },
        {
          "name": "stdout",
          "output_type": "stream",
          "text": [
            "\n",
            "Validation Epoch 30: Avg Loss: 1.9112, Overall Mean IoU: 0.2005\n",
            "Saving checkpoint to ./checkpoints/bisenet/checkpoint.pth...\n",
            "Checkpoint saved successfully to ./checkpoints/bisenet/checkpoint.pth\n",
            "Checkpoint 'checkpoint.pth' also saved to W&B artifacts.\n",
            "\n",
            "--- Epoch 31/50 ---\n"
          ]
        },
        {
          "name": "stderr",
          "output_type": "stream",
          "text": []
        },
        {
          "name": "stdout",
          "output_type": "stream",
          "text": [
            "\n",
            "Validation Epoch 31: Avg Loss: 2.4571, Overall Mean IoU: 0.1897\n",
            "\n",
            "--- Epoch 32/50 ---\n"
          ]
        },
        {
          "name": "stderr",
          "output_type": "stream",
          "text": []
        },
        {
          "name": "stdout",
          "output_type": "stream",
          "text": [
            "\n",
            "Validation Epoch 32: Avg Loss: 2.3160, Overall Mean IoU: 0.1997\n",
            "\n",
            "--- Epoch 33/50 ---\n"
          ]
        },
        {
          "name": "stderr",
          "output_type": "stream",
          "text": []
        },
        {
          "name": "stdout",
          "output_type": "stream",
          "text": [
            "\n",
            "Validation Epoch 33: Avg Loss: 2.0608, Overall Mean IoU: 0.2002\n",
            "\n",
            "--- Epoch 34/50 ---\n"
          ]
        },
        {
          "name": "stderr",
          "output_type": "stream",
          "text": []
        },
        {
          "name": "stdout",
          "output_type": "stream",
          "text": [
            "\n",
            "Validation Epoch 34: Avg Loss: 2.6395, Overall Mean IoU: 0.1823\n",
            "\n",
            "--- Epoch 35/50 ---\n"
          ]
        },
        {
          "name": "stderr",
          "output_type": "stream",
          "text": []
        },
        {
          "name": "stdout",
          "output_type": "stream",
          "text": [
            "\n",
            "Validation Epoch 35: Avg Loss: 1.8580, Overall Mean IoU: 0.1991\n",
            "Saving checkpoint to ./checkpoints/bisenet/checkpoint.pth...\n",
            "Checkpoint saved successfully to ./checkpoints/bisenet/checkpoint.pth\n",
            "Checkpoint 'checkpoint.pth' also saved to W&B artifacts.\n",
            "\n",
            "--- Epoch 36/50 ---\n"
          ]
        },
        {
          "name": "stderr",
          "output_type": "stream",
          "text": []
        },
        {
          "name": "stdout",
          "output_type": "stream",
          "text": [
            "\n",
            "Validation Epoch 36: Avg Loss: 1.7251, Overall Mean IoU: 0.2190\n",
            "New best mIoU: 0.2190 at epoch 36\n",
            "Saving checkpoint to ./checkpoints/bisenet/best_miou_checkpoint.pth...\n",
            "Checkpoint saved successfully to ./checkpoints/bisenet/best_miou_checkpoint.pth\n",
            "Checkpoint 'best_miou_checkpoint.pth' also saved to W&B artifacts.\n",
            "\n",
            "--- Epoch 37/50 ---\n"
          ]
        },
        {
          "name": "stderr",
          "output_type": "stream",
          "text": []
        },
        {
          "name": "stdout",
          "output_type": "stream",
          "text": [
            "\n",
            "Validation Epoch 37: Avg Loss: 1.6687, Overall Mean IoU: 0.2157\n",
            "\n",
            "--- Epoch 38/50 ---\n"
          ]
        },
        {
          "name": "stderr",
          "output_type": "stream",
          "text": []
        },
        {
          "name": "stdout",
          "output_type": "stream",
          "text": [
            "\n",
            "Validation Epoch 38: Avg Loss: 2.4407, Overall Mean IoU: 0.1896\n",
            "\n",
            "--- Epoch 39/50 ---\n"
          ]
        },
        {
          "name": "stderr",
          "output_type": "stream",
          "text": []
        },
        {
          "name": "stdout",
          "output_type": "stream",
          "text": [
            "\n",
            "Validation Epoch 39: Avg Loss: 1.8620, Overall Mean IoU: 0.2002\n",
            "\n",
            "--- Epoch 40/50 ---\n"
          ]
        },
        {
          "name": "stderr",
          "output_type": "stream",
          "text": []
        },
        {
          "name": "stdout",
          "output_type": "stream",
          "text": [
            "\n",
            "Validation Epoch 40: Avg Loss: 2.2223, Overall Mean IoU: 0.1967\n",
            "Saving checkpoint to ./checkpoints/bisenet/checkpoint.pth...\n",
            "Checkpoint saved successfully to ./checkpoints/bisenet/checkpoint.pth\n",
            "Checkpoint 'checkpoint.pth' also saved to W&B artifacts.\n",
            "\n",
            "--- Epoch 41/50 ---\n"
          ]
        },
        {
          "name": "stderr",
          "output_type": "stream",
          "text": []
        },
        {
          "name": "stdout",
          "output_type": "stream",
          "text": [
            "\n",
            "Validation Epoch 41: Avg Loss: 2.0111, Overall Mean IoU: 0.2013\n",
            "\n",
            "--- Epoch 42/50 ---\n"
          ]
        },
        {
          "name": "stderr",
          "output_type": "stream",
          "text": []
        },
        {
          "name": "stdout",
          "output_type": "stream",
          "text": [
            "\n",
            "Validation Epoch 42: Avg Loss: 1.9209, Overall Mean IoU: 0.1997\n",
            "\n",
            "--- Epoch 43/50 ---\n"
          ]
        },
        {
          "name": "stderr",
          "output_type": "stream",
          "text": []
        },
        {
          "name": "stdout",
          "output_type": "stream",
          "text": [
            "\n",
            "Validation Epoch 43: Avg Loss: 2.0741, Overall Mean IoU: 0.1993\n",
            "\n",
            "--- Epoch 44/50 ---\n"
          ]
        },
        {
          "name": "stderr",
          "output_type": "stream",
          "text": []
        },
        {
          "name": "stdout",
          "output_type": "stream",
          "text": [
            "\n",
            "Validation Epoch 44: Avg Loss: 1.8614, Overall Mean IoU: 0.2064\n",
            "\n",
            "--- Epoch 45/50 ---\n"
          ]
        },
        {
          "name": "stderr",
          "output_type": "stream",
          "text": []
        },
        {
          "name": "stdout",
          "output_type": "stream",
          "text": [
            "\n",
            "Validation Epoch 45: Avg Loss: 1.9770, Overall Mean IoU: 0.1963\n",
            "Saving checkpoint to ./checkpoints/bisenet/checkpoint.pth...\n",
            "Checkpoint saved successfully to ./checkpoints/bisenet/checkpoint.pth\n",
            "Checkpoint 'checkpoint.pth' also saved to W&B artifacts.\n",
            "\n",
            "--- Epoch 46/50 ---\n"
          ]
        },
        {
          "name": "stderr",
          "output_type": "stream",
          "text": []
        },
        {
          "name": "stdout",
          "output_type": "stream",
          "text": [
            "\n",
            "Validation Epoch 46: Avg Loss: 2.0181, Overall Mean IoU: 0.2004\n",
            "\n",
            "--- Epoch 47/50 ---\n"
          ]
        },
        {
          "name": "stderr",
          "output_type": "stream",
          "text": []
        },
        {
          "name": "stdout",
          "output_type": "stream",
          "text": [
            "\n",
            "Validation Epoch 47: Avg Loss: 2.1383, Overall Mean IoU: 0.1939\n",
            "\n",
            "--- Epoch 48/50 ---\n"
          ]
        },
        {
          "name": "stderr",
          "output_type": "stream",
          "text": []
        },
        {
          "name": "stdout",
          "output_type": "stream",
          "text": [
            "\n",
            "Validation Epoch 48: Avg Loss: 1.9709, Overall Mean IoU: 0.2049\n",
            "\n",
            "--- Epoch 49/50 ---\n"
          ]
        },
        {
          "name": "stderr",
          "output_type": "stream",
          "text": []
        },
        {
          "name": "stdout",
          "output_type": "stream",
          "text": [
            "\n",
            "Validation Epoch 49: Avg Loss: 2.0387, Overall Mean IoU: 0.1987\n",
            "\n",
            "--- Epoch 50/50 ---\n"
          ]
        },
        {
          "name": "stderr",
          "output_type": "stream",
          "text": []
        },
        {
          "name": "stdout",
          "output_type": "stream",
          "text": [
            "\n",
            "Validation Epoch 50: Avg Loss: 1.9405, Overall Mean IoU: 0.2028\n",
            "\n",
            "--- Training Finished ---\n",
            "Loading best model from ./checkpoints/bisenet/best_miou_checkpoint.pth for final evaluation...\n",
            "Loading checkpoint from './checkpoints/bisenet/best_miou_checkpoint.pth'...\n",
            "Checkpoint loaded successfully.\n",
            "Loaded per-class IoUs from the best checkpoint.\n",
            "\n",
            "Calculating performance metrics (FLOPs, Latency on current model state)...\n",
            "Calculating FLOPs and Parameters...\n"
          ]
        },
        {
          "name": "stderr",
          "output_type": "stream",
          "text": [
            "WARNING:fvcore.nn.jit_analysis:Unsupported operator aten::max_pool2d encountered 1 time(s)\n",
            "WARNING:fvcore.nn.jit_analysis:Unsupported operator aten::add_ encountered 8 time(s)\n",
            "WARNING:fvcore.nn.jit_analysis:Unsupported operator aten::mean encountered 2 time(s)\n",
            "WARNING:fvcore.nn.jit_analysis:Unsupported operator aten::sigmoid encountered 3 time(s)\n",
            "WARNING:fvcore.nn.jit_analysis:Unsupported operator aten::mul encountered 4 time(s)\n",
            "WARNING:fvcore.nn.jit_analysis:Unsupported operator aten::add encountered 1 time(s)\n",
            "WARNING:fvcore.nn.jit_analysis:The following submodules of the model were never called during the trace of the graph. They may be unused, or they were accessed by direct calls to .forward() or via other python methods. In the latter case they will have zeros for statistics, though their statistics will still contribute to their parent calling module.\n",
            "context_path.features.avgpool, context_path.features.fc, supervision1, supervision2\n"
          ]
        },
        {
          "name": "stdout",
          "output_type": "stream",
          "text": [
            "Calculating Latency (warmup: 10 iters, measurement: 100 iters)...\n",
            " Latency iteration 10/100 completed.\n",
            " Latency iteration 20/100 completed.\n",
            " Latency iteration 30/100 completed.\n",
            " Latency iteration 40/100 completed.\n",
            " Latency iteration 50/100 completed.\n",
            " Latency iteration 60/100 completed.\n",
            " Latency iteration 70/100 completed.\n",
            " Latency iteration 80/100 completed.\n",
            " Latency iteration 90/100 completed.\n",
            " Latency iteration 100/100 completed.\n",
            "\n",
            "--- Final Results for Run: Step3b_HorizontalFlip ---\n",
            "| Best Overall mIoU on CITYSCAPES (%) | 21.90 |\n",
            "| Latency (ms) @ 1024x512 | 4.65 +/- 0.26 |\n",
            "| FLOPs (G) @ 1024x512    | 25.78 |\n",
            "| Parameters (M)               | 12.58 |\n",
            "\n",
            "Per-Class IoUs from Best Model Checkpoint:\n",
            "| Class Name           | IoU     |\n",
            "|----------------------|---------|\n",
            "| road                 | 0.3571 |\n",
            "| sidewalk             | 0.1228 |\n",
            "| building             | 0.6140 |\n",
            "| wall                 | 0.0406 |\n",
            "| fence                | 0.1012 |\n",
            "| pole                 | 0.1744 |\n",
            "| traffic light        | 0.1566 |\n",
            "| traffic sign         | 0.1173 |\n",
            "| vegetation           | 0.7224 |\n",
            "| terrain              | 0.0388 |\n",
            "| sky                  | 0.5928 |\n",
            "| person               | 0.4423 |\n",
            "| rider                | 0.0004 |\n",
            "| car                  | 0.5806 |\n",
            "| truck                | 0.0258 |\n",
            "| bus                  | 0.0644 |\n",
            "| train                | 0.0079 |\n",
            "| motorcycle           | 0.0000 |\n",
            "| bicycle              | 0.0012 |\n",
            "------------------------------------\n"
          ]
        },
        {
          "data": {
            "text/html": [],
            "text/plain": [
              "<IPython.core.display.HTML object>"
            ]
          },
          "metadata": {},
          "output_type": "display_data"
        },
        {
          "data": {
            "text/html": [
              "<br>    <style><br>        .wandb-row {<br>            display: flex;<br>            flex-direction: row;<br>            flex-wrap: wrap;<br>            justify-content: flex-start;<br>            width: 100%;<br>        }<br>        .wandb-col {<br>            display: flex;<br>            flex-direction: column;<br>            flex-basis: 100%;<br>            flex: 1;<br>            padding: 10px;<br>        }<br>    </style><br><div class=\"wandb-row\"><div class=\"wandb-col\"><h3>Run history:</h3><br/><table class=\"wandb\"><tr><td>epoch</td><td>▁▁▁▁▂▂▂▂▂▂▃▃▃▃▃▄▄▄▄▄▄▅▅▅▅▅▆▆▆▆▆▇▇▇▇▇▇███</td></tr><tr><td>train/batch_loss</td><td>██▄▄▃▂▂▂▂▁▂▂▂▁▂▁▁▁▁▁▁▁▁▁▁▁▁▁▁▁▁▁▁▁▁▁▁▁▁▁</td></tr><tr><td>train/epoch_loss</td><td>█▅▃▃▂▂▂▂▂▂▁▁▁▁▁▁▁▁▁▁▁▁▁▁▁▁▁▁▁▁▁▁▁▁▁▁▁▁▁▁</td></tr><tr><td>train/learning_rate</td><td>█████▇▇▇▇▇▇▇▆▆▆▆▆▆▆▆▅▅▅▄▄▄▃▃▃▃▃▃▃▂▂▂▂▂▁▁</td></tr><tr><td>val/epoch_loss</td><td>▆▃▇▇▄▁▆█▃▃▃▆▄▇▃▂▇▆▄▄▄▅▃▄▄▅▄▃▆▂▅▂▄▃▂▂▂▃▂▂</td></tr><tr><td>val/mIoU</td><td>▁▄▄▃▄▆▅▄▇▇▄▆▄▅▄▄▅▅▅▆▅▇▆▅▇▆▇▅▆█▆▇▆▇▆▇▆▆▇▇</td></tr><tr><td>val_iou_per_class/iou_bicycle</td><td>▁▁▁▁▁▁▁▁▁▁▁▁▁▁▁▁▁▁▁▂▁▂▁▁▁▁▁▁▇█▁▄▁█▁▇▄▂▄▅</td></tr><tr><td>val_iou_per_class/iou_building</td><td>▃▅▆▄▃▅▅█▇▇▇▇▅▆▄▄▃▃▆▄▁██▅▅▆▃▅▆▆▄▄▁▅▃▂▄▃▃▃</td></tr><tr><td>val_iou_per_class/iou_bus</td><td>▂▁▂▁▂▁▁▂▃▄█▁▅▁▃▅▄▃▅▄▂▅▃▂▄▃▃▄▇▃▅▄▂▄▄▄▇▄▅▄</td></tr><tr><td>val_iou_per_class/iou_car</td><td>▁▆▅▄▅▇▆▅▆▅▁▅▄▅▅▂▅▅▄▅▇▇▆▃█▆▄▆█▇▇█▅▆█▇▆▆█▇</td></tr><tr><td>val_iou_per_class/iou_fence</td><td>▃▃▁▁▂▆█▄▆▆▄▂▇▄▁▁▁▃▂▃▂▃▂▅▁▄▄▃▄▅▃▃▃▄▄▄▃▃▄▃</td></tr><tr><td>val_iou_per_class/iou_motorcycle</td><td>▁▁█▃▁▁▁▁▁▁▁▁▁▁▁▅▁▁▁▁▁▁▃▁▁▁▁▁▁▁▁▁▁▁▁▁▁▁▁▁</td></tr><tr><td>val_iou_per_class/iou_person</td><td>▁▄▆▅▅▇▆▇▇▇▆▇▅▇▆▆▇▇█▇▆▇▇▇█▇▇▇█▇█▇▆▇▇▆▇▇▇▇</td></tr><tr><td>val_iou_per_class/iou_pole</td><td>▁▄▃▅▄▇▇▄▇▆▆▄▅▅▆▆▅▅▄▅▆▇▅▅▇▆▇▇██▇▇███▇█▇▇▇</td></tr><tr><td>val_iou_per_class/iou_rider</td><td>▂▁▁▁▁▂▁▁▁▁▁▁▁▁▁▁▁▁▁▁▁▄█▁▁▁▅▅▂▁▃▁▁▁▁▁▁▁▁▁</td></tr><tr><td>val_iou_per_class/iou_road</td><td>▁▅▂▂▅█▂▃▄▅▅▄▅▂▅▆▂▃▅▄▄▄▅▅▅▃▄▆▃▇▄▇▆▆▆▇▆▅▇▇</td></tr><tr><td>val_iou_per_class/iou_sidewalk</td><td>▂▄▃▃▁▃▄▄▆█▄▃▅▆▃▄▅▃▄▇▆▅▅▄▇▇▅▄▆▆▅▇▆▇▆▆▆█▇▇</td></tr><tr><td>val_iou_per_class/iou_sky</td><td>▁▅▅▁▃▆▆▅▃▆▄▅▄▃▃█▆█▆▆▇▇▇▆▆▇▆▇▇▇▆▆█▆▆▆▇▆▆▆</td></tr><tr><td>val_iou_per_class/iou_terrain</td><td>▃█▂▅█▂▂▂▂▂▁▃▁▁▂▁▁▂▃▂▂▂▁▁▃▃▁▄▂▂▃▂▄▂▄▂▄▃▃▃</td></tr><tr><td>val_iou_per_class/iou_traffic light</td><td>▁▃▃▄▃▇▂▆█▆▇▃▆▆▅▅▅▆▇▇▅▅▅▇▆▆▇▆▆▆▆▅▆▆▆▅▅▅▅▅</td></tr><tr><td>val_iou_per_class/iou_traffic sign</td><td>▁▃▃▄▅▅▅█▆█▆█▃▅▅▇▅▅█▅▆▇▄▄▅▆▄▅▇▅▅▅▅▆▅▅▅▅▅▅</td></tr><tr><td>val_iou_per_class/iou_train</td><td>▁▄▇▆▃█▆▂▁▃▅▆▁▁▄▁▂▃▂▃▆▂▂▁▂▅▃▂▂▃▂▁▁▂▁▁▂▂▁▁</td></tr><tr><td>val_iou_per_class/iou_truck</td><td>█▁▁▁▁▃▁▁▂▁▂▄▄▂▂▄▁▁▂▃▃▁▂▂▃▂▂▂▂▃▃▃▂▂▄▃▃▃▃▃</td></tr><tr><td>val_iou_per_class/iou_vegetation</td><td>▆▆▄█▇▃▇▆▇▇▆▇▁▇▇▃▄▅▅▆▄▄▄▅▇▆▇▅▇▇▄▇▇▆▆▇▆▆▆▆</td></tr><tr><td>val_iou_per_class/iou_wall</td><td>▃█▄▄▄▅▄▂▄▄▁▄▅▂▂▅▃▄▂▃▄▃▄▆▆▃▄▆▃▄▃▂▂▃▃▄▃▃▃▃</td></tr></table><br/></div><div class=\"wandb-col\"><h3>Run summary:</h3><br/><table class=\"wandb\"><tr><td>Step3b_HorizontalFlip_best_overall_val_mIoU_percent</td><td>21.89742</td></tr><tr><td>Step3b_HorizontalFlip_final_iou_bicycle</td><td>0.00116</td></tr><tr><td>Step3b_HorizontalFlip_final_iou_building</td><td>0.61399</td></tr><tr><td>Step3b_HorizontalFlip_final_iou_bus</td><td>0.06444</td></tr><tr><td>Step3b_HorizontalFlip_final_iou_car</td><td>0.58058</td></tr><tr><td>Step3b_HorizontalFlip_final_iou_fence</td><td>0.10118</td></tr><tr><td>Step3b_HorizontalFlip_final_iou_motorcycle</td><td>0</td></tr><tr><td>Step3b_HorizontalFlip_final_iou_person</td><td>0.44229</td></tr><tr><td>Step3b_HorizontalFlip_final_iou_pole</td><td>0.17441</td></tr><tr><td>Step3b_HorizontalFlip_final_iou_rider</td><td>0.00037</td></tr><tr><td>Step3b_HorizontalFlip_final_iou_road</td><td>0.3571</td></tr><tr><td>Step3b_HorizontalFlip_final_iou_sidewalk</td><td>0.1228</td></tr><tr><td>Step3b_HorizontalFlip_final_iou_sky</td><td>0.59276</td></tr><tr><td>Step3b_HorizontalFlip_final_iou_terrain</td><td>0.03879</td></tr><tr><td>Step3b_HorizontalFlip_final_iou_traffic light</td><td>0.15656</td></tr><tr><td>Step3b_HorizontalFlip_final_iou_traffic sign</td><td>0.11732</td></tr><tr><td>Step3b_HorizontalFlip_final_iou_train</td><td>0.00791</td></tr><tr><td>Step3b_HorizontalFlip_final_iou_truck</td><td>0.02583</td></tr><tr><td>Step3b_HorizontalFlip_final_iou_vegetation</td><td>0.72244</td></tr><tr><td>Step3b_HorizontalFlip_final_iou_wall</td><td>0.04058</td></tr><tr><td>Step3b_HorizontalFlip_flops_g</td><td>25.77978</td></tr><tr><td>Step3b_HorizontalFlip_latency_ms_mean</td><td>4.6468</td></tr><tr><td>Step3b_HorizontalFlip_params_m</td><td>12.58167</td></tr><tr><td>best_val_mIoU</td><td>0.21897</td></tr><tr><td>epoch</td><td>50</td></tr><tr><td>final_train_epoch_loss_last_epoch</td><td>0.06636</td></tr><tr><td>train/batch_loss</td><td>0.068</td></tr><tr><td>train/epoch_loss</td><td>0.06636</td></tr><tr><td>train/learning_rate</td><td>0.0</td></tr><tr><td>val/epoch_loss</td><td>1.94055</td></tr><tr><td>val/mIoU</td><td>0.20284</td></tr><tr><td>val_iou_per_class/iou_bicycle</td><td>0.00059</td></tr><tr><td>val_iou_per_class/iou_building</td><td>0.51106</td></tr><tr><td>val_iou_per_class/iou_bus</td><td>0.0296</td></tr><tr><td>val_iou_per_class/iou_car</td><td>0.56476</td></tr><tr><td>val_iou_per_class/iou_fence</td><td>0.07289</td></tr><tr><td>val_iou_per_class/iou_motorcycle</td><td>0</td></tr><tr><td>val_iou_per_class/iou_person</td><td>0.4049</td></tr><tr><td>val_iou_per_class/iou_pole</td><td>0.16351</td></tr><tr><td>val_iou_per_class/iou_rider</td><td>0</td></tr><tr><td>val_iou_per_class/iou_road</td><td>0.33799</td></tr><tr><td>val_iou_per_class/iou_sidewalk</td><td>0.14958</td></tr><tr><td>val_iou_per_class/iou_sky</td><td>0.58292</td></tr><tr><td>val_iou_per_class/iou_terrain</td><td>0.04728</td></tr><tr><td>val_iou_per_class/iou_traffic light</td><td>0.13133</td></tr><tr><td>val_iou_per_class/iou_traffic sign</td><td>0.07566</td></tr><tr><td>val_iou_per_class/iou_train</td><td>0.00086</td></tr><tr><td>val_iou_per_class/iou_truck</td><td>0.03418</td></tr><tr><td>val_iou_per_class/iou_vegetation</td><td>0.70762</td></tr><tr><td>val_iou_per_class/iou_wall</td><td>0.03919</td></tr></table><br/></div></div>"
            ],
            "text/plain": [
              "<IPython.core.display.HTML object>"
            ]
          },
          "metadata": {},
          "output_type": "display_data"
        },
        {
          "data": {
            "text/html": [
              " View run <strong style=\"color:#cdcd00\">expert-totem-25</strong> at: <a href='https://wandb.ai/RTDA-SemSeg/RTDA-SemSeg/runs/aligimg3' target=\"_blank\">https://wandb.ai/RTDA-SemSeg/RTDA-SemSeg/runs/aligimg3</a><br> View project at: <a href='https://wandb.ai/RTDA-SemSeg/RTDA-SemSeg' target=\"_blank\">https://wandb.ai/RTDA-SemSeg/RTDA-SemSeg</a><br>Synced 5 W&B file(s), 17 media file(s), 0 artifact file(s) and 2 other file(s)"
            ],
            "text/plain": [
              "<IPython.core.display.HTML object>"
            ]
          },
          "metadata": {},
          "output_type": "display_data"
        },
        {
          "data": {
            "text/html": [
              "Find logs at: <code>./wandb/run-20250602_171619-aligimg3/logs</code>"
            ],
            "text/plain": [
              "<IPython.core.display.HTML object>"
            ]
          },
          "metadata": {},
          "output_type": "display_data"
        },
        {
          "name": "stdout",
          "output_type": "stream",
          "text": [
            "Run completed.\n",
            "\n",
            "--- Full training run has finished (or attempted to finish). ---\n"
          ]
        }
      ],
      "source": [
        "import sys\n",
        "import importlib\n",
        "\n",
        "# --- Re-import config to pick up manual changes ---\n",
        "try:\n",
        "    import config as cfg\n",
        "    importlib.reload(cfg) # Make sure the manually edited paths are loaded\n",
        "\n",
        "except ImportError:\n",
        "    print(\"ERROR: Could not import config.py. Ensure it's in your project path and sys.path is correct.\")\n",
        "    raise\n",
        "except Exception as e:\n",
        "    print(f\"ERROR during config reload or path check: {e}\")\n",
        "    raise\n",
        "\n",
        "# --- Run main.py's logic ---\n",
        "# Store original sys.argv to restore later if needed\n",
        "original_argv = sys.argv.copy()\n",
        "\n",
        "\n",
        "sys.argv = [\n",
        "    'main.py'\n",
        "]\n",
        "print(f\"\\nRunning main script with simulated command line arguments: {sys.argv}\")\n",
        "\n",
        "try:\n",
        "    import main as project_main\n",
        "    importlib.reload(project_main) # Re-import main in case its imports (like config) changed\n",
        "    project_main.main()\n",
        "    print(\"\\n--- Full training run has finished (or attempted to finish). ---\")\n",
        "except Exception as e:\n",
        "    import traceback\n",
        "    print(f\"An error occurred during the execution of main(): {e}\")\n",
        "    print(\"Full traceback:\")\n",
        "    print(traceback.format_exc())\n",
        "finally:\n",
        "    # Restore original sys.argv\n",
        "    sys.argv = original_argv"
      ]
    }
  ],
  "metadata": {
    "accelerator": "GPU",
    "colab": {
      "gpuType": "A100",
      "machine_shape": "hm",
      "provenance": []
    },
    "kernelspec": {
      "display_name": "Python 3",
      "name": "python3"
    },
    "language_info": {
      "name": "python"
    }
  },
  "nbformat": 4,
  "nbformat_minor": 0
}
