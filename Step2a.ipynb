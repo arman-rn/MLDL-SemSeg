{
  "cells": [
    {
      "cell_type": "code",
      "execution_count": 1,
      "metadata": {
        "colab": {
          "base_uri": "https://localhost:8080/"
        },
        "id": "fvk7M4j73kL2",
        "outputId": "520e3305-7531-4d67-87a5-8353e6b05a1a"
      },
      "outputs": [
        {
          "name": "stdout",
          "output_type": "stream",
          "text": [
            "Cloning into 'RTDA_SemanticSegmentation_Project'...\n",
            "remote: Enumerating objects: 80, done.\u001b[K\n",
            "remote: Counting objects: 100% (80/80), done.\u001b[K\n",
            "remote: Compressing objects: 100% (57/57), done.\u001b[K\n",
            "remote: Total 80 (delta 31), reused 67 (delta 18), pack-reused 0 (from 0)\u001b[K\n",
            "Receiving objects: 100% (80/80), 897.06 KiB | 7.01 MiB/s, done.\n",
            "Resolving deltas: 100% (31/31), done.\n",
            "Repository cloned into ./RTDA_SemanticSegmentation_Project\n"
          ]
        }
      ],
      "source": [
        "# Clone Git Repository\n",
        "GIT_REPO_URL = \"https://github.com/arman-rn/RTDA-SemanticSegmentation.git\"  # IMPORTANT: Replace with your repo URL\n",
        "PROJECT_FOLDER_NAME = \"RTDA_SemanticSegmentation_Project\"  # Choose a name for the cloned folder\n",
        "\n",
        "!git clone {GIT_REPO_URL} {PROJECT_FOLDER_NAME}\n",
        "\n",
        "print(f\"Repository cloned into ./{PROJECT_FOLDER_NAME}\")"
      ]
    },
    {
      "cell_type": "code",
      "execution_count": 2,
      "metadata": {
        "colab": {
          "base_uri": "https://localhost:8080/"
        },
        "id": "acH8dJTl33DZ",
        "outputId": "3b8defa2-1426-44ca-a2f1-e89f42b65246"
      },
      "outputs": [
        {
          "name": "stdout",
          "output_type": "stream",
          "text": [
            "Changed current working directory to: /content/RTDA_SemanticSegmentation_Project\n",
            "Appended '/content/RTDA_SemanticSegmentation_Project' to sys.path.\n",
            "\n",
            "Contents of current directory (should be your project root):\n",
            ".\t\tdatasets    model_loader.py  .python-version  utils.py\n",
            "..\t\t.git\t    models\t     README.md\t      uv.lock\n",
            "config.py\t.gitignore  notebook.ipynb   scripts\t      validation.py\n",
            "data_loader.py\tmain.py     pyproject.toml   train.py\n"
          ]
        }
      ],
      "source": [
        "# Navigate to Project Directory & Setup Path\n",
        "import sys\n",
        "import os\n",
        "\n",
        "project_path = os.path.join('/content/', PROJECT_FOLDER_NAME)\n",
        "\n",
        "if not os.path.isdir(project_path):\n",
        "    print(f\"ERROR: Project path '{project_path}' does not exist. \\n\"\n",
        "          \"Please ensure the 'git clone' command in the previous cell was successful \"\n",
        "          \"and used the correct PROJECT_FOLDER_NAME.\")\n",
        "else:\n",
        "    os.chdir(project_path)\n",
        "    print(f\"Changed current working directory to: {os.getcwd()}\")\n",
        "\n",
        "    if project_path not in sys.path:\n",
        "        sys.path.append(project_path)\n",
        "        print(f\"Appended '{project_path}' to sys.path.\")\n",
        "    else:\n",
        "        print(f\"'{project_path}' is already in sys.path.\")\n",
        "\n",
        "print(\"\\nContents of current directory (should be your project root):\")\n",
        "!ls -a"
      ]
    },
    {
      "cell_type": "code",
      "execution_count": 3,
      "metadata": {
        "colab": {
          "base_uri": "https://localhost:8080/"
        },
        "id": "8tlF-xzd4FyM",
        "outputId": "3966b671-4b3d-482a-b9e1-d6b163bf0692"
      },
      "outputs": [
        {
          "name": "stdout",
          "output_type": "stream",
          "text": [
            "\n",
            "Installing other libraries...\n",
            "Collecting fvcore\n",
            "  Downloading fvcore-0.1.5.post20221221.tar.gz (50 kB)\n",
            "\u001b[2K     \u001b[90m━━━━━━━━━━━━━━━━━━━━━━━━━━━━━━━━━━━━━━━━\u001b[0m \u001b[32m50.2/50.2 kB\u001b[0m \u001b[31m1.8 MB/s\u001b[0m eta \u001b[36m0:00:00\u001b[0m\n",
            "\u001b[?25h  Preparing metadata (setup.py) ... \u001b[?25l\u001b[?25hdone\n",
            "Requirement already satisfied: numpy in /usr/local/lib/python3.11/dist-packages (from fvcore) (2.0.2)\n",
            "Collecting yacs>=0.1.6 (from fvcore)\n",
            "  Downloading yacs-0.1.8-py3-none-any.whl.metadata (639 bytes)\n",
            "Requirement already satisfied: pyyaml>=5.1 in /usr/local/lib/python3.11/dist-packages (from fvcore) (6.0.2)\n",
            "Requirement already satisfied: tqdm in /usr/local/lib/python3.11/dist-packages (from fvcore) (4.67.1)\n",
            "Requirement already satisfied: termcolor>=1.1 in /usr/local/lib/python3.11/dist-packages (from fvcore) (3.1.0)\n",
            "Requirement already satisfied: Pillow in /usr/local/lib/python3.11/dist-packages (from fvcore) (11.2.1)\n",
            "Requirement already satisfied: tabulate in /usr/local/lib/python3.11/dist-packages (from fvcore) (0.9.0)\n",
            "Collecting iopath>=0.1.7 (from fvcore)\n",
            "  Downloading iopath-0.1.10.tar.gz (42 kB)\n",
            "\u001b[2K     \u001b[90m━━━━━━━━━━━━━━━━━━━━━━━━━━━━━━━━━━━━━━━━\u001b[0m \u001b[32m42.2/42.2 kB\u001b[0m \u001b[31m2.7 MB/s\u001b[0m eta \u001b[36m0:00:00\u001b[0m\n",
            "\u001b[?25h  Preparing metadata (setup.py) ... \u001b[?25l\u001b[?25hdone\n",
            "Requirement already satisfied: typing_extensions in /usr/local/lib/python3.11/dist-packages (from iopath>=0.1.7->fvcore) (4.13.2)\n",
            "Collecting portalocker (from iopath>=0.1.7->fvcore)\n",
            "  Downloading portalocker-3.1.1-py3-none-any.whl.metadata (8.6 kB)\n",
            "Downloading yacs-0.1.8-py3-none-any.whl (14 kB)\n",
            "Downloading portalocker-3.1.1-py3-none-any.whl (19 kB)\n",
            "Building wheels for collected packages: fvcore, iopath\n",
            "  Building wheel for fvcore (setup.py) ... \u001b[?25l\u001b[?25hdone\n",
            "  Created wheel for fvcore: filename=fvcore-0.1.5.post20221221-py3-none-any.whl size=61397 sha256=6459bfa6d104b482771d55a9394fea57a8fe784e13c1ba9d9a4e60c9381175aa\n",
            "  Stored in directory: /root/.cache/pip/wheels/65/71/95/3b8fde5c65c6e4a806e0867c1651dcc71a1cb2f3430e8f355f\n",
            "  Building wheel for iopath (setup.py) ... \u001b[?25l\u001b[?25hdone\n",
            "  Created wheel for iopath: filename=iopath-0.1.10-py3-none-any.whl size=31527 sha256=9bd8d8800fa1ee2bf87257c6495e58669386f96b25e5fce45642e87535b7e840\n",
            "  Stored in directory: /root/.cache/pip/wheels/ba/5e/16/6117f8fe7e9c0c161a795e10d94645ebcf301ccbd01f66d8ec\n",
            "Successfully built fvcore iopath\n",
            "Installing collected packages: yacs, portalocker, iopath, fvcore\n",
            "Successfully installed fvcore-0.1.5.post20221221 iopath-0.1.10 portalocker-3.1.1 yacs-0.1.8\n",
            "\n",
            "Dependency installation complete.\n"
          ]
        }
      ],
      "source": [
        "print(\"\\nInstalling other libraries...\")\n",
        "!pip install -U fvcore\n",
        "\n",
        "print(\"\\nDependency installation complete.\")"
      ]
    },
    {
      "cell_type": "code",
      "execution_count": 4,
      "metadata": {
        "colab": {
          "base_uri": "https://localhost:8080/"
        },
        "id": "cngZN_4B4Hjh",
        "outputId": "064f29b0-943b-4ffb-8d45-c09ff48fd769"
      },
      "outputs": [
        {
          "name": "stdout",
          "output_type": "stream",
          "text": [
            "Downloading pretrained model to: /content/RTDA_SemanticSegmentation_Project/models/deeplabv2/DeepLab_resnet_pretrained_imagenet.pth...\n",
            "Downloading...\n",
            "From (original): https://drive.google.com/uc?id=1ZX0UCXvJwqd2uBGCX7LI2n-DfMg3t74v\n",
            "From (redirected): https://drive.google.com/uc?id=1ZX0UCXvJwqd2uBGCX7LI2n-DfMg3t74v&confirm=t&uuid=fd454488-19d3-4741-98f3-47c2dec5a4bc\n",
            "To: /content/RTDA_SemanticSegmentation_Project/models/deeplabv2/DeepLab_resnet_pretrained_imagenet.pth\n",
            "100% 177M/177M [00:02<00:00, 83.6MB/s]\n",
            "Pretrained model downloaded successfully.\n",
            "\n",
            "Downloading dataset to: /content/datasets/Cityscapes.zip...\n",
            "Downloading...\n",
            "From (original): https://drive.google.com/uc?id=15Jed1uorRSpyQOwyvi_A8pESQDK5t44p\n",
            "From (redirected): https://drive.google.com/uc?id=15Jed1uorRSpyQOwyvi_A8pESQDK5t44p&confirm=t&uuid=5180735b-8d5c-4eb5-a70c-68921fccc2e9\n",
            "To: /content/datasets/Cityscapes.zip\n",
            "100% 4.97G/4.97G [00:51<00:00, 96.3MB/s]\n",
            "Dataset compressed file downloaded successfully. Now extracting...\n",
            "Attempted to unzip into /content/datasets\n",
            "Dataset successfully extracted. Expected data path for config.py: '/content/datasets/Cityscapes/Cityspaces'\n",
            "Sample content: ['gtFine', 'images']\n",
            "  'gtFine' folder found.\n",
            "  'images' or 'leftImg8bit' folder found.\n",
            "\n",
            "--- ACTION REQUIRED: Update config.py (MANUALLY or SCRIPTED) ---\n",
            "1. Ensure DATASET_PATH in config.py points to: '/content/datasets/Cityscapes/Cityspaces'\n",
            "2. Ensure PRETRAINED_MODEL_PATH in config.py points to: '/content/RTDA_SemanticSegmentation_Project/models/deeplabv2/DeepLab_resnet_pretrained_imagenet.pth'\n",
            "   (If ROOT_DIR in config.py is '.', PRETRAINED_MODEL_PATH could be relative like 'models/deeplabv2/DeepLab_resnet_pretrained_imagenet.pth')\n"
          ]
        }
      ],
      "source": [
        "# Download Dataset and Pretrained Model using gdown\n",
        "import os\n",
        "\n",
        "# --- Define Paths and File IDs/URLs ---\n",
        "\n",
        "# Pretrained Model (e.g., DeepLab_resnet_pretrained_imagenet.pth)\n",
        "# IMPORTANT: Replace with YOUR Google Drive File ID or a direct public download URL\n",
        "PRETRAINED_MODEL_GDRIVE_ID_OR_URL = \"1ZX0UCXvJwqd2uBGCX7LI2n-DfMg3t74v\" # Placeholder\n",
        "PRETRAINED_MODEL_DEST_DIR = os.path.join(project_path, 'models', 'deeplabv2') # Assumes project_path is CWD\n",
        "PRETRAINED_MODEL_FILENAME = \"DeepLab_resnet_pretrained_imagenet.pth\"\n",
        "pretrained_model_full_path_for_config = os.path.join(PRETRAINED_MODEL_DEST_DIR, PRETRAINED_MODEL_FILENAME)\n",
        "\n",
        "# Dataset (e.g., a zip file of Cityscapes)\n",
        "# IMPORTANT: Replace with YOUR Google Drive File ID or a direct public download URL\n",
        "DATASET_GDRIVE_ID_OR_URL = \"15Jed1uorRSpyQOwyvi_A8pESQDK5t44p\" # Placeholder\n",
        "DATASET_COMPRESSED_FILENAME = \"Cityscapes.zip\"  # Example: your_dataset.zip or your_dataset.tar.gz\n",
        "DATASET_DOWNLOAD_PARENT_DIR = \"/content/datasets\" # General directory in Colab to download and extract\n",
        "dataset_compressed_full_path = os.path.join(DATASET_DOWNLOAD_PARENT_DIR, DATASET_COMPRESSED_FILENAME)\n",
        "\n",
        "# Path that your config.py's DATASET_PATH should point to after extraction.\n",
        "# Based on your structure \"Cityscapes/Cityspaces/gtFine\" and \"Cityscapes/Cityspaces/images\":\n",
        "# If DATASET_COMPRESSED_FILENAME (\"Cityscapes.zip\") extracts a top-level folder also named \"Cityscapes\",\n",
        "# then the path will be /content/datasets/Cityscapes/Cityspaces/\n",
        "final_dataset_path_for_config = os.path.join(DATASET_DOWNLOAD_PARENT_DIR, \"Cityscapes\", \"Cityspaces\")\n",
        "# If your zip doesn't create a top-level \"Cityscapes\" folder, adjust accordingly:\n",
        "# e.g., final_dataset_path_for_config = os.path.join(DATASET_DOWNLOAD_PARENT_DIR, \"Cityspaces\")\n",
        "\n",
        "# --- Create Directories ---\n",
        "os.makedirs(PRETRAINED_MODEL_DEST_DIR, exist_ok=True)\n",
        "os.makedirs(DATASET_DOWNLOAD_PARENT_DIR, exist_ok=True)\n",
        "\n",
        "# --- Download Pretrained Model ---\n",
        "print(f\"Downloading pretrained model to: {pretrained_model_full_path_for_config}...\")\n",
        "if PRETRAINED_MODEL_GDRIVE_ID_OR_URL != \"YOUR_PRETRAINED_MODEL_FILE_ID_OR_URL\":\n",
        "    !gdown --fuzzy {PRETRAINED_MODEL_GDRIVE_ID_OR_URL} -O {pretrained_model_full_path_for_config}\n",
        "    if os.path.exists(pretrained_model_full_path_for_config) and os.path.getsize(pretrained_model_full_path_for_config) > 0:\n",
        "        print(\"Pretrained model downloaded successfully.\")\n",
        "    else:\n",
        "        print(f\"ERROR: Pretrained model download FAILED. Check ID/URL '{PRETRAINED_MODEL_GDRIVE_ID_OR_URL}' and permissions.\")\n",
        "else:\n",
        "    print(\"SKIPPING pretrained model download: Placeholder ID/URL not changed.\")\n",
        "\n",
        "# --- Download and Extract Dataset ---\n",
        "print(f\"\\nDownloading dataset to: {dataset_compressed_full_path}...\")\n",
        "if DATASET_GDRIVE_ID_OR_URL != \"YOUR_DATASET_COMPRESSED_FILE_ID_OR_URL\":\n",
        "    !gdown --fuzzy {DATASET_GDRIVE_ID_OR_URL} -O {dataset_compressed_full_path}\n",
        "\n",
        "    if os.path.exists(dataset_compressed_full_path) and os.path.getsize(dataset_compressed_full_path) > 0:\n",
        "        print(\"Dataset compressed file downloaded successfully. Now extracting...\")\n",
        "        if DATASET_COMPRESSED_FILENAME.endswith(\".zip\"):\n",
        "            !unzip -q {dataset_compressed_full_path} -d {DATASET_DOWNLOAD_PARENT_DIR}\n",
        "            print(f\"Attempted to unzip into {DATASET_DOWNLOAD_PARENT_DIR}\")\n",
        "        elif DATASET_COMPRESSED_FILENAME.endswith((\".tar.gz\", \".tgz\")):\n",
        "            !tar -xzf {dataset_compressed_full_path} -C {DATASET_DOWNLOAD_PARENT_DIR}\n",
        "            print(f\"Attempted to extract tar.gz into {DATASET_DOWNLOAD_PARENT_DIR}\")\n",
        "        else:\n",
        "            print(f\"File '{DATASET_COMPRESSED_FILENAME}' downloaded, but not a recognized .zip or .tar.gz. Manual extraction may be needed.\")\n",
        "\n",
        "        # Verify final dataset path\n",
        "        if os.path.isdir(final_dataset_path_for_config):\n",
        "            print(f\"Dataset successfully extracted. Expected data path for config.py: '{final_dataset_path_for_config}'\")\n",
        "            print(f\"Sample content: {os.listdir(final_dataset_path_for_config)[:5]}\")\n",
        "            # Check for gtFine and images/leftImg8bit\n",
        "            if os.path.isdir(os.path.join(final_dataset_path_for_config, \"gtFine\")):\n",
        "                print(\"  'gtFine' folder found.\")\n",
        "            else:\n",
        "                print(\"  WARNING: 'gtFine' folder NOT found in the extracted path.\")\n",
        "            if os.path.isdir(os.path.join(final_dataset_path_for_config, \"images\")) or \\\n",
        "               os.path.isdir(os.path.join(final_dataset_path_for_config, \"leftImg8bit\")):\n",
        "                print(\"  'images' or 'leftImg8bit' folder found.\")\n",
        "            else:\n",
        "                print(\"  WARNING: Neither 'images' nor 'leftImg8bit' folder NOT found in the extracted path.\")\n",
        "        else:\n",
        "            print(f\"ERROR: Expected final dataset path '{final_dataset_path_for_config}' does NOT exist after extraction.\")\n",
        "            print(f\"Contents of '{DATASET_DOWNLOAD_PARENT_DIR}': {os.listdir(DATASET_DOWNLOAD_PARENT_DIR)}\")\n",
        "            print(\"Please check your DATASET_COMPRESSED_FILENAME, zip structure, and how 'final_dataset_path_for_config' is constructed.\")\n",
        "    else:\n",
        "        print(f\"ERROR: Dataset download FAILED. Check ID/URL '{DATASET_GDRIVE_ID_OR_URL}' and permissions.\")\n",
        "else:\n",
        "    print(\"SKIPPING dataset download: Placeholder ID/URL not changed.\")\n",
        "\n",
        "print(\"\\n--- ACTION REQUIRED: Update config.py (MANUALLY or SCRIPTED) ---\")\n",
        "print(f\"1. Ensure DATASET_PATH in config.py points to: '{final_dataset_path_for_config}'\")\n",
        "print(f\"2. Ensure PRETRAINED_MODEL_PATH in config.py points to: '{pretrained_model_full_path_for_config}'\")\n",
        "print(f\"   (If ROOT_DIR in config.py is '.', PRETRAINED_MODEL_PATH could be relative like 'models/deeplabv2/{PRETRAINED_MODEL_FILENAME}')\")"
      ]
    },
    {
      "cell_type": "code",
      "execution_count": 6,
      "metadata": {
        "colab": {
          "base_uri": "https://localhost:8080/"
        },
        "id": "c7C3SP9v4hxI",
        "outputId": "a5be7de5-0a9a-4947-9b6e-28c5dd71e298"
      },
      "outputs": [
        {
          "data": {
            "text/plain": [
              "True"
            ]
          },
          "execution_count": 6,
          "metadata": {},
          "output_type": "execute_result"
        }
      ],
      "source": [
        "import wandb\n",
        "wandb.login()"
      ]
    },
    {
      "cell_type": "code",
      "execution_count": null,
      "metadata": {
        "colab": {
          "base_uri": "https://localhost:8080/",
          "height": 1000
        },
        "id": "OkFVfIxS5sZS",
        "outputId": "8cc7e121-2644-40aa-ceac-f14f9f337166"
      },
      "outputs": [
        {
          "name": "stderr",
          "output_type": "stream",
          "text": [
            "/usr/local/lib/python3.11/dist-packages/albumentations/__init__.py:28: UserWarning: A new version of Albumentations is available: '2.0.7' (you have '2.0.6'). Upgrade using: pip install -U albumentations. To disable automatic update checks, set the environment variable NO_ALBUMENTATIONS_UPDATE to 1.\n",
            "  check_for_updates()\n"
          ]
        },
        {
          "name": "stdout",
          "output_type": "stream",
          "text": [
            "Config module reloaded. Effective paths for training:\n",
            "  DATASET_PATH: /content/datasets/Cityscapes/Cityspaces\n",
            "  PRETRAINED_MODEL_PATH: ./models/deeplabv2/DeepLab_resnet_pretrained_imagenet.pth\n",
            "\n",
            "Running main script with simulated command line arguments: ['main.py']\n",
            "--- Effective Configuration ---\n",
            "Optimizer: ADAM\n",
            "Base Learning Rate (for all params): 0.0001\n",
            "Weight Decay: 0.0001\n",
            "Training for 50 epochs.\n",
            "Device: cuda\n",
            "Batch Size (from config): 8\n",
            "-----------------------------\n"
          ]
        },
        {
          "data": {
            "text/html": [
              "Tracking run with wandb version 0.19.11"
            ],
            "text/plain": [
              "<IPython.core.display.HTML object>"
            ]
          },
          "metadata": {},
          "output_type": "display_data"
        },
        {
          "data": {
            "text/html": [
              "Run data is saved locally in <code>/content/RTDA_SemanticSegmentation_Project/wandb/run-20250524_104600-5kddouna</code>"
            ],
            "text/plain": [
              "<IPython.core.display.HTML object>"
            ]
          },
          "metadata": {},
          "output_type": "display_data"
        },
        {
          "data": {
            "text/html": [
              "Syncing run <strong><a href='https://wandb.ai/RTDA-SemSeg/RTDA-SemSeg/runs/5kddouna' target=\"_blank\">trim-darkness-10</a></strong> to <a href='https://wandb.ai/RTDA-SemSeg/RTDA-SemSeg' target=\"_blank\">Weights & Biases</a> (<a href='https://wandb.me/developer-guide' target=\"_blank\">docs</a>)<br>"
            ],
            "text/plain": [
              "<IPython.core.display.HTML object>"
            ]
          },
          "metadata": {},
          "output_type": "display_data"
        },
        {
          "data": {
            "text/html": [
              " View project at <a href='https://wandb.ai/RTDA-SemSeg/RTDA-SemSeg' target=\"_blank\">https://wandb.ai/RTDA-SemSeg/RTDA-SemSeg</a>"
            ],
            "text/plain": [
              "<IPython.core.display.HTML object>"
            ]
          },
          "metadata": {},
          "output_type": "display_data"
        },
        {
          "data": {
            "text/html": [
              " View run at <a href='https://wandb.ai/RTDA-SemSeg/RTDA-SemSeg/runs/5kddouna' target=\"_blank\">https://wandb.ai/RTDA-SemSeg/RTDA-SemSeg/runs/5kddouna</a>"
            ],
            "text/plain": [
              "<IPython.core.display.HTML object>"
            ]
          },
          "metadata": {},
          "output_type": "display_data"
        },
        {
          "name": "stdout",
          "output_type": "stream",
          "text": [
            "Weights & Biases initialized successfully.\n",
            "Loading training data from: /content/datasets/Cityscapes/Cityspaces\n",
            "Using CityScapes class from: datasets.cityscapes.py\n",
            "Found 1572 training images.\n",
            "Loading validation data from: /content/datasets/Cityscapes/Cityspaces\n",
            "Found 500 validation images.\n",
            "Train loader: 196 batches, 1572 images.\n",
            "Val loader: 500 batches, 500 images.\n",
            "Loading DeepLabV2 model with 19 classes.\n",
            "Using pretrained weights from: ./models/deeplabv2/DeepLab_resnet_pretrained_imagenet.pth\n",
            "Deeplab pretraining loading...\n",
            "Model moved to device: cuda\n"
          ]
        },
        {
          "name": "stderr",
          "output_type": "stream",
          "text": [
            "\u001b[34m\u001b[1mwandb\u001b[0m: logging graph, to disable use `wandb.watch(log_graph=False)`\n"
          ]
        },
        {
          "name": "stdout",
          "output_type": "stream",
          "text": [
            "Using mixed-precision training with GradScaler on CUDA device.\n",
            "No resume checkpoint specified. Starting training from scratch.\n",
            "\n",
            "--- Epoch 1/50 ---\n"
          ]
        },
        {
          "name": "stderr",
          "output_type": "stream",
          "text": []
        },
        {
          "name": "stdout",
          "output_type": "stream",
          "text": [
            "\n",
            "Validation Epoch 1: Avg Loss: 0.3133, Mean IoU: 0.4822\n",
            "New best mIoU: 0.4822 at epoch 1\n",
            "Saving checkpoint to ./checkpoints/best_miou_checkpoint.pth...\n",
            "Checkpoint saved successfully to ./checkpoints/best_miou_checkpoint.pth\n",
            "Checkpoint 'best_miou_checkpoint.pth' also saved to W&B artifacts.\n",
            "\n",
            "--- Epoch 2/50 ---\n"
          ]
        },
        {
          "name": "stderr",
          "output_type": "stream",
          "text": []
        },
        {
          "name": "stdout",
          "output_type": "stream",
          "text": [
            "\n",
            "Validation Epoch 2: Avg Loss: 0.2604, Mean IoU: 0.5415\n",
            "New best mIoU: 0.5415 at epoch 2\n",
            "Saving checkpoint to ./checkpoints/best_miou_checkpoint.pth...\n",
            "Checkpoint saved successfully to ./checkpoints/best_miou_checkpoint.pth\n",
            "Checkpoint 'best_miou_checkpoint.pth' also saved to W&B artifacts.\n",
            "\n",
            "--- Epoch 3/50 ---\n"
          ]
        },
        {
          "name": "stderr",
          "output_type": "stream",
          "text": []
        },
        {
          "name": "stdout",
          "output_type": "stream",
          "text": [
            "\n",
            "Validation Epoch 3: Avg Loss: 0.2498, Mean IoU: 0.5754\n",
            "New best mIoU: 0.5754 at epoch 3\n",
            "Saving checkpoint to ./checkpoints/best_miou_checkpoint.pth...\n",
            "Checkpoint saved successfully to ./checkpoints/best_miou_checkpoint.pth\n",
            "Checkpoint 'best_miou_checkpoint.pth' also saved to W&B artifacts.\n",
            "\n",
            "--- Epoch 4/50 ---\n"
          ]
        },
        {
          "name": "stderr",
          "output_type": "stream",
          "text": []
        },
        {
          "name": "stdout",
          "output_type": "stream",
          "text": [
            "\n",
            "Validation Epoch 4: Avg Loss: 0.2319, Mean IoU: 0.5913\n",
            "New best mIoU: 0.5913 at epoch 4\n",
            "Saving checkpoint to ./checkpoints/best_miou_checkpoint.pth...\n",
            "Checkpoint saved successfully to ./checkpoints/best_miou_checkpoint.pth\n",
            "Checkpoint 'best_miou_checkpoint.pth' also saved to W&B artifacts.\n",
            "\n",
            "--- Epoch 5/50 ---\n"
          ]
        },
        {
          "name": "stderr",
          "output_type": "stream",
          "text": []
        },
        {
          "name": "stdout",
          "output_type": "stream",
          "text": [
            "\n",
            "Validation Epoch 5: Avg Loss: 0.2390, Mean IoU: 0.5996\n",
            "New best mIoU: 0.5996 at epoch 5\n",
            "Saving checkpoint to ./checkpoints/best_miou_checkpoint.pth...\n",
            "Checkpoint saved successfully to ./checkpoints/best_miou_checkpoint.pth\n",
            "Checkpoint 'best_miou_checkpoint.pth' also saved to W&B artifacts.\n",
            "Saving checkpoint to ./checkpoints/checkpoint.pth...\n",
            "Checkpoint saved successfully to ./checkpoints/checkpoint.pth\n",
            "Checkpoint 'checkpoint.pth' also saved to W&B artifacts.\n",
            "\n",
            "--- Epoch 6/50 ---\n"
          ]
        },
        {
          "name": "stderr",
          "output_type": "stream",
          "text": []
        },
        {
          "name": "stdout",
          "output_type": "stream",
          "text": [
            "\n",
            "Validation Epoch 6: Avg Loss: 0.2327, Mean IoU: 0.6054\n",
            "New best mIoU: 0.6054 at epoch 6\n",
            "Saving checkpoint to ./checkpoints/best_miou_checkpoint.pth...\n",
            "Checkpoint saved successfully to ./checkpoints/best_miou_checkpoint.pth\n",
            "Checkpoint 'best_miou_checkpoint.pth' also saved to W&B artifacts.\n",
            "\n",
            "--- Epoch 7/50 ---\n"
          ]
        },
        {
          "name": "stderr",
          "output_type": "stream",
          "text": []
        },
        {
          "name": "stdout",
          "output_type": "stream",
          "text": [
            "\n",
            "Validation Epoch 7: Avg Loss: 0.2267, Mean IoU: 0.6217\n",
            "New best mIoU: 0.6217 at epoch 7\n",
            "Saving checkpoint to ./checkpoints/best_miou_checkpoint.pth...\n",
            "Checkpoint saved successfully to ./checkpoints/best_miou_checkpoint.pth\n",
            "Checkpoint 'best_miou_checkpoint.pth' also saved to W&B artifacts.\n",
            "\n",
            "--- Epoch 8/50 ---\n"
          ]
        },
        {
          "name": "stderr",
          "output_type": "stream",
          "text": []
        },
        {
          "name": "stdout",
          "output_type": "stream",
          "text": [
            "\n",
            "Validation Epoch 8: Avg Loss: 0.2323, Mean IoU: 0.6182\n",
            "\n",
            "--- Epoch 9/50 ---\n"
          ]
        },
        {
          "name": "stderr",
          "output_type": "stream",
          "text": []
        },
        {
          "name": "stdout",
          "output_type": "stream",
          "text": [
            "\n",
            "Validation Epoch 9: Avg Loss: 0.2372, Mean IoU: 0.6226\n",
            "New best mIoU: 0.6226 at epoch 9\n",
            "Saving checkpoint to ./checkpoints/best_miou_checkpoint.pth...\n",
            "Checkpoint saved successfully to ./checkpoints/best_miou_checkpoint.pth\n",
            "Checkpoint 'best_miou_checkpoint.pth' also saved to W&B artifacts.\n",
            "\n",
            "--- Epoch 10/50 ---\n"
          ]
        },
        {
          "name": "stderr",
          "output_type": "stream",
          "text": []
        },
        {
          "name": "stdout",
          "output_type": "stream",
          "text": [
            "\n",
            "Validation Epoch 10: Avg Loss: 0.2402, Mean IoU: 0.6154\n",
            "Saving checkpoint to ./checkpoints/checkpoint.pth...\n",
            "Checkpoint saved successfully to ./checkpoints/checkpoint.pth\n",
            "Checkpoint 'checkpoint.pth' also saved to W&B artifacts.\n",
            "\n",
            "--- Epoch 11/50 ---\n"
          ]
        },
        {
          "name": "stderr",
          "output_type": "stream",
          "text": [
            "Epoch 11/50 [Training]:   4%|▎         | 7/196 [00:03<01:14,  2.54batch/s, loss=0.0547, lr=8.17e-05]\u001b[34m\u001b[1mwandb\u001b[0m: \u001b[33mWARNING\u001b[0m Tried to log to step 1960 that is less than the current step 1961. Steps must be monotonically increasing, so this data will be ignored. See https://wandb.me/define-metric to log data out of order.\n"
          ]
        },
        {
          "name": "stdout",
          "output_type": "stream",
          "text": [
            "\n",
            "Validation Epoch 11: Avg Loss: 0.2368, Mean IoU: 0.6204\n",
            "\n",
            "--- Epoch 12/50 ---\n"
          ]
        },
        {
          "name": "stderr",
          "output_type": "stream",
          "text": []
        },
        {
          "name": "stdout",
          "output_type": "stream",
          "text": [
            "\n",
            "Validation Epoch 12: Avg Loss: 0.2404, Mean IoU: 0.6226\n",
            "\n",
            "--- Epoch 13/50 ---\n"
          ]
        },
        {
          "name": "stderr",
          "output_type": "stream",
          "text": []
        },
        {
          "name": "stdout",
          "output_type": "stream",
          "text": [
            "\n",
            "Validation Epoch 13: Avg Loss: 0.2457, Mean IoU: 0.6183\n",
            "\n",
            "--- Epoch 14/50 ---\n"
          ]
        },
        {
          "name": "stderr",
          "output_type": "stream",
          "text": []
        },
        {
          "name": "stdout",
          "output_type": "stream",
          "text": [
            "\n",
            "Validation Epoch 14: Avg Loss: 0.2336, Mean IoU: 0.6279\n",
            "New best mIoU: 0.6279 at epoch 14\n",
            "Saving checkpoint to ./checkpoints/best_miou_checkpoint.pth...\n",
            "Checkpoint saved successfully to ./checkpoints/best_miou_checkpoint.pth\n",
            "Checkpoint 'best_miou_checkpoint.pth' also saved to W&B artifacts.\n",
            "\n",
            "--- Epoch 15/50 ---\n"
          ]
        },
        {
          "name": "stderr",
          "output_type": "stream",
          "text": []
        },
        {
          "name": "stdout",
          "output_type": "stream",
          "text": [
            "\n",
            "Validation Epoch 15: Avg Loss: 0.2445, Mean IoU: 0.6200\n",
            "Saving checkpoint to ./checkpoints/checkpoint.pth...\n",
            "Checkpoint saved successfully to ./checkpoints/checkpoint.pth\n",
            "Checkpoint 'checkpoint.pth' also saved to W&B artifacts.\n",
            "\n",
            "--- Epoch 16/50 ---\n"
          ]
        },
        {
          "name": "stderr",
          "output_type": "stream",
          "text": []
        },
        {
          "name": "stdout",
          "output_type": "stream",
          "text": [
            "\n",
            "Validation Epoch 16: Avg Loss: 0.2419, Mean IoU: 0.6197\n",
            "\n",
            "--- Epoch 17/50 ---\n"
          ]
        },
        {
          "name": "stderr",
          "output_type": "stream",
          "text": []
        },
        {
          "name": "stdout",
          "output_type": "stream",
          "text": [
            "\n",
            "Validation Epoch 17: Avg Loss: 0.2462, Mean IoU: 0.6275\n",
            "\n",
            "--- Epoch 18/50 ---\n"
          ]
        },
        {
          "name": "stderr",
          "output_type": "stream",
          "text": []
        },
        {
          "name": "stdout",
          "output_type": "stream",
          "text": [
            "\n",
            "Validation Epoch 18: Avg Loss: 0.2461, Mean IoU: 0.6221\n",
            "\n",
            "--- Epoch 19/50 ---\n"
          ]
        },
        {
          "name": "stderr",
          "output_type": "stream",
          "text": []
        },
        {
          "name": "stdout",
          "output_type": "stream",
          "text": [
            "\n",
            "Validation Epoch 19: Avg Loss: 0.2462, Mean IoU: 0.6280\n",
            "New best mIoU: 0.6280 at epoch 19\n",
            "Saving checkpoint to ./checkpoints/best_miou_checkpoint.pth...\n",
            "Checkpoint saved successfully to ./checkpoints/best_miou_checkpoint.pth\n",
            "Checkpoint 'best_miou_checkpoint.pth' also saved to W&B artifacts.\n",
            "\n",
            "--- Epoch 20/50 ---\n"
          ]
        },
        {
          "name": "stderr",
          "output_type": "stream",
          "text": []
        },
        {
          "name": "stdout",
          "output_type": "stream",
          "text": [
            "\n",
            "Validation Epoch 20: Avg Loss: 0.2466, Mean IoU: 0.6313\n",
            "New best mIoU: 0.6313 at epoch 20\n",
            "Saving checkpoint to ./checkpoints/best_miou_checkpoint.pth...\n",
            "Checkpoint saved successfully to ./checkpoints/best_miou_checkpoint.pth\n",
            "Checkpoint 'best_miou_checkpoint.pth' also saved to W&B artifacts.\n",
            "Saving checkpoint to ./checkpoints/checkpoint.pth...\n",
            "Checkpoint saved successfully to ./checkpoints/checkpoint.pth\n",
            "Checkpoint 'checkpoint.pth' also saved to W&B artifacts.\n",
            "\n",
            "--- Epoch 21/50 ---\n"
          ]
        },
        {
          "name": "stderr",
          "output_type": "stream",
          "text": [
            "Epoch 21/50 [Training]:   0%|          | 0/196 [00:00<?, ?batch/s]\u001b[34m\u001b[1mwandb\u001b[0m: \u001b[33mWARNING\u001b[0m Tried to log to step 3920 that is less than the current step 3921. Steps must be monotonically increasing, so this data will be ignored. See https://wandb.me/define-metric to log data out of order.\n"
          ]
        },
        {
          "name": "stdout",
          "output_type": "stream",
          "text": [
            "\n",
            "Validation Epoch 21: Avg Loss: 0.2496, Mean IoU: 0.6286\n",
            "\n",
            "--- Epoch 22/50 ---\n"
          ]
        },
        {
          "name": "stderr",
          "output_type": "stream",
          "text": []
        },
        {
          "name": "stdout",
          "output_type": "stream",
          "text": [
            "\n",
            "Validation Epoch 22: Avg Loss: 0.2510, Mean IoU: 0.6309\n",
            "\n",
            "--- Epoch 23/50 ---\n"
          ]
        },
        {
          "name": "stderr",
          "output_type": "stream",
          "text": []
        },
        {
          "name": "stdout",
          "output_type": "stream",
          "text": [
            "\n",
            "Validation Epoch 23: Avg Loss: 0.2512, Mean IoU: 0.6313\n",
            "\n",
            "--- Epoch 24/50 ---\n"
          ]
        },
        {
          "name": "stderr",
          "output_type": "stream",
          "text": []
        },
        {
          "name": "stdout",
          "output_type": "stream",
          "text": [
            "\n",
            "Validation Epoch 24: Avg Loss: 0.2657, Mean IoU: 0.5339\n",
            "\n",
            "--- Epoch 25/50 ---\n"
          ]
        },
        {
          "name": "stderr",
          "output_type": "stream",
          "text": []
        },
        {
          "name": "stdout",
          "output_type": "stream",
          "text": [
            "\n",
            "Validation Epoch 25: Avg Loss: 0.2356, Mean IoU: 0.5967\n",
            "Saving checkpoint to ./checkpoints/checkpoint.pth...\n",
            "Checkpoint saved successfully to ./checkpoints/checkpoint.pth\n",
            "Checkpoint 'checkpoint.pth' also saved to W&B artifacts.\n",
            "\n",
            "--- Epoch 26/50 ---\n"
          ]
        },
        {
          "name": "stderr",
          "output_type": "stream",
          "text": []
        },
        {
          "name": "stdout",
          "output_type": "stream",
          "text": [
            "\n",
            "Validation Epoch 26: Avg Loss: 0.2401, Mean IoU: 0.6240\n",
            "\n",
            "--- Epoch 27/50 ---\n"
          ]
        },
        {
          "name": "stderr",
          "output_type": "stream",
          "text": []
        },
        {
          "name": "stdout",
          "output_type": "stream",
          "text": [
            "\n",
            "Validation Epoch 27: Avg Loss: 0.2479, Mean IoU: 0.6287\n",
            "\n",
            "--- Epoch 28/50 ---\n"
          ]
        },
        {
          "name": "stderr",
          "output_type": "stream",
          "text": []
        },
        {
          "name": "stdout",
          "output_type": "stream",
          "text": [
            "\n",
            "Validation Epoch 28: Avg Loss: 0.2538, Mean IoU: 0.6343\n",
            "New best mIoU: 0.6343 at epoch 28\n",
            "Saving checkpoint to ./checkpoints/best_miou_checkpoint.pth...\n",
            "Checkpoint saved successfully to ./checkpoints/best_miou_checkpoint.pth\n",
            "Checkpoint 'best_miou_checkpoint.pth' also saved to W&B artifacts.\n",
            "\n",
            "--- Epoch 29/50 ---\n"
          ]
        },
        {
          "name": "stderr",
          "output_type": "stream",
          "text": []
        },
        {
          "name": "stdout",
          "output_type": "stream",
          "text": [
            "\n",
            "Validation Epoch 29: Avg Loss: 0.2632, Mean IoU: 0.6308\n",
            "\n",
            "--- Epoch 30/50 ---\n"
          ]
        },
        {
          "name": "stderr",
          "output_type": "stream",
          "text": []
        },
        {
          "name": "stdout",
          "output_type": "stream",
          "text": [
            "\n",
            "Validation Epoch 30: Avg Loss: 0.2675, Mean IoU: 0.6326\n",
            "Saving checkpoint to ./checkpoints/checkpoint.pth...\n",
            "Checkpoint saved successfully to ./checkpoints/checkpoint.pth\n",
            "Checkpoint 'checkpoint.pth' also saved to W&B artifacts.\n",
            "\n",
            "--- Epoch 31/50 ---\n"
          ]
        },
        {
          "name": "stderr",
          "output_type": "stream",
          "text": [
            "Epoch 31/50 [Training]:   0%|          | 0/196 [00:00<?, ?batch/s]\u001b[34m\u001b[1mwandb\u001b[0m: \u001b[33mWARNING\u001b[0m Tried to log to step 5880 that is less than the current step 5881. Steps must be monotonically increasing, so this data will be ignored. See https://wandb.me/define-metric to log data out of order.\n"
          ]
        },
        {
          "name": "stdout",
          "output_type": "stream",
          "text": [
            "\n",
            "Validation Epoch 31: Avg Loss: 0.2690, Mean IoU: 0.6307\n",
            "\n",
            "--- Epoch 32/50 ---\n"
          ]
        },
        {
          "name": "stderr",
          "output_type": "stream",
          "text": []
        },
        {
          "name": "stdout",
          "output_type": "stream",
          "text": [
            "\n",
            "Validation Epoch 32: Avg Loss: 0.2720, Mean IoU: 0.6303\n",
            "\n",
            "--- Epoch 33/50 ---\n"
          ]
        },
        {
          "name": "stderr",
          "output_type": "stream",
          "text": []
        },
        {
          "name": "stdout",
          "output_type": "stream",
          "text": [
            "\n",
            "Validation Epoch 33: Avg Loss: 0.2685, Mean IoU: 0.6344\n",
            "New best mIoU: 0.6344 at epoch 33\n",
            "Saving checkpoint to ./checkpoints/best_miou_checkpoint.pth...\n",
            "Checkpoint saved successfully to ./checkpoints/best_miou_checkpoint.pth\n",
            "Checkpoint 'best_miou_checkpoint.pth' also saved to W&B artifacts.\n",
            "\n",
            "--- Epoch 34/50 ---\n"
          ]
        },
        {
          "name": "stderr",
          "output_type": "stream",
          "text": []
        },
        {
          "name": "stdout",
          "output_type": "stream",
          "text": [
            "\n",
            "Validation Epoch 34: Avg Loss: 0.2719, Mean IoU: 0.6313\n",
            "\n",
            "--- Epoch 35/50 ---\n"
          ]
        },
        {
          "name": "stderr",
          "output_type": "stream",
          "text": []
        },
        {
          "name": "stdout",
          "output_type": "stream",
          "text": [
            "\n",
            "Validation Epoch 35: Avg Loss: 0.2769, Mean IoU: 0.6345\n",
            "New best mIoU: 0.6345 at epoch 35\n",
            "Saving checkpoint to ./checkpoints/best_miou_checkpoint.pth...\n",
            "Checkpoint saved successfully to ./checkpoints/best_miou_checkpoint.pth\n",
            "Checkpoint 'best_miou_checkpoint.pth' also saved to W&B artifacts.\n",
            "Saving checkpoint to ./checkpoints/checkpoint.pth...\n",
            "Checkpoint saved successfully to ./checkpoints/checkpoint.pth\n",
            "Checkpoint 'checkpoint.pth' also saved to W&B artifacts.\n",
            "\n",
            "--- Epoch 36/50 ---\n"
          ]
        },
        {
          "name": "stderr",
          "output_type": "stream",
          "text": []
        },
        {
          "name": "stdout",
          "output_type": "stream",
          "text": [
            "\n",
            "Validation Epoch 36: Avg Loss: 0.2799, Mean IoU: 0.6335\n",
            "\n",
            "--- Epoch 37/50 ---\n"
          ]
        },
        {
          "name": "stderr",
          "output_type": "stream",
          "text": []
        },
        {
          "name": "stdout",
          "output_type": "stream",
          "text": [
            "\n",
            "Validation Epoch 37: Avg Loss: 0.2792, Mean IoU: 0.6354\n",
            "New best mIoU: 0.6354 at epoch 37\n",
            "Saving checkpoint to ./checkpoints/best_miou_checkpoint.pth...\n",
            "Checkpoint saved successfully to ./checkpoints/best_miou_checkpoint.pth\n",
            "Checkpoint 'best_miou_checkpoint.pth' also saved to W&B artifacts.\n",
            "\n",
            "--- Epoch 38/50 ---\n"
          ]
        },
        {
          "name": "stderr",
          "output_type": "stream",
          "text": []
        },
        {
          "name": "stdout",
          "output_type": "stream",
          "text": [
            "\n",
            "Validation Epoch 38: Avg Loss: 0.2855, Mean IoU: 0.6338\n",
            "\n",
            "--- Epoch 39/50 ---\n"
          ]
        },
        {
          "name": "stderr",
          "output_type": "stream",
          "text": []
        },
        {
          "name": "stdout",
          "output_type": "stream",
          "text": [
            "\n",
            "Validation Epoch 39: Avg Loss: 0.2907, Mean IoU: 0.6325\n",
            "\n",
            "--- Epoch 40/50 ---\n"
          ]
        },
        {
          "name": "stderr",
          "output_type": "stream",
          "text": []
        },
        {
          "name": "stdout",
          "output_type": "stream",
          "text": [
            "\n",
            "Validation Epoch 40: Avg Loss: 0.2902, Mean IoU: 0.6321\n",
            "Saving checkpoint to ./checkpoints/checkpoint.pth...\n",
            "Checkpoint saved successfully to ./checkpoints/checkpoint.pth\n",
            "Checkpoint 'checkpoint.pth' also saved to W&B artifacts.\n",
            "\n",
            "--- Epoch 41/50 ---\n"
          ]
        },
        {
          "name": "stderr",
          "output_type": "stream",
          "text": [
            "Epoch 41/50 [Training]:  11%|█         | 21/196 [00:08<01:01,  2.85batch/s, loss=0.0226, lr=2.33e-05]\u001b[34m\u001b[1mwandb\u001b[0m: \u001b[33mWARNING\u001b[0m Tried to log to step 7840 that is less than the current step 7841. Steps must be monotonically increasing, so this data will be ignored. See https://wandb.me/define-metric to log data out of order.\n"
          ]
        },
        {
          "name": "stdout",
          "output_type": "stream",
          "text": [
            "\n",
            "Validation Epoch 41: Avg Loss: 0.3012, Mean IoU: 0.6339\n",
            "\n",
            "--- Epoch 42/50 ---\n"
          ]
        },
        {
          "name": "stderr",
          "output_type": "stream",
          "text": []
        },
        {
          "name": "stdout",
          "output_type": "stream",
          "text": [
            "\n",
            "Validation Epoch 42: Avg Loss: 0.2983, Mean IoU: 0.6358\n",
            "New best mIoU: 0.6358 at epoch 42\n",
            "Saving checkpoint to ./checkpoints/best_miou_checkpoint.pth...\n",
            "Checkpoint saved successfully to ./checkpoints/best_miou_checkpoint.pth\n",
            "Checkpoint 'best_miou_checkpoint.pth' also saved to W&B artifacts.\n",
            "\n",
            "--- Epoch 43/50 ---\n"
          ]
        },
        {
          "name": "stderr",
          "output_type": "stream",
          "text": []
        },
        {
          "name": "stdout",
          "output_type": "stream",
          "text": [
            "\n",
            "Validation Epoch 43: Avg Loss: 0.3090, Mean IoU: 0.6314\n",
            "\n",
            "--- Epoch 44/50 ---\n"
          ]
        },
        {
          "name": "stderr",
          "output_type": "stream",
          "text": []
        },
        {
          "name": "stdout",
          "output_type": "stream",
          "text": [
            "\n",
            "Validation Epoch 44: Avg Loss: 0.3105, Mean IoU: 0.6364\n",
            "New best mIoU: 0.6364 at epoch 44\n",
            "Saving checkpoint to ./checkpoints/best_miou_checkpoint.pth...\n",
            "Checkpoint saved successfully to ./checkpoints/best_miou_checkpoint.pth\n",
            "Checkpoint 'best_miou_checkpoint.pth' also saved to W&B artifacts.\n",
            "\n",
            "--- Epoch 45/50 ---\n"
          ]
        },
        {
          "name": "stderr",
          "output_type": "stream",
          "text": []
        },
        {
          "name": "stdout",
          "output_type": "stream",
          "text": [
            "\n",
            "Validation Epoch 45: Avg Loss: 0.3152, Mean IoU: 0.6380\n",
            "New best mIoU: 0.6380 at epoch 45\n",
            "Saving checkpoint to ./checkpoints/best_miou_checkpoint.pth...\n",
            "Checkpoint saved successfully to ./checkpoints/best_miou_checkpoint.pth\n",
            "Checkpoint 'best_miou_checkpoint.pth' also saved to W&B artifacts.\n",
            "Saving checkpoint to ./checkpoints/checkpoint.pth...\n",
            "Checkpoint saved successfully to ./checkpoints/checkpoint.pth\n",
            "Checkpoint 'checkpoint.pth' also saved to W&B artifacts.\n",
            "\n",
            "--- Epoch 46/50 ---\n"
          ]
        },
        {
          "name": "stderr",
          "output_type": "stream",
          "text": []
        },
        {
          "name": "stdout",
          "output_type": "stream",
          "text": [
            "\n",
            "Validation Epoch 46: Avg Loss: 0.3238, Mean IoU: 0.6346\n",
            "\n",
            "--- Epoch 47/50 ---\n"
          ]
        },
        {
          "name": "stderr",
          "output_type": "stream",
          "text": []
        },
        {
          "name": "stdout",
          "output_type": "stream",
          "text": [
            "\n",
            "Validation Epoch 47: Avg Loss: 0.3304, Mean IoU: 0.6368\n",
            "\n",
            "--- Epoch 48/50 ---\n"
          ]
        },
        {
          "name": "stderr",
          "output_type": "stream",
          "text": []
        },
        {
          "name": "stdout",
          "output_type": "stream",
          "text": [
            "\n",
            "Validation Epoch 48: Avg Loss: 0.3336, Mean IoU: 0.6374\n",
            "\n",
            "--- Epoch 49/50 ---\n"
          ]
        },
        {
          "name": "stderr",
          "output_type": "stream",
          "text": []
        },
        {
          "name": "stdout",
          "output_type": "stream",
          "text": [
            "\n",
            "Validation Epoch 49: Avg Loss: 0.3399, Mean IoU: 0.6366\n",
            "\n",
            "--- Epoch 50/50 ---\n"
          ]
        },
        {
          "name": "stderr",
          "output_type": "stream",
          "text": []
        },
        {
          "name": "stdout",
          "output_type": "stream",
          "text": [
            "\n",
            "Validation Epoch 50: Avg Loss: 0.3425, Mean IoU: 0.6369\n",
            "\n",
            "--- Training Finished ---\n",
            "Loading best model from checkpoint ./checkpoints/best_miou_checkpoint.pth for final metrics calculation...\n",
            "Loading checkpoint from './checkpoints/best_miou_checkpoint.pth'...\n",
            "Checkpoint loaded successfully.\n",
            "\n",
            "Calculating final performance metrics (FLOPs, Latency)...\n",
            "Calculating FLOPs and Parameters...\n"
          ]
        },
        {
          "name": "stderr",
          "output_type": "stream",
          "text": [
            "WARNING:fvcore.nn.jit_analysis:Unsupported operator aten::max_pool2d encountered 1 time(s)\n",
            "WARNING:fvcore.nn.jit_analysis:Unsupported operator aten::add_ encountered 36 time(s)\n"
          ]
        },
        {
          "name": "stdout",
          "output_type": "stream",
          "text": [
            "Calculating Latency (warmup: 10 iters, measurement: 100 iters)...\n",
            " Latency iteration 10/100 completed.\n",
            " Latency iteration 20/100 completed.\n",
            " Latency iteration 30/100 completed.\n",
            " Latency iteration 40/100 completed.\n",
            " Latency iteration 50/100 completed.\n",
            " Latency iteration 60/100 completed.\n",
            " Latency iteration 70/100 completed.\n",
            " Latency iteration 80/100 completed.\n",
            " Latency iteration 90/100 completed.\n",
            " Latency iteration 100/100 completed.\n",
            "\n",
            "--- Table 1: Classic Cityscapes (DeepLabV2 - Step 2a) ---\n",
            "| Metric                      | Value                               |\n",
            "|-----------------------------|-------------------------------------|\n",
            "| Best mIoU (%)               | 63.80                              |\n",
            "| Latency (ms)                | 23.52 +/- 0.11 |\n",
            "| FLOPs (G)                   | 374.66                                |\n",
            "| Params (M)                  | 43.90                                |\n",
            "\n",
            "Full FLOPs Table (from fvcore calculation):\n",
            "| module                         | #parameters or shape   | #flops     |\n",
            "|:-------------------------------|:-----------------------|:-----------|\n",
            "| model                          | 43.901M                | 0.375T     |\n",
            "|  conv1                         |  9.408K                |  1.233G    |\n",
            "|   conv1.weight                 |   (64, 3, 7, 7)        |            |\n",
            "|  bn1                           |  0.128K                |  16.777M   |\n",
            "|   bn1.weight                   |   (64,)                |            |\n",
            "|   bn1.bias                     |   (64,)                |            |\n",
            "|  layer1                        |  0.216M                |  7.155G    |\n",
            "|   layer1.0                     |   75.008K              |   2.487G   |\n",
            "|    layer1.0.conv1              |    4.096K              |    0.136G  |\n",
            "|    layer1.0.bn1                |    0.128K              |    4.244M  |\n",
            "|    layer1.0.conv2              |    36.864K             |    1.222G  |\n",
            "|    layer1.0.bn2                |    0.128K              |    4.244M  |\n",
            "|    layer1.0.conv3              |    16.384K             |    0.543G  |\n",
            "|    layer1.0.bn3                |    0.512K              |    16.974M |\n",
            "|    layer1.0.downsample         |    16.896K             |    0.56G   |\n",
            "|   layer1.1                     |   70.4K                |   2.334G   |\n",
            "|    layer1.1.conv1              |    16.384K             |    0.543G  |\n",
            "|    layer1.1.bn1                |    0.128K              |    4.244M  |\n",
            "|    layer1.1.conv2              |    36.864K             |    1.222G  |\n",
            "|    layer1.1.bn2                |    0.128K              |    4.244M  |\n",
            "|    layer1.1.conv3              |    16.384K             |    0.543G  |\n",
            "|    layer1.1.bn3                |    0.512K              |    16.974M |\n",
            "|   layer1.2                     |   70.4K                |   2.334G   |\n",
            "|    layer1.2.conv1              |    16.384K             |    0.543G  |\n",
            "|    layer1.2.bn1                |    0.128K              |    4.244M  |\n",
            "|    layer1.2.conv2              |    36.864K             |    1.222G  |\n",
            "|    layer1.2.bn2                |    0.128K              |    4.244M  |\n",
            "|    layer1.2.conv3              |    16.384K             |    0.543G  |\n",
            "|    layer1.2.bn3                |    0.512K              |    16.974M |\n",
            "|  layer2                        |  1.22M                 |  10.226G   |\n",
            "|   layer2.0                     |   0.379M               |   3.181G   |\n",
            "|    layer2.0.conv1              |    32.768K             |    0.275G  |\n",
            "|    layer2.0.bn1                |    0.256K              |    2.147M  |\n",
            "|    layer2.0.conv2              |    0.147M              |    1.236G  |\n",
            "|    layer2.0.bn2                |    0.256K              |    2.147M  |\n",
            "|    layer2.0.conv3              |    65.536K             |    0.55G   |\n",
            "|    layer2.0.bn3                |    1.024K              |    8.586M  |\n",
            "|    layer2.0.downsample         |    0.132M              |    1.108G  |\n",
            "|   layer2.1                     |   0.28M                |   2.348G   |\n",
            "|    layer2.1.conv1              |    65.536K             |    0.55G   |\n",
            "|    layer2.1.bn1                |    0.256K              |    2.147M  |\n",
            "|    layer2.1.conv2              |    0.147M              |    1.236G  |\n",
            "|    layer2.1.bn2                |    0.256K              |    2.147M  |\n",
            "|    layer2.1.conv3              |    65.536K             |    0.55G   |\n",
            "|    layer2.1.bn3                |    1.024K              |    8.586M  |\n",
            "|   layer2.2                     |   0.28M                |   2.348G   |\n",
            "|    layer2.2.conv1              |    65.536K             |    0.55G   |\n",
            "|    layer2.2.bn1                |    0.256K              |    2.147M  |\n",
            "|    layer2.2.conv2              |    0.147M              |    1.236G  |\n",
            "|    layer2.2.bn2                |    0.256K              |    2.147M  |\n",
            "|    layer2.2.conv3              |    65.536K             |    0.55G   |\n",
            "|    layer2.2.bn3                |    1.024K              |    8.586M  |\n",
            "|   layer2.3                     |   0.28M                |   2.348G   |\n",
            "|    layer2.3.conv1              |    65.536K             |    0.55G   |\n",
            "|    layer2.3.bn1                |    0.256K              |    2.147M  |\n",
            "|    layer2.3.conv2              |    0.147M              |    1.236G  |\n",
            "|    layer2.3.bn2                |    0.256K              |    2.147M  |\n",
            "|    layer2.3.conv3              |    65.536K             |    0.55G   |\n",
            "|    layer2.3.bn3                |    1.024K              |    8.586M  |\n",
            "|  layer3                        |  26.09M                |  0.219T    |\n",
            "|   layer3.0                     |   1.512M               |   12.682G  |\n",
            "|    layer3.0.conv1              |    0.131M              |    1.099G  |\n",
            "|    layer3.0.bn1                |    0.512K              |    4.293M  |\n",
            "|    layer3.0.conv2              |    0.59M               |    4.946G  |\n",
            "|    layer3.0.bn2                |    0.512K              |    4.293M  |\n",
            "|    layer3.0.conv3              |    0.262M              |    2.198G  |\n",
            "|    layer3.0.bn3                |    2.048K              |    17.172M |\n",
            "|    layer3.0.downsample         |    0.526M              |    4.413G  |\n",
            "|   layer3.1                     |   1.117M               |   9.368G   |\n",
            "|    layer3.1.conv1              |    0.262M              |    2.198G  |\n",
            "|    layer3.1.bn1                |    0.512K              |    4.293M  |\n",
            "|    layer3.1.conv2              |    0.59M               |    4.946G  |\n",
            "|    layer3.1.bn2                |    0.512K              |    4.293M  |\n",
            "|    layer3.1.conv3              |    0.262M              |    2.198G  |\n",
            "|    layer3.1.bn3                |    2.048K              |    17.172M |\n",
            "|   layer3.2                     |   1.117M               |   9.368G   |\n",
            "|    layer3.2.conv1              |    0.262M              |    2.198G  |\n",
            "|    layer3.2.bn1                |    0.512K              |    4.293M  |\n",
            "|    layer3.2.conv2              |    0.59M               |    4.946G  |\n",
            "|    layer3.2.bn2                |    0.512K              |    4.293M  |\n",
            "|    layer3.2.conv3              |    0.262M              |    2.198G  |\n",
            "|    layer3.2.bn3                |    2.048K              |    17.172M |\n",
            "|   layer3.3                     |   1.117M               |   9.368G   |\n",
            "|    layer3.3.conv1              |    0.262M              |    2.198G  |\n",
            "|    layer3.3.bn1                |    0.512K              |    4.293M  |\n",
            "|    layer3.3.conv2              |    0.59M               |    4.946G  |\n",
            "|    layer3.3.bn2                |    0.512K              |    4.293M  |\n",
            "|    layer3.3.conv3              |    0.262M              |    2.198G  |\n",
            "|    layer3.3.bn3                |    2.048K              |    17.172M |\n",
            "|   layer3.4                     |   1.117M               |   9.368G   |\n",
            "|    layer3.4.conv1              |    0.262M              |    2.198G  |\n",
            "|    layer3.4.bn1                |    0.512K              |    4.293M  |\n",
            "|    layer3.4.conv2              |    0.59M               |    4.946G  |\n",
            "|    layer3.4.bn2                |    0.512K              |    4.293M  |\n",
            "|    layer3.4.conv3              |    0.262M              |    2.198G  |\n",
            "|    layer3.4.bn3                |    2.048K              |    17.172M |\n",
            "|   layer3.5                     |   1.117M               |   9.368G   |\n",
            "|    layer3.5.conv1              |    0.262M              |    2.198G  |\n",
            "|    layer3.5.bn1                |    0.512K              |    4.293M  |\n",
            "|    layer3.5.conv2              |    0.59M               |    4.946G  |\n",
            "|    layer3.5.bn2                |    0.512K              |    4.293M  |\n",
            "|    layer3.5.conv3              |    0.262M              |    2.198G  |\n",
            "|    layer3.5.bn3                |    2.048K              |    17.172M |\n",
            "|   layer3.6                     |   1.117M               |   9.368G   |\n",
            "|    layer3.6.conv1              |    0.262M              |    2.198G  |\n",
            "|    layer3.6.bn1                |    0.512K              |    4.293M  |\n",
            "|    layer3.6.conv2              |    0.59M               |    4.946G  |\n",
            "|    layer3.6.bn2                |    0.512K              |    4.293M  |\n",
            "|    layer3.6.conv3              |    0.262M              |    2.198G  |\n",
            "|    layer3.6.bn3                |    2.048K              |    17.172M |\n",
            "|   layer3.7                     |   1.117M               |   9.368G   |\n",
            "|    layer3.7.conv1              |    0.262M              |    2.198G  |\n",
            "|    layer3.7.bn1                |    0.512K              |    4.293M  |\n",
            "|    layer3.7.conv2              |    0.59M               |    4.946G  |\n",
            "|    layer3.7.bn2                |    0.512K              |    4.293M  |\n",
            "|    layer3.7.conv3              |    0.262M              |    2.198G  |\n",
            "|    layer3.7.bn3                |    2.048K              |    17.172M |\n",
            "|   layer3.8                     |   1.117M               |   9.368G   |\n",
            "|    layer3.8.conv1              |    0.262M              |    2.198G  |\n",
            "|    layer3.8.bn1                |    0.512K              |    4.293M  |\n",
            "|    layer3.8.conv2              |    0.59M               |    4.946G  |\n",
            "|    layer3.8.bn2                |    0.512K              |    4.293M  |\n",
            "|    layer3.8.conv3              |    0.262M              |    2.198G  |\n",
            "|    layer3.8.bn3                |    2.048K              |    17.172M |\n",
            "|   layer3.9                     |   1.117M               |   9.368G   |\n",
            "|    layer3.9.conv1              |    0.262M              |    2.198G  |\n",
            "|    layer3.9.bn1                |    0.512K              |    4.293M  |\n",
            "|    layer3.9.conv2              |    0.59M               |    4.946G  |\n",
            "|    layer3.9.bn2                |    0.512K              |    4.293M  |\n",
            "|    layer3.9.conv3              |    0.262M              |    2.198G  |\n",
            "|    layer3.9.bn3                |    2.048K              |    17.172M |\n",
            "|   layer3.10                    |   1.117M               |   9.368G   |\n",
            "|    layer3.10.conv1             |    0.262M              |    2.198G  |\n",
            "|    layer3.10.bn1               |    0.512K              |    4.293M  |\n",
            "|    layer3.10.conv2             |    0.59M               |    4.946G  |\n",
            "|    layer3.10.bn2               |    0.512K              |    4.293M  |\n",
            "|    layer3.10.conv3             |    0.262M              |    2.198G  |\n",
            "|    layer3.10.bn3               |    2.048K              |    17.172M |\n",
            "|   layer3.11                    |   1.117M               |   9.368G   |\n",
            "|    layer3.11.conv1             |    0.262M              |    2.198G  |\n",
            "|    layer3.11.bn1               |    0.512K              |    4.293M  |\n",
            "|    layer3.11.conv2             |    0.59M               |    4.946G  |\n",
            "|    layer3.11.bn2               |    0.512K              |    4.293M  |\n",
            "|    layer3.11.conv3             |    0.262M              |    2.198G  |\n",
            "|    layer3.11.bn3               |    2.048K              |    17.172M |\n",
            "|   layer3.12                    |   1.117M               |   9.368G   |\n",
            "|    layer3.12.conv1             |    0.262M              |    2.198G  |\n",
            "|    layer3.12.bn1               |    0.512K              |    4.293M  |\n",
            "|    layer3.12.conv2             |    0.59M               |    4.946G  |\n",
            "|    layer3.12.bn2               |    0.512K              |    4.293M  |\n",
            "|    layer3.12.conv3             |    0.262M              |    2.198G  |\n",
            "|    layer3.12.bn3               |    2.048K              |    17.172M |\n",
            "|   layer3.13                    |   1.117M               |   9.368G   |\n",
            "|    layer3.13.conv1             |    0.262M              |    2.198G  |\n",
            "|    layer3.13.bn1               |    0.512K              |    4.293M  |\n",
            "|    layer3.13.conv2             |    0.59M               |    4.946G  |\n",
            "|    layer3.13.bn2               |    0.512K              |    4.293M  |\n",
            "|    layer3.13.conv3             |    0.262M              |    2.198G  |\n",
            "|    layer3.13.bn3               |    2.048K              |    17.172M |\n",
            "|   layer3.14                    |   1.117M               |   9.368G   |\n",
            "|    layer3.14.conv1             |    0.262M              |    2.198G  |\n",
            "|    layer3.14.bn1               |    0.512K              |    4.293M  |\n",
            "|    layer3.14.conv2             |    0.59M               |    4.946G  |\n",
            "|    layer3.14.bn2               |    0.512K              |    4.293M  |\n",
            "|    layer3.14.conv3             |    0.262M              |    2.198G  |\n",
            "|    layer3.14.bn3               |    2.048K              |    17.172M |\n",
            "|   layer3.15                    |   1.117M               |   9.368G   |\n",
            "|    layer3.15.conv1             |    0.262M              |    2.198G  |\n",
            "|    layer3.15.bn1               |    0.512K              |    4.293M  |\n",
            "|    layer3.15.conv2             |    0.59M               |    4.946G  |\n",
            "|    layer3.15.bn2               |    0.512K              |    4.293M  |\n",
            "|    layer3.15.conv3             |    0.262M              |    2.198G  |\n",
            "|    layer3.15.bn3               |    2.048K              |    17.172M |\n",
            "|   layer3.16                    |   1.117M               |   9.368G   |\n",
            "|    layer3.16.conv1             |    0.262M              |    2.198G  |\n",
            "|    layer3.16.bn1               |    0.512K              |    4.293M  |\n",
            "|    layer3.16.conv2             |    0.59M               |    4.946G  |\n",
            "|    layer3.16.bn2               |    0.512K              |    4.293M  |\n",
            "|    layer3.16.conv3             |    0.262M              |    2.198G  |\n",
            "|    layer3.16.bn3               |    2.048K              |    17.172M |\n",
            "|   layer3.17                    |   1.117M               |   9.368G   |\n",
            "|    layer3.17.conv1             |    0.262M              |    2.198G  |\n",
            "|    layer3.17.bn1               |    0.512K              |    4.293M  |\n",
            "|    layer3.17.conv2             |    0.59M               |    4.946G  |\n",
            "|    layer3.17.bn2               |    0.512K              |    4.293M  |\n",
            "|    layer3.17.conv3             |    0.262M              |    2.198G  |\n",
            "|    layer3.17.bn3               |    2.048K              |    17.172M |\n",
            "|   layer3.18                    |   1.117M               |   9.368G   |\n",
            "|    layer3.18.conv1             |    0.262M              |    2.198G  |\n",
            "|    layer3.18.bn1               |    0.512K              |    4.293M  |\n",
            "|    layer3.18.conv2             |    0.59M               |    4.946G  |\n",
            "|    layer3.18.bn2               |    0.512K              |    4.293M  |\n",
            "|    layer3.18.conv3             |    0.262M              |    2.198G  |\n",
            "|    layer3.18.bn3               |    2.048K              |    17.172M |\n",
            "|   layer3.19                    |   1.117M               |   9.368G   |\n",
            "|    layer3.19.conv1             |    0.262M              |    2.198G  |\n",
            "|    layer3.19.bn1               |    0.512K              |    4.293M  |\n",
            "|    layer3.19.conv2             |    0.59M               |    4.946G  |\n",
            "|    layer3.19.bn2               |    0.512K              |    4.293M  |\n",
            "|    layer3.19.conv3             |    0.262M              |    2.198G  |\n",
            "|    layer3.19.bn3               |    2.048K              |    17.172M |\n",
            "|   layer3.20                    |   1.117M               |   9.368G   |\n",
            "|    layer3.20.conv1             |    0.262M              |    2.198G  |\n",
            "|    layer3.20.bn1               |    0.512K              |    4.293M  |\n",
            "|    layer3.20.conv2             |    0.59M               |    4.946G  |\n",
            "|    layer3.20.bn2               |    0.512K              |    4.293M  |\n",
            "|    layer3.20.conv3             |    0.262M              |    2.198G  |\n",
            "|    layer3.20.bn3               |    2.048K              |    17.172M |\n",
            "|   layer3.21                    |   1.117M               |   9.368G   |\n",
            "|    layer3.21.conv1             |    0.262M              |    2.198G  |\n",
            "|    layer3.21.bn1               |    0.512K              |    4.293M  |\n",
            "|    layer3.21.conv2             |    0.59M               |    4.946G  |\n",
            "|    layer3.21.bn2               |    0.512K              |    4.293M  |\n",
            "|    layer3.21.conv3             |    0.262M              |    2.198G  |\n",
            "|    layer3.21.bn3               |    2.048K              |    17.172M |\n",
            "|   layer3.22                    |   1.117M               |   9.368G   |\n",
            "|    layer3.22.conv1             |    0.262M              |    2.198G  |\n",
            "|    layer3.22.bn1               |    0.512K              |    4.293M  |\n",
            "|    layer3.22.conv2             |    0.59M               |    4.946G  |\n",
            "|    layer3.22.bn2               |    0.512K              |    4.293M  |\n",
            "|    layer3.22.conv3             |    0.262M              |    2.198G  |\n",
            "|    layer3.22.bn3               |    2.048K              |    17.172M |\n",
            "|  layer4                        |  14.965M               |  0.125T    |\n",
            "|   layer4.0                     |   6.04M                |   50.642G  |\n",
            "|    layer4.0.conv1              |    0.524M              |    4.396G  |\n",
            "|    layer4.0.bn1                |    1.024K              |    8.586M  |\n",
            "|    layer4.0.conv2              |    2.359M              |    19.783G |\n",
            "|    layer4.0.bn2                |    1.024K              |    8.586M  |\n",
            "|    layer4.0.conv3              |    1.049M              |    8.792G  |\n",
            "|    layer4.0.bn3                |    4.096K              |    34.345M |\n",
            "|    layer4.0.downsample         |    2.101M              |    17.619G |\n",
            "|   layer4.1                     |   4.463M               |   37.419G  |\n",
            "|    layer4.1.conv1              |    1.049M              |    8.792G  |\n",
            "|    layer4.1.bn1                |    1.024K              |    8.586M  |\n",
            "|    layer4.1.conv2              |    2.359M              |    19.783G |\n",
            "|    layer4.1.bn2                |    1.024K              |    8.586M  |\n",
            "|    layer4.1.conv3              |    1.049M              |    8.792G  |\n",
            "|    layer4.1.bn3                |    4.096K              |    34.345M |\n",
            "|   layer4.2                     |   4.463M               |   37.419G  |\n",
            "|    layer4.2.conv1              |    1.049M              |    8.792G  |\n",
            "|    layer4.2.bn1                |    1.024K              |    8.586M  |\n",
            "|    layer4.2.conv2              |    2.359M              |    19.783G |\n",
            "|    layer4.2.bn2                |    1.024K              |    8.586M  |\n",
            "|    layer4.2.conv3              |    1.049M              |    8.792G  |\n",
            "|    layer4.2.bn3                |    4.096K              |    34.345M |\n",
            "|  layer6.conv2d_list            |  1.401M                |  11.746G   |\n",
            "|   layer6.conv2d_list.0         |   0.35M                |   2.936G   |\n",
            "|    layer6.conv2d_list.0.weight |    (19, 2048, 3, 3)    |            |\n",
            "|    layer6.conv2d_list.0.bias   |    (19,)               |            |\n",
            "|   layer6.conv2d_list.1         |   0.35M                |   2.936G   |\n",
            "|    layer6.conv2d_list.1.weight |    (19, 2048, 3, 3)    |            |\n",
            "|    layer6.conv2d_list.1.bias   |    (19,)               |            |\n",
            "|   layer6.conv2d_list.2         |   0.35M                |   2.936G   |\n",
            "|    layer6.conv2d_list.2.weight |    (19, 2048, 3, 3)    |            |\n",
            "|    layer6.conv2d_list.2.bias   |    (19,)               |            |\n",
            "|   layer6.conv2d_list.3         |   0.35M                |   2.936G   |\n",
            "|    layer6.conv2d_list.3.weight |    (19, 2048, 3, 3)    |            |\n",
            "|    layer6.conv2d_list.3.bias   |    (19,)               |            |\n"
          ]
        },
        {
          "data": {
            "text/html": [],
            "text/plain": [
              "<IPython.core.display.HTML object>"
            ]
          },
          "metadata": {},
          "output_type": "display_data"
        },
        {
          "data": {
            "text/html": [
              "<br>    <style><br>        .wandb-row {<br>            display: flex;<br>            flex-direction: row;<br>            flex-wrap: wrap;<br>            justify-content: flex-start;<br>            width: 100%;<br>        }<br>        .wandb-col {<br>            display: flex;<br>            flex-direction: column;<br>            flex-basis: 100%;<br>            flex: 1;<br>            padding: 10px;<br>        }<br>    </style><br><div class=\"wandb-row\"><div class=\"wandb-col\"><h3>Run history:</h3><br/><table class=\"wandb\"><tr><td>epoch</td><td>▁▁▁▁▂▂▂▂▂▂▃▃▃▃▃▄▄▄▄▄▅▅▅▅▅▅▆▆▆▆▆▆▇▇▇▇▇███</td></tr><tr><td>train/batch_loss</td><td>█▇▆▅▆▃▄▃▃▃▃▂▂▂▂▂▂▂▂▂▃▂▂▂▂▁▁▁▂▁▁▁▁▁▁▁▁▁▁▁</td></tr><tr><td>train/epoch_loss</td><td>█▄▃▃▂▂▂▂▂▂▂▂▁▁▁▁▁▁▁▂▂▁▁▁▁▁▁▁▁▁▁▁▁▁▁▁▁▁▁▁</td></tr><tr><td>train/learning_rate</td><td>█████▇▇▇▇▆▆▆▆▆▆▅▅▅▅▅▅▅▅▄▄▄▄▄▃▃▂▂▂▂▂▂▂▂▁▁</td></tr><tr><td>val/epoch_loss</td><td>▆▃▂▁▂▁▁▁▂▂▂▁▂▂▂▂▂▃▃▃▂▂▂▃▄▄▄▄▄▄▄▅▆▅▆▆▆▇▇█</td></tr><tr><td>val/iou_class_0</td><td>▁▂▄▅▆▆▆▆▇▇▇▇▇▇▇▇█▇█▂▇▇▇█████████████████</td></tr><tr><td>val/iou_class_1</td><td>▁▂▃▅▆▆▆▆▇▇▆▇▇▇▇▇█▇▇▃▇▇▇█████████████████</td></tr><tr><td>val/iou_class_10</td><td>▁▄▄▆▅▆▆▆▆▇▇▇▇▇▇▇▇█▇▃▇▇██████████████████</td></tr><tr><td>val/iou_class_11</td><td>▁▄▅▅▆▆▆▆▆▇▇▇▇▇▇▇█▇█▆▇███████████████████</td></tr><tr><td>val/iou_class_12</td><td>▁▄▅▅▆▆▆▇▇▇▇▆▆▇▇▇▇▇▇▆▇▇▇▇▇▇█▇█▇██▇▇█▇▇▇█▇</td></tr><tr><td>val/iou_class_13</td><td>▁▄▅▅▆▆▇▆▆▇▇▇▇▆█▇▇██▁▇▇▇▇▇▇▇▇▇▇▇▇▇█▇▇█▇██</td></tr><tr><td>val/iou_class_14</td><td>▄▅▆▇▇▇█▇▇████▇█████▁▆▆▇▇▇▇▇▇▇▇▇▇▇▇▇▇▇▇▇▇</td></tr><tr><td>val/iou_class_15</td><td>▁▄▄▇▇▇█▇▇▇▆▇▇▆█▇▆▇▇▂▄▆▆▆▆▇▆▇▆▆▆▇▇▆▆▇▇▆▇▇</td></tr><tr><td>val/iou_class_16</td><td>▁▄▇▆█▇█▇▇██▇█▆▇▅█▇▇▄▆▇▇▇▇▇█▇█▇▇▇▇█▇██▇██</td></tr><tr><td>val/iou_class_17</td><td>▃▃▄▅▆▄▆▇▇▆▇▇▆▅▆▇▆▇▇▁▅████▆▆▇█▇███████▇██</td></tr><tr><td>val/iou_class_18</td><td>▁▃▃▄▅▅▆▆▆▆▆▇▆▇▇▇▇▇█▆▆▇██▇███████████████</td></tr><tr><td>val/iou_class_2</td><td>▁▅▅▆▅▆▇▇▇▇▇▇▇█▇▇█▇█▅▇███████████████████</td></tr><tr><td>val/iou_class_3</td><td>▁▄▅▅▃▄▅█▆▇▂▇▃█▅▇▅▅▆▄▅▅▇▇▇▇▇▇▆▇▇▅▅▆▆▅▆▆▆▆</td></tr><tr><td>val/iou_class_4</td><td>▁▄▄▇▄▇▇▇▇▇▆█▆█▆█▇██▆▇███████▇██▇▇▇▇▇▇▇▇▇</td></tr><tr><td>val/iou_class_5</td><td>▁▃▃▅▄▆▆▆▆▆▆▆▇▇▇▇▇█▇▇▆▇▇▇▇▇██▇███████████</td></tr><tr><td>val/iou_class_6</td><td>▁▅▅▅▄▆▇▆▇▇▇▇▇▇█▇▇▇█▆▆█▇█▇▇████▇███████▇█</td></tr><tr><td>val/iou_class_7</td><td>▁▂▅▄▅▆▆▆▇▇▆▇▇█▇▇▇█▇▅▇▇██████████████████</td></tr><tr><td>val/iou_class_8</td><td>▁▄▅▅▅▆▆▆▇▇▇▇▇▇▇▇▇▇█▅▇▇▇█████████████████</td></tr><tr><td>val/iou_class_9</td><td>▂▄▅▅▅▅▇▇▇▇▆▇▇█▅█▇▇▆▁▆█▇█▇█████████▇▇████</td></tr><tr><td>val/mIoU</td><td>▁▄▅▆▆▇▇▇▇▇▇█▇▇█▇███▃▆▇██████████████████</td></tr></table><br/></div><div class=\"wandb-col\"><h3>Run summary:</h3><br/><table class=\"wandb\"><tr><td>best_val_mIoU</td><td>0.63797</td></tr><tr><td>epoch</td><td>50</td></tr><tr><td>final_train_epoch_loss_last_epoch</td><td>0.02172</td></tr><tr><td>table1_best_val_mIoU_percent</td><td>63.7968</td></tr><tr><td>table1_flops_g</td><td>374.66474</td></tr><tr><td>table1_latency_ms_mean</td><td>23.52278</td></tr><tr><td>table1_params_m</td><td>43.90107</td></tr><tr><td>train/batch_loss</td><td>0.01776</td></tr><tr><td>train/epoch_loss</td><td>0.02172</td></tr><tr><td>train/learning_rate</td><td>0.0</td></tr><tr><td>val/epoch_loss</td><td>0.33992</td></tr><tr><td>val/iou_class_0</td><td>0.97366</td></tr><tr><td>val/iou_class_1</td><td>0.78765</td></tr><tr><td>val/iou_class_10</td><td>0.91936</td></tr><tr><td>val/iou_class_11</td><td>0.68943</td></tr><tr><td>val/iou_class_12</td><td>0.47205</td></tr><tr><td>val/iou_class_13</td><td>0.90645</td></tr><tr><td>val/iou_class_14</td><td>0.53612</td></tr><tr><td>val/iou_class_15</td><td>0.51376</td></tr><tr><td>val/iou_class_16</td><td>0.49928</td></tr><tr><td>val/iou_class_17</td><td>0.44755</td></tr><tr><td>val/iou_class_18</td><td>0.65617</td></tr><tr><td>val/iou_class_2</td><td>0.88332</td></tr><tr><td>val/iou_class_3</td><td>0.4281</td></tr><tr><td>val/iou_class_4</td><td>0.41732</td></tr><tr><td>val/iou_class_5</td><td>0.41982</td></tr><tr><td>val/iou_class_6</td><td>0.46106</td></tr><tr><td>val/iou_class_7</td><td>0.61598</td></tr><tr><td>val/iou_class_8</td><td>0.88944</td></tr><tr><td>val/iou_class_9</td><td>0.57882</td></tr><tr><td>val/mIoU</td><td>0.6366</td></tr></table><br/></div></div>"
            ],
            "text/plain": [
              "<IPython.core.display.HTML object>"
            ]
          },
          "metadata": {},
          "output_type": "display_data"
        },
        {
          "data": {
            "text/html": [
              " View run <strong style=\"color:#cdcd00\">trim-darkness-10</strong> at: <a href='https://wandb.ai/RTDA-SemSeg/RTDA-SemSeg/runs/5kddouna' target=\"_blank\">https://wandb.ai/RTDA-SemSeg/RTDA-SemSeg/runs/5kddouna</a><br> View project at: <a href='https://wandb.ai/RTDA-SemSeg/RTDA-SemSeg' target=\"_blank\">https://wandb.ai/RTDA-SemSeg/RTDA-SemSeg</a><br>Synced 5 W&B file(s), 16 media file(s), 0 artifact file(s) and 2 other file(s)"
            ],
            "text/plain": [
              "<IPython.core.display.HTML object>"
            ]
          },
          "metadata": {},
          "output_type": "display_data"
        },
        {
          "data": {
            "text/html": [
              "Find logs at: <code>./wandb/run-20250524_104600-5kddouna/logs</code>"
            ],
            "text/plain": [
              "<IPython.core.display.HTML object>"
            ]
          },
          "metadata": {},
          "output_type": "display_data"
        },
        {
          "data": {
            "text/html": [
              "Tried to log to step 9800 that is less than the current step 9801. Steps must be monotonically increasing, so this data will be ignored. See https://wandb.me/define-metric to log data out of order."
            ],
            "text/plain": [
              "<IPython.core.display.HTML object>"
            ]
          },
          "metadata": {},
          "output_type": "display_data"
        },
        {
          "name": "stdout",
          "output_type": "stream",
          "text": [
            "Run completed.\n",
            "\n",
            "--- Full training run has finished (or attempted to finish). ---\n"
          ]
        }
      ],
      "source": [
        "import sys\n",
        "import importlib\n",
        "\n",
        "# --- Re-import config to pick up manual changes ---\n",
        "try:\n",
        "    import config as cfg\n",
        "    importlib.reload(cfg) # Make sure the manually edited paths are loaded\n",
        "    print(\"Config module reloaded. Effective paths for training:\")\n",
        "    print(f\"  DATASET_PATH: {cfg.DATASET_PATH}\")\n",
        "    print(f\"  PRETRAINED_MODEL_PATH: {cfg.PRETRAINED_MODEL_PATH}\")\n",
        "\n",
        "    # Verify paths from config again before running\n",
        "    if not os.path.exists(cfg.DATASET_PATH):\n",
        "        print(f\"ERROR: Configured DATASET_PATH '{cfg.DATASET_PATH}' does not exist! Training cannot start.\")\n",
        "        raise FileNotFoundError(f\"Dataset path not found: {cfg.DATASET_PATH}\")\n",
        "    if not os.path.exists(cfg.PRETRAINED_MODEL_PATH):\n",
        "        print(f\"ERROR: Configured PRETRAINED_MODEL_PATH '{cfg.PRETRAINED_MODEL_PATH}' does not exist! Training cannot start.\")\n",
        "        raise FileNotFoundError(f\"Pretrained model path not found: {cfg.PRETRAINED_MODEL_PATH}\")\n",
        "\n",
        "except ImportError:\n",
        "    print(\"ERROR: Could not import config.py. Ensure it's in your project path and sys.path is correct.\")\n",
        "    raise\n",
        "except Exception as e:\n",
        "    print(f\"ERROR during config reload or path check: {e}\")\n",
        "    raise\n",
        "\n",
        "# --- Run main.py's logic ---\n",
        "# Store original sys.argv to restore later if needed\n",
        "original_argv = sys.argv.copy()\n",
        "\n",
        "# For a full run, we'll rely on epochs set in config.py or pass them.\n",
        "# If you want to override epochs for this specific run, you can add '--epochs' 'NUMBER' here.\n",
        "# Otherwise, it will use cfg.TRAIN_EPOCHS.\n",
        "sys.argv = [\n",
        "    'main.py', # Placeholder for script name\n",
        "    # '--epochs', '50', # Example: Uncomment to force 50 epochs\n",
        "    # Add any other CLI args like --optimizer, --lr, etc. as needed.\n",
        "    # For example, for Step 2a:\n",
        "    # '--optimizer', 'sgd',\n",
        "]\n",
        "print(f\"\\nRunning main script with simulated command line arguments: {sys.argv}\")\n",
        "\n",
        "try:\n",
        "    import main as project_main\n",
        "    importlib.reload(project_main) # Re-import main in case its imports (like config) changed\n",
        "    project_main.main()\n",
        "    print(\"\\n--- Full training run has finished (or attempted to finish). ---\")\n",
        "except Exception as e:\n",
        "    import traceback\n",
        "    print(f\"An error occurred during the execution of main(): {e}\")\n",
        "    print(\"Full traceback:\")\n",
        "    print(traceback.format_exc())\n",
        "finally:\n",
        "    # Restore original sys.argv\n",
        "    sys.argv = original_argv"
      ]
    },
    {
      "cell_type": "code",
      "execution_count": null,
      "metadata": {
        "id": "8gYPPvyII5iG"
      },
      "outputs": [],
      "source": []
    }
  ],
  "metadata": {
    "accelerator": "GPU",
    "colab": {
      "gpuType": "A100",
      "machine_shape": "hm",
      "provenance": []
    },
    "kernelspec": {
      "display_name": "Python 3",
      "name": "python3"
    },
    "language_info": {
      "name": "python"
    }
  },
  "nbformat": 4,
  "nbformat_minor": 0
}
