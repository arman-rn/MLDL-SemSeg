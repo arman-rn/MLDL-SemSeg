{
  "cells": [
    {
      "cell_type": "code",
      "execution_count": null,
      "metadata": {
        "colab": {
          "base_uri": "https://localhost:8080/"
        },
        "id": "B7KzljWIYcOM",
        "outputId": "558a3ca0-162e-49ec-a66d-43a5e73aecf5"
      },
      "outputs": [
        {
          "name": "stdout",
          "output_type": "stream",
          "text": [
            "Cloning into 'RTDA-SemanticSegmentation'...\n",
            "remote: Enumerating objects: 141, done.\u001b[K\n",
            "remote: Counting objects: 100% (141/141), done.\u001b[K\n",
            "remote: Compressing objects: 100% (95/95), done.\u001b[K\n",
            "remote: Total 141 (delta 75), reused 107 (delta 41), pack-reused 0 (from 0)\u001b[K\n",
            "Receiving objects: 100% (141/141), 920.30 KiB | 6.44 MiB/s, done.\n",
            "Resolving deltas: 100% (75/75), done.\n",
            "/content/RTDA-SemanticSegmentation\n",
            "\u001b[2K     \u001b[90m━━━━━━━━━━━━━━━━━━━━━━━━━━━━━━━━━━━━━━━━\u001b[0m \u001b[32m50.2/50.2 kB\u001b[0m \u001b[31m2.5 MB/s\u001b[0m eta \u001b[36m0:00:00\u001b[0m\n",
            "\u001b[?25h  Preparing metadata (setup.py) ... \u001b[?25l\u001b[?25hdone\n",
            "\u001b[2K     \u001b[90m━━━━━━━━━━━━━━━━━━━━━━━━━━━━━━━━━━━━━━━━\u001b[0m \u001b[32m42.2/42.2 kB\u001b[0m \u001b[31m4.2 MB/s\u001b[0m eta \u001b[36m0:00:00\u001b[0m\n",
            "\u001b[?25h  Preparing metadata (setup.py) ... \u001b[?25l\u001b[?25hdone\n",
            "  Building wheel for fvcore (setup.py) ... \u001b[?25l\u001b[?25hdone\n",
            "  Building wheel for iopath (setup.py) ... \u001b[?25l\u001b[?25hdone\n"
          ]
        }
      ],
      "source": [
        "# Clone your GitHub repository and install required packages\n",
        "!git clone https://github.com/arman-rn/MLDL-SemSeg.git\n",
        "%cd MLDL-SemSeg\n",
        "\n",
        "# Install necessary Python packages\n",
        "!pip install -U fvcore gdown==4.7.1 --quiet"
      ]
    },
    {
      "cell_type": "code",
      "execution_count": null,
      "metadata": {
        "colab": {
          "base_uri": "https://localhost:8080/"
        },
        "id": "Nokb_AGtaEEW",
        "outputId": "441b2c18-b0e7-4339-8b96-260947cb6143"
      },
      "outputs": [
        {
          "name": "stdout",
          "output_type": "stream",
          "text": [
            "Cityspaces\n"
          ]
        }
      ],
      "source": [
        "import zipfile\n",
        "\n",
        "# Unzip Cityscapes dataset\n",
        "with zipfile.ZipFile('/content/drive/MyDrive/MLDL_PROJECT/Cityscapes.zip', 'r') as zip_ref:\n",
        "    zip_ref.extractall('/content/data')\n",
        "\n",
        "\n",
        "# Verify that the files are extracted\n",
        "!ls /content/data/Cityscapes"
      ]
    },
    {
      "cell_type": "code",
      "execution_count": null,
      "metadata": {
        "colab": {
          "base_uri": "https://localhost:8080/",
          "height": 138
        },
        "id": "3aHIc8e1dXA-",
        "outputId": "52ba0502-3fea-4f18-c8c5-0b755cbb2eda"
      },
      "outputs": [],
      "source": [
        "import wandb\n",
        "wandb.login()"
      ]
    },
    {
      "cell_type": "code",
      "execution_count": 9,
      "metadata": {
        "colab": {
          "base_uri": "https://localhost:8080/",
          "height": 1000
        },
        "id": "EvCH0m6VhYVJ",
        "outputId": "de1a4b3c-dbc5-4af0-aa74-3eaf116afa5b"
      },
      "outputs": [
        {
          "name": "stderr",
          "output_type": "stream",
          "text": [
            "/usr/local/lib/python3.11/dist-packages/albumentations/__init__.py:28: UserWarning: A new version of Albumentations is available: '2.0.8' (you have '2.0.7'). Upgrade using: pip install -U albumentations. To disable automatic update checks, set the environment variable NO_ALBUMENTATIONS_UPDATE to 1.\n",
            "  check_for_updates()\n"
          ]
        },
        {
          "name": "stdout",
          "output_type": "stream",
          "text": [
            "\n",
            "Running main script with simulated command line arguments: ['main.py']\n",
            "Seeds set to 42\n",
            "--- Effective Configuration (from cfg object after CLI overrides) ---\n",
            "Model Name: DEEPLABV2\n",
            "Train Dataset: CITYSCAPES (1024x512)\n",
            "  - Path: /content/data/Cityscapes/Cityspaces\n",
            "Validation Dataset: CITYSCAPES (1024x512)\n",
            "  - Path: /content/data/Cityscapes/Cityspaces\n",
            "Optimizer: ADAM\n",
            "Base Learning Rate (for adam): 0.0001\n",
            "Weight Decay: 0.0001\n",
            "Training for 50 epochs.\n",
            "Device: cuda\n",
            "Batch Size (from config): 8\n",
            "Checkpoint Directory: ./checkpoints/deeplabv2\n",
            "Resume from checkpoint: No\n",
            "-----------------------------\n"
          ]
        },
        {
          "data": {
            "text/html": [
              "Tracking run with wandb version 0.19.11"
            ],
            "text/plain": [
              "<IPython.core.display.HTML object>"
            ]
          },
          "metadata": {},
          "output_type": "display_data"
        },
        {
          "data": {
            "text/html": [
              "Run data is saved locally in <code>/content/RTDA-SemanticSegmentation/wandb/run-20250602_124412-pyic3uil</code>"
            ],
            "text/plain": [
              "<IPython.core.display.HTML object>"
            ]
          },
          "metadata": {},
          "output_type": "display_data"
        },
        {
          "data": {
            "text/html": [
              "Syncing run <strong><a href='https://wandb.ai/RTDA-SemSeg/RTDA-SemSeg/runs/pyic3uil' target=\"_blank\">firm-valley-22</a></strong> to <a href='https://wandb.ai/RTDA-SemSeg/RTDA-SemSeg' target=\"_blank\">Weights & Biases</a> (<a href='https://wandb.me/developer-guide' target=\"_blank\">docs</a>)<br>"
            ],
            "text/plain": [
              "<IPython.core.display.HTML object>"
            ]
          },
          "metadata": {},
          "output_type": "display_data"
        },
        {
          "data": {
            "text/html": [
              " View project at <a href='https://wandb.ai/RTDA-SemSeg/RTDA-SemSeg' target=\"_blank\">https://wandb.ai/RTDA-SemSeg/RTDA-SemSeg</a>"
            ],
            "text/plain": [
              "<IPython.core.display.HTML object>"
            ]
          },
          "metadata": {},
          "output_type": "display_data"
        },
        {
          "data": {
            "text/html": [
              " View run at <a href='https://wandb.ai/RTDA-SemSeg/RTDA-SemSeg/runs/pyic3uil' target=\"_blank\">https://wandb.ai/RTDA-SemSeg/RTDA-SemSeg/runs/pyic3uil</a>"
            ],
            "text/plain": [
              "<IPython.core.display.HTML object>"
            ]
          },
          "metadata": {},
          "output_type": "display_data"
        },
        {
          "name": "stdout",
          "output_type": "stream",
          "text": [
            "Weights & Biases initialized successfully.\n",
            "Loading Cityscapes training data from: /content/data/Cityscapes/Cityspaces\n",
            "Using Cityscapes training transforms (resize to 1024x512).\n",
            "Found 1572 training images for cityscapes.\n",
            "Loading Cityscapes validation data from: /content/data/Cityscapes/Cityspaces\n",
            "Using Cityscapes validation transforms (resize to 1024x512).\n",
            "Found 500 validation images for cityscapes.\n",
            "Train loader: 196 batches, 1572 images.\n",
            "Val loader: 500 batches, 500 images.\n",
            "Loading DeepLabV2 model with 19 classes.\n",
            "Using DeepLabV2 pretrained backbone from: /content/RTDA-SemanticSegmentation/models/deeplabv2/deeplab_resnet_pretrained_imagenet.pth\n",
            "Deeplab pretraining loading...\n"
          ]
        },
        {
          "name": "stderr",
          "output_type": "stream",
          "text": [
            "\u001b[34m\u001b[1mwandb\u001b[0m: logging graph, to disable use `wandb.watch(log_graph=False)`\n"
          ]
        },
        {
          "name": "stdout",
          "output_type": "stream",
          "text": [
            "Model 'deeplabv2' moved to device: cuda\n",
            "Using mixed-precision training with GradScaler on CUDA device.\n",
            "No resume checkpoint specified. Starting training from scratch.\n",
            "\n",
            "--- Epoch 1/50 ---\n"
          ]
        },
        {
          "name": "stderr",
          "output_type": "stream",
          "text": []
        },
        {
          "name": "stdout",
          "output_type": "stream",
          "text": [
            "\n",
            "Validation Epoch 1: Avg Loss: 0.3144, Overall Mean IoU: 0.4599\n",
            "New best mIoU: 0.4599 at epoch 1\n",
            "Saving checkpoint to ./checkpoints/deeplabv2/best_miou_checkpoint.pth...\n",
            "Checkpoint saved successfully to ./checkpoints/deeplabv2/best_miou_checkpoint.pth\n",
            "Checkpoint 'best_miou_checkpoint.pth' also saved to W&B artifacts.\n",
            "\n",
            "--- Epoch 2/50 ---\n"
          ]
        },
        {
          "name": "stderr",
          "output_type": "stream",
          "text": []
        },
        {
          "name": "stdout",
          "output_type": "stream",
          "text": [
            "\n",
            "Validation Epoch 2: Avg Loss: 0.2786, Overall Mean IoU: 0.5251\n",
            "New best mIoU: 0.5251 at epoch 2\n",
            "Saving checkpoint to ./checkpoints/deeplabv2/best_miou_checkpoint.pth...\n",
            "Checkpoint saved successfully to ./checkpoints/deeplabv2/best_miou_checkpoint.pth\n",
            "Checkpoint 'best_miou_checkpoint.pth' also saved to W&B artifacts.\n",
            "\n",
            "--- Epoch 3/50 ---\n"
          ]
        },
        {
          "name": "stderr",
          "output_type": "stream",
          "text": []
        },
        {
          "name": "stdout",
          "output_type": "stream",
          "text": [
            "\n",
            "Validation Epoch 3: Avg Loss: 0.2452, Overall Mean IoU: 0.5719\n",
            "New best mIoU: 0.5719 at epoch 3\n",
            "Saving checkpoint to ./checkpoints/deeplabv2/best_miou_checkpoint.pth...\n",
            "Checkpoint saved successfully to ./checkpoints/deeplabv2/best_miou_checkpoint.pth\n",
            "Checkpoint 'best_miou_checkpoint.pth' also saved to W&B artifacts.\n",
            "\n",
            "--- Epoch 4/50 ---\n"
          ]
        },
        {
          "name": "stderr",
          "output_type": "stream",
          "text": []
        },
        {
          "name": "stdout",
          "output_type": "stream",
          "text": [
            "\n",
            "Validation Epoch 4: Avg Loss: 0.2262, Overall Mean IoU: 0.6039\n",
            "New best mIoU: 0.6039 at epoch 4\n",
            "Saving checkpoint to ./checkpoints/deeplabv2/best_miou_checkpoint.pth...\n",
            "Checkpoint saved successfully to ./checkpoints/deeplabv2/best_miou_checkpoint.pth\n",
            "Checkpoint 'best_miou_checkpoint.pth' also saved to W&B artifacts.\n",
            "\n",
            "--- Epoch 5/50 ---\n"
          ]
        },
        {
          "name": "stderr",
          "output_type": "stream",
          "text": []
        },
        {
          "name": "stdout",
          "output_type": "stream",
          "text": [
            "\n",
            "Validation Epoch 5: Avg Loss: 0.2303, Overall Mean IoU: 0.6034\n",
            "Saving checkpoint to ./checkpoints/deeplabv2/checkpoint.pth...\n",
            "Checkpoint saved successfully to ./checkpoints/deeplabv2/checkpoint.pth\n",
            "Checkpoint 'checkpoint.pth' also saved to W&B artifacts.\n",
            "\n",
            "--- Epoch 6/50 ---\n"
          ]
        },
        {
          "name": "stderr",
          "output_type": "stream",
          "text": []
        },
        {
          "name": "stdout",
          "output_type": "stream",
          "text": [
            "\n",
            "Validation Epoch 6: Avg Loss: 0.2310, Overall Mean IoU: 0.6075\n",
            "New best mIoU: 0.6075 at epoch 6\n",
            "Saving checkpoint to ./checkpoints/deeplabv2/best_miou_checkpoint.pth...\n",
            "Checkpoint saved successfully to ./checkpoints/deeplabv2/best_miou_checkpoint.pth\n",
            "Checkpoint 'best_miou_checkpoint.pth' also saved to W&B artifacts.\n",
            "\n",
            "--- Epoch 7/50 ---\n"
          ]
        },
        {
          "name": "stderr",
          "output_type": "stream",
          "text": []
        },
        {
          "name": "stdout",
          "output_type": "stream",
          "text": [
            "\n",
            "Validation Epoch 7: Avg Loss: 0.2326, Overall Mean IoU: 0.6164\n",
            "New best mIoU: 0.6164 at epoch 7\n",
            "Saving checkpoint to ./checkpoints/deeplabv2/best_miou_checkpoint.pth...\n",
            "Checkpoint saved successfully to ./checkpoints/deeplabv2/best_miou_checkpoint.pth\n",
            "Checkpoint 'best_miou_checkpoint.pth' also saved to W&B artifacts.\n",
            "\n",
            "--- Epoch 8/50 ---\n"
          ]
        },
        {
          "name": "stderr",
          "output_type": "stream",
          "text": []
        },
        {
          "name": "stdout",
          "output_type": "stream",
          "text": [
            "\n",
            "Validation Epoch 8: Avg Loss: 0.2401, Overall Mean IoU: 0.5971\n",
            "\n",
            "--- Epoch 9/50 ---\n"
          ]
        },
        {
          "name": "stderr",
          "output_type": "stream",
          "text": []
        },
        {
          "name": "stdout",
          "output_type": "stream",
          "text": [
            "\n",
            "Validation Epoch 9: Avg Loss: 0.2354, Overall Mean IoU: 0.6188\n",
            "New best mIoU: 0.6188 at epoch 9\n",
            "Saving checkpoint to ./checkpoints/deeplabv2/best_miou_checkpoint.pth...\n",
            "Checkpoint saved successfully to ./checkpoints/deeplabv2/best_miou_checkpoint.pth\n",
            "Checkpoint 'best_miou_checkpoint.pth' also saved to W&B artifacts.\n",
            "\n",
            "--- Epoch 10/50 ---\n"
          ]
        },
        {
          "name": "stderr",
          "output_type": "stream",
          "text": []
        },
        {
          "name": "stdout",
          "output_type": "stream",
          "text": [
            "\n",
            "Validation Epoch 10: Avg Loss: 0.2417, Overall Mean IoU: 0.6085\n",
            "Saving checkpoint to ./checkpoints/deeplabv2/checkpoint.pth...\n",
            "Checkpoint saved successfully to ./checkpoints/deeplabv2/checkpoint.pth\n",
            "Checkpoint 'checkpoint.pth' also saved to W&B artifacts.\n",
            "\n",
            "--- Epoch 11/50 ---\n"
          ]
        },
        {
          "name": "stderr",
          "output_type": "stream",
          "text": []
        },
        {
          "name": "stdout",
          "output_type": "stream",
          "text": [
            "\n",
            "Validation Epoch 11: Avg Loss: 0.2723, Overall Mean IoU: 0.5700\n",
            "\n",
            "--- Epoch 12/50 ---\n"
          ]
        },
        {
          "name": "stderr",
          "output_type": "stream",
          "text": []
        },
        {
          "name": "stdout",
          "output_type": "stream",
          "text": [
            "\n",
            "Validation Epoch 12: Avg Loss: 0.2422, Overall Mean IoU: 0.5842\n",
            "\n",
            "--- Epoch 13/50 ---\n"
          ]
        },
        {
          "name": "stderr",
          "output_type": "stream",
          "text": []
        },
        {
          "name": "stdout",
          "output_type": "stream",
          "text": [
            "\n",
            "Validation Epoch 13: Avg Loss: 0.2364, Overall Mean IoU: 0.6188\n",
            "New best mIoU: 0.6188 at epoch 13\n",
            "Saving checkpoint to ./checkpoints/deeplabv2/best_miou_checkpoint.pth...\n",
            "Checkpoint saved successfully to ./checkpoints/deeplabv2/best_miou_checkpoint.pth\n",
            "Checkpoint 'best_miou_checkpoint.pth' also saved to W&B artifacts.\n",
            "\n",
            "--- Epoch 14/50 ---\n"
          ]
        },
        {
          "name": "stderr",
          "output_type": "stream",
          "text": []
        },
        {
          "name": "stdout",
          "output_type": "stream",
          "text": [
            "\n",
            "Validation Epoch 14: Avg Loss: 0.2364, Overall Mean IoU: 0.6180\n",
            "\n",
            "--- Epoch 15/50 ---\n"
          ]
        },
        {
          "name": "stderr",
          "output_type": "stream",
          "text": []
        },
        {
          "name": "stdout",
          "output_type": "stream",
          "text": [
            "\n",
            "Validation Epoch 15: Avg Loss: 0.2363, Overall Mean IoU: 0.6250\n",
            "New best mIoU: 0.6250 at epoch 15\n",
            "Saving checkpoint to ./checkpoints/deeplabv2/best_miou_checkpoint.pth...\n",
            "Checkpoint saved successfully to ./checkpoints/deeplabv2/best_miou_checkpoint.pth\n",
            "Checkpoint 'best_miou_checkpoint.pth' also saved to W&B artifacts.\n",
            "Saving checkpoint to ./checkpoints/deeplabv2/checkpoint.pth...\n",
            "Checkpoint saved successfully to ./checkpoints/deeplabv2/checkpoint.pth\n",
            "Checkpoint 'checkpoint.pth' also saved to W&B artifacts.\n",
            "\n",
            "--- Epoch 16/50 ---\n"
          ]
        },
        {
          "name": "stderr",
          "output_type": "stream",
          "text": []
        },
        {
          "name": "stdout",
          "output_type": "stream",
          "text": [
            "\n",
            "Validation Epoch 16: Avg Loss: 0.2420, Overall Mean IoU: 0.6253\n",
            "New best mIoU: 0.6253 at epoch 16\n",
            "Saving checkpoint to ./checkpoints/deeplabv2/best_miou_checkpoint.pth...\n",
            "Checkpoint saved successfully to ./checkpoints/deeplabv2/best_miou_checkpoint.pth\n",
            "Checkpoint 'best_miou_checkpoint.pth' also saved to W&B artifacts.\n",
            "\n",
            "--- Epoch 17/50 ---\n"
          ]
        },
        {
          "name": "stderr",
          "output_type": "stream",
          "text": []
        },
        {
          "name": "stdout",
          "output_type": "stream",
          "text": [
            "\n",
            "Validation Epoch 17: Avg Loss: 0.2466, Overall Mean IoU: 0.6253\n",
            "\n",
            "--- Epoch 18/50 ---\n"
          ]
        },
        {
          "name": "stderr",
          "output_type": "stream",
          "text": []
        },
        {
          "name": "stdout",
          "output_type": "stream",
          "text": [
            "\n",
            "Validation Epoch 18: Avg Loss: 0.2474, Overall Mean IoU: 0.6266\n",
            "New best mIoU: 0.6266 at epoch 18\n",
            "Saving checkpoint to ./checkpoints/deeplabv2/best_miou_checkpoint.pth...\n",
            "Checkpoint saved successfully to ./checkpoints/deeplabv2/best_miou_checkpoint.pth\n",
            "Checkpoint 'best_miou_checkpoint.pth' also saved to W&B artifacts.\n",
            "\n",
            "--- Epoch 19/50 ---\n"
          ]
        },
        {
          "name": "stderr",
          "output_type": "stream",
          "text": []
        },
        {
          "name": "stdout",
          "output_type": "stream",
          "text": [
            "\n",
            "Validation Epoch 19: Avg Loss: 0.2475, Overall Mean IoU: 0.6265\n",
            "\n",
            "--- Epoch 20/50 ---\n"
          ]
        },
        {
          "name": "stderr",
          "output_type": "stream",
          "text": []
        },
        {
          "name": "stdout",
          "output_type": "stream",
          "text": [
            "\n",
            "Validation Epoch 20: Avg Loss: 0.2436, Overall Mean IoU: 0.6309\n",
            "New best mIoU: 0.6309 at epoch 20\n",
            "Saving checkpoint to ./checkpoints/deeplabv2/best_miou_checkpoint.pth...\n",
            "Checkpoint saved successfully to ./checkpoints/deeplabv2/best_miou_checkpoint.pth\n",
            "Checkpoint 'best_miou_checkpoint.pth' also saved to W&B artifacts.\n",
            "Saving checkpoint to ./checkpoints/deeplabv2/checkpoint.pth...\n",
            "Checkpoint saved successfully to ./checkpoints/deeplabv2/checkpoint.pth\n",
            "Checkpoint 'checkpoint.pth' also saved to W&B artifacts.\n",
            "\n",
            "--- Epoch 21/50 ---\n"
          ]
        },
        {
          "name": "stderr",
          "output_type": "stream",
          "text": []
        },
        {
          "name": "stdout",
          "output_type": "stream",
          "text": [
            "\n",
            "Validation Epoch 21: Avg Loss: 0.2497, Overall Mean IoU: 0.6237\n",
            "\n",
            "--- Epoch 22/50 ---\n"
          ]
        },
        {
          "name": "stderr",
          "output_type": "stream",
          "text": []
        },
        {
          "name": "stdout",
          "output_type": "stream",
          "text": [
            "\n",
            "Validation Epoch 22: Avg Loss: 0.2521, Overall Mean IoU: 0.6278\n",
            "\n",
            "--- Epoch 23/50 ---\n"
          ]
        },
        {
          "name": "stderr",
          "output_type": "stream",
          "text": []
        },
        {
          "name": "stdout",
          "output_type": "stream",
          "text": [
            "\n",
            "Validation Epoch 23: Avg Loss: 0.2515, Overall Mean IoU: 0.6329\n",
            "New best mIoU: 0.6329 at epoch 23\n",
            "Saving checkpoint to ./checkpoints/deeplabv2/best_miou_checkpoint.pth...\n",
            "Checkpoint saved successfully to ./checkpoints/deeplabv2/best_miou_checkpoint.pth\n",
            "Checkpoint 'best_miou_checkpoint.pth' also saved to W&B artifacts.\n",
            "\n",
            "--- Epoch 24/50 ---\n"
          ]
        },
        {
          "name": "stderr",
          "output_type": "stream",
          "text": []
        },
        {
          "name": "stdout",
          "output_type": "stream",
          "text": [
            "\n",
            "Validation Epoch 24: Avg Loss: 0.2543, Overall Mean IoU: 0.6312\n",
            "\n",
            "--- Epoch 25/50 ---\n"
          ]
        },
        {
          "name": "stderr",
          "output_type": "stream",
          "text": []
        },
        {
          "name": "stdout",
          "output_type": "stream",
          "text": [
            "\n",
            "Validation Epoch 25: Avg Loss: 0.2540, Overall Mean IoU: 0.6336\n",
            "New best mIoU: 0.6336 at epoch 25\n",
            "Saving checkpoint to ./checkpoints/deeplabv2/best_miou_checkpoint.pth...\n",
            "Checkpoint saved successfully to ./checkpoints/deeplabv2/best_miou_checkpoint.pth\n",
            "Checkpoint 'best_miou_checkpoint.pth' also saved to W&B artifacts.\n",
            "Saving checkpoint to ./checkpoints/deeplabv2/checkpoint.pth...\n",
            "Checkpoint saved successfully to ./checkpoints/deeplabv2/checkpoint.pth\n",
            "Checkpoint 'checkpoint.pth' also saved to W&B artifacts.\n",
            "\n",
            "--- Epoch 26/50 ---\n"
          ]
        },
        {
          "name": "stderr",
          "output_type": "stream",
          "text": []
        },
        {
          "name": "stdout",
          "output_type": "stream",
          "text": [
            "\n",
            "Validation Epoch 26: Avg Loss: 0.2562, Overall Mean IoU: 0.6301\n",
            "\n",
            "--- Epoch 27/50 ---\n"
          ]
        },
        {
          "name": "stderr",
          "output_type": "stream",
          "text": []
        },
        {
          "name": "stdout",
          "output_type": "stream",
          "text": [
            "\n",
            "Validation Epoch 27: Avg Loss: 0.2572, Overall Mean IoU: 0.6276\n",
            "\n",
            "--- Epoch 28/50 ---\n"
          ]
        },
        {
          "name": "stderr",
          "output_type": "stream",
          "text": []
        },
        {
          "name": "stdout",
          "output_type": "stream",
          "text": [
            "\n",
            "Validation Epoch 28: Avg Loss: 0.2603, Overall Mean IoU: 0.6267\n",
            "\n",
            "--- Epoch 29/50 ---\n"
          ]
        },
        {
          "name": "stderr",
          "output_type": "stream",
          "text": []
        },
        {
          "name": "stdout",
          "output_type": "stream",
          "text": [
            "\n",
            "Validation Epoch 29: Avg Loss: 0.2575, Overall Mean IoU: 0.6337\n",
            "New best mIoU: 0.6337 at epoch 29\n",
            "Saving checkpoint to ./checkpoints/deeplabv2/best_miou_checkpoint.pth...\n",
            "Checkpoint saved successfully to ./checkpoints/deeplabv2/best_miou_checkpoint.pth\n",
            "Checkpoint 'best_miou_checkpoint.pth' also saved to W&B artifacts.\n",
            "\n",
            "--- Epoch 30/50 ---\n"
          ]
        },
        {
          "name": "stderr",
          "output_type": "stream",
          "text": []
        },
        {
          "name": "stdout",
          "output_type": "stream",
          "text": [
            "\n",
            "Validation Epoch 30: Avg Loss: 0.2608, Overall Mean IoU: 0.6392\n",
            "New best mIoU: 0.6392 at epoch 30\n",
            "Saving checkpoint to ./checkpoints/deeplabv2/best_miou_checkpoint.pth...\n",
            "Checkpoint saved successfully to ./checkpoints/deeplabv2/best_miou_checkpoint.pth\n",
            "Checkpoint 'best_miou_checkpoint.pth' also saved to W&B artifacts.\n",
            "Saving checkpoint to ./checkpoints/deeplabv2/checkpoint.pth...\n",
            "Checkpoint saved successfully to ./checkpoints/deeplabv2/checkpoint.pth\n",
            "Checkpoint 'checkpoint.pth' also saved to W&B artifacts.\n",
            "\n",
            "--- Epoch 31/50 ---\n"
          ]
        },
        {
          "name": "stderr",
          "output_type": "stream",
          "text": []
        },
        {
          "name": "stdout",
          "output_type": "stream",
          "text": [
            "\n",
            "Validation Epoch 31: Avg Loss: 0.2608, Overall Mean IoU: 0.6326\n",
            "\n",
            "--- Epoch 32/50 ---\n"
          ]
        },
        {
          "name": "stderr",
          "output_type": "stream",
          "text": []
        },
        {
          "name": "stdout",
          "output_type": "stream",
          "text": [
            "\n",
            "Validation Epoch 32: Avg Loss: 0.2656, Overall Mean IoU: 0.6385\n",
            "\n",
            "--- Epoch 33/50 ---\n"
          ]
        },
        {
          "name": "stderr",
          "output_type": "stream",
          "text": []
        },
        {
          "name": "stdout",
          "output_type": "stream",
          "text": [
            "\n",
            "Validation Epoch 33: Avg Loss: 0.2638, Overall Mean IoU: 0.6322\n",
            "\n",
            "--- Epoch 34/50 ---\n"
          ]
        },
        {
          "name": "stderr",
          "output_type": "stream",
          "text": []
        },
        {
          "name": "stdout",
          "output_type": "stream",
          "text": [
            "\n",
            "Validation Epoch 34: Avg Loss: 0.2734, Overall Mean IoU: 0.6350\n",
            "\n",
            "--- Epoch 35/50 ---\n"
          ]
        },
        {
          "name": "stderr",
          "output_type": "stream",
          "text": []
        },
        {
          "name": "stdout",
          "output_type": "stream",
          "text": [
            "\n",
            "Validation Epoch 35: Avg Loss: 0.2714, Overall Mean IoU: 0.6325\n",
            "Saving checkpoint to ./checkpoints/deeplabv2/checkpoint.pth...\n",
            "Checkpoint saved successfully to ./checkpoints/deeplabv2/checkpoint.pth\n",
            "Checkpoint 'checkpoint.pth' also saved to W&B artifacts.\n",
            "\n",
            "--- Epoch 36/50 ---\n"
          ]
        },
        {
          "name": "stderr",
          "output_type": "stream",
          "text": []
        },
        {
          "name": "stdout",
          "output_type": "stream",
          "text": [
            "\n",
            "Validation Epoch 36: Avg Loss: 0.2768, Overall Mean IoU: 0.6355\n",
            "\n",
            "--- Epoch 37/50 ---\n"
          ]
        },
        {
          "name": "stderr",
          "output_type": "stream",
          "text": []
        },
        {
          "name": "stdout",
          "output_type": "stream",
          "text": [
            "\n",
            "Validation Epoch 37: Avg Loss: 0.2802, Overall Mean IoU: 0.6329\n",
            "\n",
            "--- Epoch 38/50 ---\n"
          ]
        },
        {
          "name": "stderr",
          "output_type": "stream",
          "text": []
        },
        {
          "name": "stdout",
          "output_type": "stream",
          "text": [
            "\n",
            "Validation Epoch 38: Avg Loss: 0.2838, Overall Mean IoU: 0.6371\n",
            "\n",
            "--- Epoch 39/50 ---\n"
          ]
        },
        {
          "name": "stderr",
          "output_type": "stream",
          "text": []
        },
        {
          "name": "stdout",
          "output_type": "stream",
          "text": [
            "\n",
            "Validation Epoch 39: Avg Loss: 0.2869, Overall Mean IoU: 0.6394\n",
            "New best mIoU: 0.6394 at epoch 39\n",
            "Saving checkpoint to ./checkpoints/deeplabv2/best_miou_checkpoint.pth...\n",
            "Checkpoint saved successfully to ./checkpoints/deeplabv2/best_miou_checkpoint.pth\n",
            "Checkpoint 'best_miou_checkpoint.pth' also saved to W&B artifacts.\n",
            "\n",
            "--- Epoch 40/50 ---\n"
          ]
        },
        {
          "name": "stderr",
          "output_type": "stream",
          "text": []
        },
        {
          "name": "stdout",
          "output_type": "stream",
          "text": [
            "\n",
            "Validation Epoch 40: Avg Loss: 0.2892, Overall Mean IoU: 0.6359\n",
            "Saving checkpoint to ./checkpoints/deeplabv2/checkpoint.pth...\n",
            "Checkpoint saved successfully to ./checkpoints/deeplabv2/checkpoint.pth\n",
            "Checkpoint 'checkpoint.pth' also saved to W&B artifacts.\n",
            "\n",
            "--- Epoch 41/50 ---\n"
          ]
        },
        {
          "name": "stderr",
          "output_type": "stream",
          "text": []
        },
        {
          "name": "stdout",
          "output_type": "stream",
          "text": [
            "\n",
            "Validation Epoch 41: Avg Loss: 0.2979, Overall Mean IoU: 0.6351\n",
            "\n",
            "--- Epoch 42/50 ---\n"
          ]
        },
        {
          "name": "stderr",
          "output_type": "stream",
          "text": []
        },
        {
          "name": "stdout",
          "output_type": "stream",
          "text": [
            "\n",
            "Validation Epoch 42: Avg Loss: 0.3007, Overall Mean IoU: 0.6379\n",
            "\n",
            "--- Epoch 43/50 ---\n"
          ]
        },
        {
          "name": "stderr",
          "output_type": "stream",
          "text": []
        },
        {
          "name": "stdout",
          "output_type": "stream",
          "text": [
            "\n",
            "Validation Epoch 43: Avg Loss: 0.3075, Overall Mean IoU: 0.6361\n",
            "\n",
            "--- Epoch 44/50 ---\n"
          ]
        },
        {
          "name": "stderr",
          "output_type": "stream",
          "text": []
        },
        {
          "name": "stdout",
          "output_type": "stream",
          "text": [
            "\n",
            "Validation Epoch 44: Avg Loss: 0.3112, Overall Mean IoU: 0.6383\n",
            "\n",
            "--- Epoch 45/50 ---\n"
          ]
        },
        {
          "name": "stderr",
          "output_type": "stream",
          "text": []
        },
        {
          "name": "stdout",
          "output_type": "stream",
          "text": [
            "\n",
            "Validation Epoch 45: Avg Loss: 0.3159, Overall Mean IoU: 0.6390\n",
            "Saving checkpoint to ./checkpoints/deeplabv2/checkpoint.pth...\n",
            "Checkpoint saved successfully to ./checkpoints/deeplabv2/checkpoint.pth\n",
            "Checkpoint 'checkpoint.pth' also saved to W&B artifacts.\n",
            "\n",
            "--- Epoch 46/50 ---\n"
          ]
        },
        {
          "name": "stderr",
          "output_type": "stream",
          "text": []
        },
        {
          "name": "stdout",
          "output_type": "stream",
          "text": [
            "\n",
            "Validation Epoch 46: Avg Loss: 0.3242, Overall Mean IoU: 0.6372\n",
            "\n",
            "--- Epoch 47/50 ---\n"
          ]
        },
        {
          "name": "stderr",
          "output_type": "stream",
          "text": []
        },
        {
          "name": "stdout",
          "output_type": "stream",
          "text": [
            "\n",
            "Validation Epoch 47: Avg Loss: 0.3295, Overall Mean IoU: 0.6377\n",
            "\n",
            "--- Epoch 48/50 ---\n"
          ]
        },
        {
          "name": "stderr",
          "output_type": "stream",
          "text": []
        },
        {
          "name": "stdout",
          "output_type": "stream",
          "text": [
            "\n",
            "Validation Epoch 48: Avg Loss: 0.3406, Overall Mean IoU: 0.6381\n",
            "\n",
            "--- Epoch 49/50 ---\n"
          ]
        },
        {
          "name": "stderr",
          "output_type": "stream",
          "text": []
        },
        {
          "name": "stdout",
          "output_type": "stream",
          "text": [
            "\n",
            "Validation Epoch 49: Avg Loss: 0.3471, Overall Mean IoU: 0.6376\n",
            "\n",
            "--- Epoch 50/50 ---\n"
          ]
        },
        {
          "name": "stderr",
          "output_type": "stream",
          "text": []
        },
        {
          "name": "stdout",
          "output_type": "stream",
          "text": [
            "\n",
            "Validation Epoch 50: Avg Loss: 0.3514, Overall Mean IoU: 0.6366\n",
            "\n",
            "--- Training Finished ---\n",
            "Loading best model from ./checkpoints/deeplabv2/best_miou_checkpoint.pth for final evaluation...\n",
            "Loading checkpoint from './checkpoints/deeplabv2/best_miou_checkpoint.pth'...\n",
            "Checkpoint loaded successfully.\n",
            "Loaded per-class IoUs from the best checkpoint.\n",
            "\n",
            "Calculating performance metrics (FLOPs, Latency on current model state)...\n",
            "Calculating FLOPs and Parameters...\n"
          ]
        },
        {
          "name": "stderr",
          "output_type": "stream",
          "text": [
            "WARNING:fvcore.nn.jit_analysis:Unsupported operator aten::max_pool2d encountered 1 time(s)\n",
            "WARNING:fvcore.nn.jit_analysis:Unsupported operator aten::add_ encountered 36 time(s)\n"
          ]
        },
        {
          "name": "stdout",
          "output_type": "stream",
          "text": [
            "Calculating Latency (warmup: 10 iters, measurement: 100 iters)...\n",
            " Latency iteration 10/100 completed.\n",
            " Latency iteration 20/100 completed.\n",
            " Latency iteration 30/100 completed.\n",
            " Latency iteration 40/100 completed.\n",
            " Latency iteration 50/100 completed.\n",
            " Latency iteration 60/100 completed.\n",
            " Latency iteration 70/100 completed.\n",
            " Latency iteration 80/100 completed.\n",
            " Latency iteration 90/100 completed.\n",
            " Latency iteration 100/100 completed.\n",
            "\n",
            "--- Table 1: Classic Cityscapes (DeepLabV2 - Step 2a) ---\n",
            "| Metric                      | Value                               |\n",
            "|-----------------------------|-------------------------------------|\n",
            "| Best mIoU (%)               | 63.94                              |\n",
            "| Latency (ms)                | 23.45 +/- 0.17 |\n",
            "| FLOPs (G)                   | 374.66                                |\n",
            "| Params (M)                  | 43.90                                |\n",
            "\n",
            "Per-Class IoUs from Best Model Checkpoint:\n",
            "| Class Name           | IoU     |\n",
            "|----------------------|---------|\n",
            "| road                 | 0.9729 |\n",
            "| sidewalk             | 0.7873 |\n",
            "| building             | 0.8842 |\n",
            "| wall                 | 0.4561 |\n",
            "| fence                | 0.4237 |\n",
            "| pole                 | 0.4166 |\n",
            "| traffic light        | 0.4733 |\n",
            "| traffic sign         | 0.6119 |\n",
            "| vegetation           | 0.8902 |\n",
            "| terrain              | 0.5583 |\n",
            "| sky                  | 0.9123 |\n",
            "| person               | 0.6953 |\n",
            "| rider                | 0.4891 |\n",
            "| car                  | 0.9036 |\n",
            "| truck                | 0.5145 |\n",
            "| bus                  | 0.5388 |\n",
            "| train                | 0.5407 |\n",
            "| motorcycle           | 0.4238 |\n",
            "| bicycle              | 0.6566 |\n",
            "------------------------------------\n",
            "\n",
            "Full FLOPs Table (from fvcore calculation):\n",
            "| module                         | #parameters or shape   | #flops     |\n",
            "|:-------------------------------|:-----------------------|:-----------|\n",
            "| model                          | 43.901M                | 0.375T     |\n",
            "|  conv1                         |  9.408K                |  1.233G    |\n",
            "|   conv1.weight                 |   (64, 3, 7, 7)        |            |\n",
            "|  bn1                           |  0.128K                |  16.777M   |\n",
            "|   bn1.weight                   |   (64,)                |            |\n",
            "|   bn1.bias                     |   (64,)                |            |\n",
            "|  layer1                        |  0.216M                |  7.155G    |\n",
            "|   layer1.0                     |   75.008K              |   2.487G   |\n",
            "|    layer1.0.conv1              |    4.096K              |    0.136G  |\n",
            "|    layer1.0.bn1                |    0.128K              |    4.244M  |\n",
            "|    layer1.0.conv2              |    36.864K             |    1.222G  |\n",
            "|    layer1.0.bn2                |    0.128K              |    4.244M  |\n",
            "|    layer1.0.conv3              |    16.384K             |    0.543G  |\n",
            "|    layer1.0.bn3                |    0.512K              |    16.974M |\n",
            "|    layer1.0.downsample         |    16.896K             |    0.56G   |\n",
            "|   layer1.1                     |   70.4K                |   2.334G   |\n",
            "|    layer1.1.conv1              |    16.384K             |    0.543G  |\n",
            "|    layer1.1.bn1                |    0.128K              |    4.244M  |\n",
            "|    layer1.1.conv2              |    36.864K             |    1.222G  |\n",
            "|    layer1.1.bn2                |    0.128K              |    4.244M  |\n",
            "|    layer1.1.conv3              |    16.384K             |    0.543G  |\n",
            "|    layer1.1.bn3                |    0.512K              |    16.974M |\n",
            "|   layer1.2                     |   70.4K                |   2.334G   |\n",
            "|    layer1.2.conv1              |    16.384K             |    0.543G  |\n",
            "|    layer1.2.bn1                |    0.128K              |    4.244M  |\n",
            "|    layer1.2.conv2              |    36.864K             |    1.222G  |\n",
            "|    layer1.2.bn2                |    0.128K              |    4.244M  |\n",
            "|    layer1.2.conv3              |    16.384K             |    0.543G  |\n",
            "|    layer1.2.bn3                |    0.512K              |    16.974M |\n",
            "|  layer2                        |  1.22M                 |  10.226G   |\n",
            "|   layer2.0                     |   0.379M               |   3.181G   |\n",
            "|    layer2.0.conv1              |    32.768K             |    0.275G  |\n",
            "|    layer2.0.bn1                |    0.256K              |    2.147M  |\n",
            "|    layer2.0.conv2              |    0.147M              |    1.236G  |\n",
            "|    layer2.0.bn2                |    0.256K              |    2.147M  |\n",
            "|    layer2.0.conv3              |    65.536K             |    0.55G   |\n",
            "|    layer2.0.bn3                |    1.024K              |    8.586M  |\n",
            "|    layer2.0.downsample         |    0.132M              |    1.108G  |\n",
            "|   layer2.1                     |   0.28M                |   2.348G   |\n",
            "|    layer2.1.conv1              |    65.536K             |    0.55G   |\n",
            "|    layer2.1.bn1                |    0.256K              |    2.147M  |\n",
            "|    layer2.1.conv2              |    0.147M              |    1.236G  |\n",
            "|    layer2.1.bn2                |    0.256K              |    2.147M  |\n",
            "|    layer2.1.conv3              |    65.536K             |    0.55G   |\n",
            "|    layer2.1.bn3                |    1.024K              |    8.586M  |\n",
            "|   layer2.2                     |   0.28M                |   2.348G   |\n",
            "|    layer2.2.conv1              |    65.536K             |    0.55G   |\n",
            "|    layer2.2.bn1                |    0.256K              |    2.147M  |\n",
            "|    layer2.2.conv2              |    0.147M              |    1.236G  |\n",
            "|    layer2.2.bn2                |    0.256K              |    2.147M  |\n",
            "|    layer2.2.conv3              |    65.536K             |    0.55G   |\n",
            "|    layer2.2.bn3                |    1.024K              |    8.586M  |\n",
            "|   layer2.3                     |   0.28M                |   2.348G   |\n",
            "|    layer2.3.conv1              |    65.536K             |    0.55G   |\n",
            "|    layer2.3.bn1                |    0.256K              |    2.147M  |\n",
            "|    layer2.3.conv2              |    0.147M              |    1.236G  |\n",
            "|    layer2.3.bn2                |    0.256K              |    2.147M  |\n",
            "|    layer2.3.conv3              |    65.536K             |    0.55G   |\n",
            "|    layer2.3.bn3                |    1.024K              |    8.586M  |\n",
            "|  layer3                        |  26.09M                |  0.219T    |\n",
            "|   layer3.0                     |   1.512M               |   12.682G  |\n",
            "|    layer3.0.conv1              |    0.131M              |    1.099G  |\n",
            "|    layer3.0.bn1                |    0.512K              |    4.293M  |\n",
            "|    layer3.0.conv2              |    0.59M               |    4.946G  |\n",
            "|    layer3.0.bn2                |    0.512K              |    4.293M  |\n",
            "|    layer3.0.conv3              |    0.262M              |    2.198G  |\n",
            "|    layer3.0.bn3                |    2.048K              |    17.172M |\n",
            "|    layer3.0.downsample         |    0.526M              |    4.413G  |\n",
            "|   layer3.1                     |   1.117M               |   9.368G   |\n",
            "|    layer3.1.conv1              |    0.262M              |    2.198G  |\n",
            "|    layer3.1.bn1                |    0.512K              |    4.293M  |\n",
            "|    layer3.1.conv2              |    0.59M               |    4.946G  |\n",
            "|    layer3.1.bn2                |    0.512K              |    4.293M  |\n",
            "|    layer3.1.conv3              |    0.262M              |    2.198G  |\n",
            "|    layer3.1.bn3                |    2.048K              |    17.172M |\n",
            "|   layer3.2                     |   1.117M               |   9.368G   |\n",
            "|    layer3.2.conv1              |    0.262M              |    2.198G  |\n",
            "|    layer3.2.bn1                |    0.512K              |    4.293M  |\n",
            "|    layer3.2.conv2              |    0.59M               |    4.946G  |\n",
            "|    layer3.2.bn2                |    0.512K              |    4.293M  |\n",
            "|    layer3.2.conv3              |    0.262M              |    2.198G  |\n",
            "|    layer3.2.bn3                |    2.048K              |    17.172M |\n",
            "|   layer3.3                     |   1.117M               |   9.368G   |\n",
            "|    layer3.3.conv1              |    0.262M              |    2.198G  |\n",
            "|    layer3.3.bn1                |    0.512K              |    4.293M  |\n",
            "|    layer3.3.conv2              |    0.59M               |    4.946G  |\n",
            "|    layer3.3.bn2                |    0.512K              |    4.293M  |\n",
            "|    layer3.3.conv3              |    0.262M              |    2.198G  |\n",
            "|    layer3.3.bn3                |    2.048K              |    17.172M |\n",
            "|   layer3.4                     |   1.117M               |   9.368G   |\n",
            "|    layer3.4.conv1              |    0.262M              |    2.198G  |\n",
            "|    layer3.4.bn1                |    0.512K              |    4.293M  |\n",
            "|    layer3.4.conv2              |    0.59M               |    4.946G  |\n",
            "|    layer3.4.bn2                |    0.512K              |    4.293M  |\n",
            "|    layer3.4.conv3              |    0.262M              |    2.198G  |\n",
            "|    layer3.4.bn3                |    2.048K              |    17.172M |\n",
            "|   layer3.5                     |   1.117M               |   9.368G   |\n",
            "|    layer3.5.conv1              |    0.262M              |    2.198G  |\n",
            "|    layer3.5.bn1                |    0.512K              |    4.293M  |\n",
            "|    layer3.5.conv2              |    0.59M               |    4.946G  |\n",
            "|    layer3.5.bn2                |    0.512K              |    4.293M  |\n",
            "|    layer3.5.conv3              |    0.262M              |    2.198G  |\n",
            "|    layer3.5.bn3                |    2.048K              |    17.172M |\n",
            "|   layer3.6                     |   1.117M               |   9.368G   |\n",
            "|    layer3.6.conv1              |    0.262M              |    2.198G  |\n",
            "|    layer3.6.bn1                |    0.512K              |    4.293M  |\n",
            "|    layer3.6.conv2              |    0.59M               |    4.946G  |\n",
            "|    layer3.6.bn2                |    0.512K              |    4.293M  |\n",
            "|    layer3.6.conv3              |    0.262M              |    2.198G  |\n",
            "|    layer3.6.bn3                |    2.048K              |    17.172M |\n",
            "|   layer3.7                     |   1.117M               |   9.368G   |\n",
            "|    layer3.7.conv1              |    0.262M              |    2.198G  |\n",
            "|    layer3.7.bn1                |    0.512K              |    4.293M  |\n",
            "|    layer3.7.conv2              |    0.59M               |    4.946G  |\n",
            "|    layer3.7.bn2                |    0.512K              |    4.293M  |\n",
            "|    layer3.7.conv3              |    0.262M              |    2.198G  |\n",
            "|    layer3.7.bn3                |    2.048K              |    17.172M |\n",
            "|   layer3.8                     |   1.117M               |   9.368G   |\n",
            "|    layer3.8.conv1              |    0.262M              |    2.198G  |\n",
            "|    layer3.8.bn1                |    0.512K              |    4.293M  |\n",
            "|    layer3.8.conv2              |    0.59M               |    4.946G  |\n",
            "|    layer3.8.bn2                |    0.512K              |    4.293M  |\n",
            "|    layer3.8.conv3              |    0.262M              |    2.198G  |\n",
            "|    layer3.8.bn3                |    2.048K              |    17.172M |\n",
            "|   layer3.9                     |   1.117M               |   9.368G   |\n",
            "|    layer3.9.conv1              |    0.262M              |    2.198G  |\n",
            "|    layer3.9.bn1                |    0.512K              |    4.293M  |\n",
            "|    layer3.9.conv2              |    0.59M               |    4.946G  |\n",
            "|    layer3.9.bn2                |    0.512K              |    4.293M  |\n",
            "|    layer3.9.conv3              |    0.262M              |    2.198G  |\n",
            "|    layer3.9.bn3                |    2.048K              |    17.172M |\n",
            "|   layer3.10                    |   1.117M               |   9.368G   |\n",
            "|    layer3.10.conv1             |    0.262M              |    2.198G  |\n",
            "|    layer3.10.bn1               |    0.512K              |    4.293M  |\n",
            "|    layer3.10.conv2             |    0.59M               |    4.946G  |\n",
            "|    layer3.10.bn2               |    0.512K              |    4.293M  |\n",
            "|    layer3.10.conv3             |    0.262M              |    2.198G  |\n",
            "|    layer3.10.bn3               |    2.048K              |    17.172M |\n",
            "|   layer3.11                    |   1.117M               |   9.368G   |\n",
            "|    layer3.11.conv1             |    0.262M              |    2.198G  |\n",
            "|    layer3.11.bn1               |    0.512K              |    4.293M  |\n",
            "|    layer3.11.conv2             |    0.59M               |    4.946G  |\n",
            "|    layer3.11.bn2               |    0.512K              |    4.293M  |\n",
            "|    layer3.11.conv3             |    0.262M              |    2.198G  |\n",
            "|    layer3.11.bn3               |    2.048K              |    17.172M |\n",
            "|   layer3.12                    |   1.117M               |   9.368G   |\n",
            "|    layer3.12.conv1             |    0.262M              |    2.198G  |\n",
            "|    layer3.12.bn1               |    0.512K              |    4.293M  |\n",
            "|    layer3.12.conv2             |    0.59M               |    4.946G  |\n",
            "|    layer3.12.bn2               |    0.512K              |    4.293M  |\n",
            "|    layer3.12.conv3             |    0.262M              |    2.198G  |\n",
            "|    layer3.12.bn3               |    2.048K              |    17.172M |\n",
            "|   layer3.13                    |   1.117M               |   9.368G   |\n",
            "|    layer3.13.conv1             |    0.262M              |    2.198G  |\n",
            "|    layer3.13.bn1               |    0.512K              |    4.293M  |\n",
            "|    layer3.13.conv2             |    0.59M               |    4.946G  |\n",
            "|    layer3.13.bn2               |    0.512K              |    4.293M  |\n",
            "|    layer3.13.conv3             |    0.262M              |    2.198G  |\n",
            "|    layer3.13.bn3               |    2.048K              |    17.172M |\n",
            "|   layer3.14                    |   1.117M               |   9.368G   |\n",
            "|    layer3.14.conv1             |    0.262M              |    2.198G  |\n",
            "|    layer3.14.bn1               |    0.512K              |    4.293M  |\n",
            "|    layer3.14.conv2             |    0.59M               |    4.946G  |\n",
            "|    layer3.14.bn2               |    0.512K              |    4.293M  |\n",
            "|    layer3.14.conv3             |    0.262M              |    2.198G  |\n",
            "|    layer3.14.bn3               |    2.048K              |    17.172M |\n",
            "|   layer3.15                    |   1.117M               |   9.368G   |\n",
            "|    layer3.15.conv1             |    0.262M              |    2.198G  |\n",
            "|    layer3.15.bn1               |    0.512K              |    4.293M  |\n",
            "|    layer3.15.conv2             |    0.59M               |    4.946G  |\n",
            "|    layer3.15.bn2               |    0.512K              |    4.293M  |\n",
            "|    layer3.15.conv3             |    0.262M              |    2.198G  |\n",
            "|    layer3.15.bn3               |    2.048K              |    17.172M |\n",
            "|   layer3.16                    |   1.117M               |   9.368G   |\n",
            "|    layer3.16.conv1             |    0.262M              |    2.198G  |\n",
            "|    layer3.16.bn1               |    0.512K              |    4.293M  |\n",
            "|    layer3.16.conv2             |    0.59M               |    4.946G  |\n",
            "|    layer3.16.bn2               |    0.512K              |    4.293M  |\n",
            "|    layer3.16.conv3             |    0.262M              |    2.198G  |\n",
            "|    layer3.16.bn3               |    2.048K              |    17.172M |\n",
            "|   layer3.17                    |   1.117M               |   9.368G   |\n",
            "|    layer3.17.conv1             |    0.262M              |    2.198G  |\n",
            "|    layer3.17.bn1               |    0.512K              |    4.293M  |\n",
            "|    layer3.17.conv2             |    0.59M               |    4.946G  |\n",
            "|    layer3.17.bn2               |    0.512K              |    4.293M  |\n",
            "|    layer3.17.conv3             |    0.262M              |    2.198G  |\n",
            "|    layer3.17.bn3               |    2.048K              |    17.172M |\n",
            "|   layer3.18                    |   1.117M               |   9.368G   |\n",
            "|    layer3.18.conv1             |    0.262M              |    2.198G  |\n",
            "|    layer3.18.bn1               |    0.512K              |    4.293M  |\n",
            "|    layer3.18.conv2             |    0.59M               |    4.946G  |\n",
            "|    layer3.18.bn2               |    0.512K              |    4.293M  |\n",
            "|    layer3.18.conv3             |    0.262M              |    2.198G  |\n",
            "|    layer3.18.bn3               |    2.048K              |    17.172M |\n",
            "|   layer3.19                    |   1.117M               |   9.368G   |\n",
            "|    layer3.19.conv1             |    0.262M              |    2.198G  |\n",
            "|    layer3.19.bn1               |    0.512K              |    4.293M  |\n",
            "|    layer3.19.conv2             |    0.59M               |    4.946G  |\n",
            "|    layer3.19.bn2               |    0.512K              |    4.293M  |\n",
            "|    layer3.19.conv3             |    0.262M              |    2.198G  |\n",
            "|    layer3.19.bn3               |    2.048K              |    17.172M |\n",
            "|   layer3.20                    |   1.117M               |   9.368G   |\n",
            "|    layer3.20.conv1             |    0.262M              |    2.198G  |\n",
            "|    layer3.20.bn1               |    0.512K              |    4.293M  |\n",
            "|    layer3.20.conv2             |    0.59M               |    4.946G  |\n",
            "|    layer3.20.bn2               |    0.512K              |    4.293M  |\n",
            "|    layer3.20.conv3             |    0.262M              |    2.198G  |\n",
            "|    layer3.20.bn3               |    2.048K              |    17.172M |\n",
            "|   layer3.21                    |   1.117M               |   9.368G   |\n",
            "|    layer3.21.conv1             |    0.262M              |    2.198G  |\n",
            "|    layer3.21.bn1               |    0.512K              |    4.293M  |\n",
            "|    layer3.21.conv2             |    0.59M               |    4.946G  |\n",
            "|    layer3.21.bn2               |    0.512K              |    4.293M  |\n",
            "|    layer3.21.conv3             |    0.262M              |    2.198G  |\n",
            "|    layer3.21.bn3               |    2.048K              |    17.172M |\n",
            "|   layer3.22                    |   1.117M               |   9.368G   |\n",
            "|    layer3.22.conv1             |    0.262M              |    2.198G  |\n",
            "|    layer3.22.bn1               |    0.512K              |    4.293M  |\n",
            "|    layer3.22.conv2             |    0.59M               |    4.946G  |\n",
            "|    layer3.22.bn2               |    0.512K              |    4.293M  |\n",
            "|    layer3.22.conv3             |    0.262M              |    2.198G  |\n",
            "|    layer3.22.bn3               |    2.048K              |    17.172M |\n",
            "|  layer4                        |  14.965M               |  0.125T    |\n",
            "|   layer4.0                     |   6.04M                |   50.642G  |\n",
            "|    layer4.0.conv1              |    0.524M              |    4.396G  |\n",
            "|    layer4.0.bn1                |    1.024K              |    8.586M  |\n",
            "|    layer4.0.conv2              |    2.359M              |    19.783G |\n",
            "|    layer4.0.bn2                |    1.024K              |    8.586M  |\n",
            "|    layer4.0.conv3              |    1.049M              |    8.792G  |\n",
            "|    layer4.0.bn3                |    4.096K              |    34.345M |\n",
            "|    layer4.0.downsample         |    2.101M              |    17.619G |\n",
            "|   layer4.1                     |   4.463M               |   37.419G  |\n",
            "|    layer4.1.conv1              |    1.049M              |    8.792G  |\n",
            "|    layer4.1.bn1                |    1.024K              |    8.586M  |\n",
            "|    layer4.1.conv2              |    2.359M              |    19.783G |\n",
            "|    layer4.1.bn2                |    1.024K              |    8.586M  |\n",
            "|    layer4.1.conv3              |    1.049M              |    8.792G  |\n",
            "|    layer4.1.bn3                |    4.096K              |    34.345M |\n",
            "|   layer4.2                     |   4.463M               |   37.419G  |\n",
            "|    layer4.2.conv1              |    1.049M              |    8.792G  |\n",
            "|    layer4.2.bn1                |    1.024K              |    8.586M  |\n",
            "|    layer4.2.conv2              |    2.359M              |    19.783G |\n",
            "|    layer4.2.bn2                |    1.024K              |    8.586M  |\n",
            "|    layer4.2.conv3              |    1.049M              |    8.792G  |\n",
            "|    layer4.2.bn3                |    4.096K              |    34.345M |\n",
            "|  layer6.conv2d_list            |  1.401M                |  11.746G   |\n",
            "|   layer6.conv2d_list.0         |   0.35M                |   2.936G   |\n",
            "|    layer6.conv2d_list.0.weight |    (19, 2048, 3, 3)    |            |\n",
            "|    layer6.conv2d_list.0.bias   |    (19,)               |            |\n",
            "|   layer6.conv2d_list.1         |   0.35M                |   2.936G   |\n",
            "|    layer6.conv2d_list.1.weight |    (19, 2048, 3, 3)    |            |\n",
            "|    layer6.conv2d_list.1.bias   |    (19,)               |            |\n",
            "|   layer6.conv2d_list.2         |   0.35M                |   2.936G   |\n",
            "|    layer6.conv2d_list.2.weight |    (19, 2048, 3, 3)    |            |\n",
            "|    layer6.conv2d_list.2.bias   |    (19,)               |            |\n",
            "|   layer6.conv2d_list.3         |   0.35M                |   2.936G   |\n",
            "|    layer6.conv2d_list.3.weight |    (19, 2048, 3, 3)    |            |\n",
            "|    layer6.conv2d_list.3.bias   |    (19,)               |            |\n"
          ]
        },
        {
          "data": {
            "text/html": [],
            "text/plain": [
              "<IPython.core.display.HTML object>"
            ]
          },
          "metadata": {},
          "output_type": "display_data"
        },
        {
          "data": {
            "text/html": [
              "<br>    <style><br>        .wandb-row {<br>            display: flex;<br>            flex-direction: row;<br>            flex-wrap: wrap;<br>            justify-content: flex-start;<br>            width: 100%;<br>        }<br>        .wandb-col {<br>            display: flex;<br>            flex-direction: column;<br>            flex-basis: 100%;<br>            flex: 1;<br>            padding: 10px;<br>        }<br>    </style><br><div class=\"wandb-row\"><div class=\"wandb-col\"><h3>Run history:</h3><br/><table class=\"wandb\"><tr><td>epoch</td><td>▁▁▁▁▂▂▂▂▂▂▃▃▃▃▄▄▄▄▄▄▅▅▅▅▅▆▆▆▆▆▆▇▇▇▇▇▇███</td></tr><tr><td>train/batch_loss</td><td>█▄▃▃▃▂▂▃▂▂▂▁▂▂▂▁▁▁▁▁▁▁▁▁▁▁▁▁▁▁▁▁▁▁▁▁▁▁▁▁</td></tr><tr><td>train/epoch_loss</td><td>█▄▃▃▂▂▂▂▂▂▂▂▂▁▁▁▁▁▁▁▁▁▁▁▁▁▁▁▁▁▁▁▁▁▁▁▁▁▁▁</td></tr><tr><td>train/learning_rate</td><td>███▇▇▇▇▇▇▇▆▆▆▆▆▅▅▅▅▅▅▄▄▄▄▄▃▃▃▃▃▃▃▂▂▂▂▂▁▁</td></tr><tr><td>val/epoch_loss</td><td>▆▂▁▁▁▂▂▂▄▂▂▂▂▂▂▂▂▂▂▃▃▃▃▃▃▃▃▄▄▄▄▄▅▅▆▆▆▇▇█</td></tr><tr><td>val/mIoU</td><td>▁▄▅▇▇▇▆▇▇▅▇▇▇▇▇▇█▇██████████████████████</td></tr><tr><td>val_iou_per_class/iou_bicycle</td><td>▁▅▅▆▆▆▆▆▇▆▇▇▇▇▇▇▇▇▇█▇▇██████████████████</td></tr><tr><td>val_iou_per_class/iou_building</td><td>▁▂▅▆▆▆▇▇▇▆▇▇▇▇▇▇█▇▇█████████████████████</td></tr><tr><td>val_iou_per_class/iou_bus</td><td>▁▃▆▆▇█▇▇▅▁▆▇▆▅▆▇▇▆▇▆█▇▇▇██▇▇▇▇█▇▇▇▇█▇▇▇▇</td></tr><tr><td>val_iou_per_class/iou_car</td><td>▁▃▅▆▆▇▇▇▇▃▇▇▇▇▇▇▇▇▇▇█████▇█▇████████████</td></tr><tr><td>val_iou_per_class/iou_fence</td><td>▂▁▃▇▆▇▇▇▅▅▇█▇███▇▇▇▇█▇█▇▇▇▇▇▇▇▇▇▇▇▇▇▇▇▇▇</td></tr><tr><td>val_iou_per_class/iou_motorcycle</td><td>▁▆▇▇▇█▂█▇▇█▇▇▇▇█████▇▇▇▇███▇█████▇██████</td></tr><tr><td>val_iou_per_class/iou_person</td><td>▁▂▄▅▄▅▅▆▅▅▆▆▇▇▆▆▇▇▇▇▇▇▇▇▇▇█▇▇▇█▇▇███████</td></tr><tr><td>val_iou_per_class/iou_pole</td><td>▁▂▂▃▄▆▄▅▄▄▆▆▆▆▆▆▆▆▇▆▆▇▇▇▇▇▇▇▇▇▇█▇█▇█████</td></tr><tr><td>val_iou_per_class/iou_rider</td><td>▁▆▆▇▆▇▇▇▇▇██▇▇██▇▇██▇▇█▇████▇▇█▇▇█▇█▇█▇█</td></tr><tr><td>val_iou_per_class/iou_road</td><td>▁▂▅▆▆▆▆▆▆▃▇▇▇▇▇▇▇▇▇▇▇▇██▇███████████████</td></tr><tr><td>val_iou_per_class/iou_sidewalk</td><td>▁▂▄▆▆▆▆▆▆▃▇▇▇▇▇▇▇▇▇▇▇█▇█████████████████</td></tr><tr><td>val_iou_per_class/iou_sky</td><td>▁▄▆▆▆▇▆▇▆▄▆▇▇▇▇▇▇▇████▇▇▇███▇███████████</td></tr><tr><td>val_iou_per_class/iou_terrain</td><td>▁▄▄▆▇▇▇█▇▆▆▇██▇▇▇█▇█▇▇▇████████▇████████</td></tr><tr><td>val_iou_per_class/iou_traffic light</td><td>▁▄▆▆▆▇▆▆▆▇▇█▇█▇██▇▇█▇█████▇█▇███████████</td></tr><tr><td>val_iou_per_class/iou_traffic sign</td><td>▁▃▄▅▆▆▆▆▇▄▇▇▇▇▇▇▇▇▇▇▇▇███▇▇█████████████</td></tr><tr><td>val_iou_per_class/iou_train</td><td>▂▁▅▆▆▆▆▇▆▅▇▆▇▇▇█▆▇▇▇▇▇▇▇█▇▇█▇▇█▇████▇███</td></tr><tr><td>val_iou_per_class/iou_truck</td><td>▁▄▆█▇▆▇▇▄▆▇█▇▇█▇▇█▇█▇▆▇▇▇▆▇▆▇▇▇▇▇▇▇▇▇▇▇▇</td></tr><tr><td>val_iou_per_class/iou_vegetation</td><td>▁▃▅▆▅▆▆▇▆▆▇▇▇▇▇▇▇▇▇▇▇▇▇█▇███████████████</td></tr><tr><td>val_iou_per_class/iou_wall</td><td>▁▃▅▇▅▆▄█▆▄▅▆▆▇▇▆▇▇▇▆▇▆█▆█▇▇▆█▇▆▇▇▇▆▇▇▇▇▇</td></tr></table><br/></div><div class=\"wandb-col\"><h3>Run summary:</h3><br/><table class=\"wandb\"><tr><td>Step2a_best_overall_val_mIoU_percent</td><td>63.94278</td></tr><tr><td>Step2a_final_iou_bicycle</td><td>0.65663</td></tr><tr><td>Step2a_final_iou_building</td><td>0.88416</td></tr><tr><td>Step2a_final_iou_bus</td><td>0.5388</td></tr><tr><td>Step2a_final_iou_car</td><td>0.90358</td></tr><tr><td>Step2a_final_iou_fence</td><td>0.42365</td></tr><tr><td>Step2a_final_iou_motorcycle</td><td>0.42379</td></tr><tr><td>Step2a_final_iou_person</td><td>0.69532</td></tr><tr><td>Step2a_final_iou_pole</td><td>0.41659</td></tr><tr><td>Step2a_final_iou_rider</td><td>0.48906</td></tr><tr><td>Step2a_final_iou_road</td><td>0.97286</td></tr><tr><td>Step2a_final_iou_sidewalk</td><td>0.78733</td></tr><tr><td>Step2a_final_iou_sky</td><td>0.91234</td></tr><tr><td>Step2a_final_iou_terrain</td><td>0.55833</td></tr><tr><td>Step2a_final_iou_traffic light</td><td>0.4733</td></tr><tr><td>Step2a_final_iou_traffic sign</td><td>0.61194</td></tr><tr><td>Step2a_final_iou_train</td><td>0.54065</td></tr><tr><td>Step2a_final_iou_truck</td><td>0.51451</td></tr><tr><td>Step2a_final_iou_vegetation</td><td>0.89018</td></tr><tr><td>Step2a_final_iou_wall</td><td>0.45608</td></tr><tr><td>Step2a_flops_g</td><td>374.66474</td></tr><tr><td>Step2a_latency_ms_mean</td><td>23.45475</td></tr><tr><td>Step2a_params_m</td><td>43.90107</td></tr><tr><td>best_val_mIoU</td><td>0.63943</td></tr><tr><td>epoch</td><td>50</td></tr><tr><td>final_train_epoch_loss_last_epoch</td><td>0.02087</td></tr><tr><td>train/batch_loss</td><td>0.02258</td></tr><tr><td>train/epoch_loss</td><td>0.02087</td></tr><tr><td>train/learning_rate</td><td>0.0</td></tr><tr><td>val/epoch_loss</td><td>0.35139</td></tr><tr><td>val/mIoU</td><td>0.63656</td></tr><tr><td>val_iou_per_class/iou_bicycle</td><td>0.6578</td></tr><tr><td>val_iou_per_class/iou_building</td><td>0.88309</td></tr><tr><td>val_iou_per_class/iou_bus</td><td>0.51538</td></tr><tr><td>val_iou_per_class/iou_car</td><td>0.90431</td></tr><tr><td>val_iou_per_class/iou_fence</td><td>0.42496</td></tr><tr><td>val_iou_per_class/iou_motorcycle</td><td>0.40955</td></tr><tr><td>val_iou_per_class/iou_person</td><td>0.69388</td></tr><tr><td>val_iou_per_class/iou_pole</td><td>0.41973</td></tr><tr><td>val_iou_per_class/iou_rider</td><td>0.47291</td></tr><tr><td>val_iou_per_class/iou_road</td><td>0.9731</td></tr><tr><td>val_iou_per_class/iou_sidewalk</td><td>0.78915</td></tr><tr><td>val_iou_per_class/iou_sky</td><td>0.91352</td></tr><tr><td>val_iou_per_class/iou_terrain</td><td>0.56953</td></tr><tr><td>val_iou_per_class/iou_traffic light</td><td>0.46122</td></tr><tr><td>val_iou_per_class/iou_traffic sign</td><td>0.61332</td></tr><tr><td>val_iou_per_class/iou_train</td><td>0.53798</td></tr><tr><td>val_iou_per_class/iou_truck</td><td>0.51737</td></tr><tr><td>val_iou_per_class/iou_vegetation</td><td>0.89031</td></tr><tr><td>val_iou_per_class/iou_wall</td><td>0.44749</td></tr></table><br/></div></div>"
            ],
            "text/plain": [
              "<IPython.core.display.HTML object>"
            ]
          },
          "metadata": {},
          "output_type": "display_data"
        },
        {
          "data": {
            "text/html": [
              " View run <strong style=\"color:#cdcd00\">firm-valley-22</strong> at: <a href='https://wandb.ai/RTDA-SemSeg/RTDA-SemSeg/runs/pyic3uil' target=\"_blank\">https://wandb.ai/RTDA-SemSeg/RTDA-SemSeg/runs/pyic3uil</a><br> View project at: <a href='https://wandb.ai/RTDA-SemSeg/RTDA-SemSeg' target=\"_blank\">https://wandb.ai/RTDA-SemSeg/RTDA-SemSeg</a><br>Synced 5 W&B file(s), 17 media file(s), 0 artifact file(s) and 2 other file(s)"
            ],
            "text/plain": [
              "<IPython.core.display.HTML object>"
            ]
          },
          "metadata": {},
          "output_type": "display_data"
        },
        {
          "data": {
            "text/html": [
              "Find logs at: <code>./wandb/run-20250602_124412-pyic3uil/logs</code>"
            ],
            "text/plain": [
              "<IPython.core.display.HTML object>"
            ]
          },
          "metadata": {},
          "output_type": "display_data"
        },
        {
          "name": "stdout",
          "output_type": "stream",
          "text": [
            "Run completed.\n",
            "\n",
            "--- Full training run has finished (or attempted to finish). ---\n"
          ]
        }
      ],
      "source": [
        "import sys\n",
        "import importlib\n",
        "\n",
        "# --- Re-import config to pick up manual changes ---\n",
        "try:\n",
        "    import config as cfg\n",
        "    importlib.reload(cfg) # Make sure the manually edited paths are loaded\n",
        "\n",
        "except ImportError:\n",
        "    print(\"ERROR: Could not import config.py. Ensure it's in your project path and sys.path is correct.\")\n",
        "    raise\n",
        "except Exception as e:\n",
        "    print(f\"ERROR during config reload or path check: {e}\")\n",
        "    raise\n",
        "\n",
        "# --- Run main.py's logic ---\n",
        "# Store original sys.argv to restore later if needed\n",
        "original_argv = sys.argv.copy()\n",
        "\n",
        "\n",
        "sys.argv = [\n",
        "    'main.py'\n",
        "]\n",
        "print(f\"\\nRunning main script with simulated command line arguments: {sys.argv}\")\n",
        "\n",
        "try:\n",
        "    import main as project_main\n",
        "    importlib.reload(project_main) # Re-import main in case its imports (like config) changed\n",
        "    project_main.main()\n",
        "    print(\"\\n--- Full training run has finished (or attempted to finish). ---\")\n",
        "except Exception as e:\n",
        "    import traceback\n",
        "    print(f\"An error occurred during the execution of main(): {e}\")\n",
        "    print(\"Full traceback:\")\n",
        "    print(traceback.format_exc())\n",
        "finally:\n",
        "    # Restore original sys.argv\n",
        "    sys.argv = original_argv"
      ]
    }
  ],
  "metadata": {
    "accelerator": "GPU",
    "colab": {
      "gpuType": "A100",
      "machine_shape": "hm",
      "provenance": []
    },
    "kernelspec": {
      "display_name": "Python 3",
      "name": "python3"
    },
    "language_info": {
      "name": "python"
    }
  },
  "nbformat": 4,
  "nbformat_minor": 0
}
