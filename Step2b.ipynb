{
  "cells": [
    {
      "cell_type": "code",
      "execution_count": null,
      "metadata": {
        "colab": {
          "base_uri": "https://localhost:8080/"
        },
        "id": "B7KzljWIYcOM",
        "outputId": "b01678a0-c1f9-4782-97cf-b60074bbcbb0"
      },
      "outputs": [
        {
          "name": "stdout",
          "output_type": "stream",
          "text": [
            "Cloning into 'RTDA-SemanticSegmentation'...\n",
            "remote: Enumerating objects: 141, done.\u001b[K\n",
            "remote: Counting objects: 100% (141/141), done.\u001b[K\n",
            "remote: Compressing objects: 100% (95/95), done.\u001b[K\n",
            "remote: Total 141 (delta 75), reused 107 (delta 41), pack-reused 0 (from 0)\u001b[K\n",
            "Receiving objects: 100% (141/141), 920.30 KiB | 6.05 MiB/s, done.\n",
            "Resolving deltas: 100% (75/75), done.\n",
            "/content/RTDA-SemanticSegmentation\n",
            "\u001b[2K     \u001b[90m━━━━━━━━━━━━━━━━━━━━━━━━━━━━━━━━━━━━━━━━\u001b[0m \u001b[32m50.2/50.2 kB\u001b[0m \u001b[31m2.0 MB/s\u001b[0m eta \u001b[36m0:00:00\u001b[0m\n",
            "\u001b[?25h  Preparing metadata (setup.py) ... \u001b[?25l\u001b[?25hdone\n",
            "\u001b[2K     \u001b[90m━━━━━━━━━━━━━━━━━━━━━━━━━━━━━━━━━━━━━━━━\u001b[0m \u001b[32m42.2/42.2 kB\u001b[0m \u001b[31m3.5 MB/s\u001b[0m eta \u001b[36m0:00:00\u001b[0m\n",
            "\u001b[?25h  Preparing metadata (setup.py) ... \u001b[?25l\u001b[?25hdone\n",
            "  Building wheel for fvcore (setup.py) ... \u001b[?25l\u001b[?25hdone\n",
            "  Building wheel for iopath (setup.py) ... \u001b[?25l\u001b[?25hdone\n"
          ]
        }
      ],
      "source": [
        "# Clone your GitHub repository and install required packages\n",
        "!git clone https://github.com/arman-rn/MLDL-SemSeg.git\n",
        "%cd MLDL-SemSeg\n",
        "\n",
        "# Install necessary Python packages\n",
        "!pip install -U fvcore gdown==4.7.1 --quiet"
      ]
    },
    {
      "cell_type": "code",
      "execution_count": null,
      "metadata": {
        "colab": {
          "base_uri": "https://localhost:8080/"
        },
        "id": "Nokb_AGtaEEW",
        "outputId": "a58929ab-695a-420a-ddde-5d208ed6046e"
      },
      "outputs": [
        {
          "name": "stdout",
          "output_type": "stream",
          "text": [
            "Cityspaces\n"
          ]
        }
      ],
      "source": [
        "import zipfile\n",
        "\n",
        "# Unzip Cityscapes dataset\n",
        "with zipfile.ZipFile('/content/drive/MyDrive/MLDL_PROJECT/Cityscapes.zip', 'r') as zip_ref:\n",
        "    zip_ref.extractall('/content/data')\n",
        "\n",
        "# Verify that the files are extracted\n",
        "!ls /content/data/Cityscapes\n"
      ]
    },
    {
      "cell_type": "code",
      "execution_count": null,
      "metadata": {
        "colab": {
          "base_uri": "https://localhost:8080/",
          "height": 191
        },
        "id": "3aHIc8e1dXA-",
        "outputId": "99850bac-e87f-447c-b1b1-edc2ce820a10"
      },
      "outputs": [],
      "source": [
        "import wandb\n",
        "wandb.login()"
      ]
    },
    {
      "cell_type": "code",
      "execution_count": 4,
      "metadata": {
        "colab": {
          "base_uri": "https://localhost:8080/",
          "height": 1000
        },
        "id": "EvCH0m6VhYVJ",
        "outputId": "2b8b0808-4b34-46f2-8b56-bda4b740286e"
      },
      "outputs": [
        {
          "name": "stderr",
          "output_type": "stream",
          "text": [
            "/usr/local/lib/python3.11/dist-packages/albumentations/__init__.py:28: UserWarning: A new version of Albumentations is available: '2.0.8' (you have '2.0.7'). Upgrade using: pip install -U albumentations. To disable automatic update checks, set the environment variable NO_ALBUMENTATIONS_UPDATE to 1.\n",
            "  check_for_updates()\n"
          ]
        },
        {
          "name": "stdout",
          "output_type": "stream",
          "text": [
            "\n",
            "Running main script with simulated command line arguments: ['main.py']\n",
            "Seeds set to 42\n",
            "--- Effective Configuration (from cfg object after CLI overrides) ---\n",
            "Model Name: BISENET\n",
            "Train Dataset: CITYSCAPES (1024x512)\n",
            "  - Path: /content/data/Cityscapes/Cityspaces\n",
            "Validation Dataset: CITYSCAPES (1024x512)\n",
            "  - Path: /content/data/Cityscapes/Cityspaces\n",
            "BiSeNet Context Path: resnet18\n",
            "Optimizer: ADAM\n",
            "Base Learning Rate (for adam): 0.0001\n",
            "Weight Decay: 0.0001\n",
            "Training for 50 epochs.\n",
            "Device: cuda\n",
            "Batch Size (from config): 8\n",
            "Checkpoint Directory: ./checkpoints/bisenet\n",
            "Resume from checkpoint: No\n",
            "-----------------------------\n"
          ]
        },
        {
          "data": {
            "text/html": [
              "Tracking run with wandb version 0.19.11"
            ],
            "text/plain": [
              "<IPython.core.display.HTML object>"
            ]
          },
          "metadata": {},
          "output_type": "display_data"
        },
        {
          "data": {
            "text/html": [
              "Run data is saved locally in <code>/content/RTDA-SemanticSegmentation/wandb/run-20250602_142502-28b0upft</code>"
            ],
            "text/plain": [
              "<IPython.core.display.HTML object>"
            ]
          },
          "metadata": {},
          "output_type": "display_data"
        },
        {
          "data": {
            "text/html": [
              "Syncing run <strong><a href='https://wandb.ai/RTDA-SemSeg/RTDA-SemSeg/runs/28b0upft' target=\"_blank\">deep-shape-23</a></strong> to <a href='https://wandb.ai/RTDA-SemSeg/RTDA-SemSeg' target=\"_blank\">Weights & Biases</a> (<a href='https://wandb.me/developer-guide' target=\"_blank\">docs</a>)<br>"
            ],
            "text/plain": [
              "<IPython.core.display.HTML object>"
            ]
          },
          "metadata": {},
          "output_type": "display_data"
        },
        {
          "data": {
            "text/html": [
              " View project at <a href='https://wandb.ai/RTDA-SemSeg/RTDA-SemSeg' target=\"_blank\">https://wandb.ai/RTDA-SemSeg/RTDA-SemSeg</a>"
            ],
            "text/plain": [
              "<IPython.core.display.HTML object>"
            ]
          },
          "metadata": {},
          "output_type": "display_data"
        },
        {
          "data": {
            "text/html": [
              " View run at <a href='https://wandb.ai/RTDA-SemSeg/RTDA-SemSeg/runs/28b0upft' target=\"_blank\">https://wandb.ai/RTDA-SemSeg/RTDA-SemSeg/runs/28b0upft</a>"
            ],
            "text/plain": [
              "<IPython.core.display.HTML object>"
            ]
          },
          "metadata": {},
          "output_type": "display_data"
        },
        {
          "name": "stdout",
          "output_type": "stream",
          "text": [
            "Weights & Biases initialized successfully.\n",
            "Loading Cityscapes training data from: /content/data/Cityscapes/Cityspaces\n",
            "Using Cityscapes training transforms (resize to 1024x512).\n",
            "Found 1572 training images for cityscapes.\n",
            "Loading Cityscapes validation data from: /content/data/Cityscapes/Cityspaces\n",
            "Using Cityscapes validation transforms (resize to 1024x512).\n",
            "Found 500 validation images for cityscapes.\n",
            "Train loader: 196 batches, 1572 images.\n",
            "Val loader: 500 batches, 500 images.\n",
            "Loading BiSeNet model with 19 classes.\n",
            "Using BiSeNet context path: resnet18\n"
          ]
        },
        {
          "name": "stderr",
          "output_type": "stream",
          "text": [
            "Downloading: \"https://download.pytorch.org/models/resnet18-f37072fd.pth\" to /root/.cache/torch/hub/checkpoints/resnet18-f37072fd.pth\n",
            "100%|██████████| 44.7M/44.7M [00:00<00:00, 169MB/s]\n",
            "Downloading: \"https://download.pytorch.org/models/resnet101-63fe2227.pth\" to /root/.cache/torch/hub/checkpoints/resnet101-63fe2227.pth\n",
            "100%|██████████| 171M/171M [00:00<00:00, 211MB/s]\n",
            "\u001b[34m\u001b[1mwandb\u001b[0m: logging graph, to disable use `wandb.watch(log_graph=False)`\n"
          ]
        },
        {
          "name": "stdout",
          "output_type": "stream",
          "text": [
            "Model 'bisenet' moved to device: cuda\n",
            "Using mixed-precision training with GradScaler on CUDA device.\n",
            "No resume checkpoint specified. Starting training from scratch.\n",
            "\n",
            "--- Epoch 1/50 ---\n"
          ]
        },
        {
          "name": "stderr",
          "output_type": "stream",
          "text": []
        },
        {
          "name": "stdout",
          "output_type": "stream",
          "text": [
            "\n",
            "Validation Epoch 1: Avg Loss: 0.8396, Overall Mean IoU: 0.3024\n",
            "New best mIoU: 0.3024 at epoch 1\n",
            "Saving checkpoint to ./checkpoints/bisenet/best_miou_checkpoint.pth...\n",
            "Checkpoint saved successfully to ./checkpoints/bisenet/best_miou_checkpoint.pth\n",
            "Checkpoint 'best_miou_checkpoint.pth' also saved to W&B artifacts.\n",
            "\n",
            "--- Epoch 2/50 ---\n"
          ]
        },
        {
          "name": "stderr",
          "output_type": "stream",
          "text": []
        },
        {
          "name": "stdout",
          "output_type": "stream",
          "text": [
            "\n",
            "Validation Epoch 2: Avg Loss: 0.6412, Overall Mean IoU: 0.3848\n",
            "New best mIoU: 0.3848 at epoch 2\n",
            "Saving checkpoint to ./checkpoints/bisenet/best_miou_checkpoint.pth...\n",
            "Checkpoint saved successfully to ./checkpoints/bisenet/best_miou_checkpoint.pth\n",
            "Checkpoint 'best_miou_checkpoint.pth' also saved to W&B artifacts.\n",
            "\n",
            "--- Epoch 3/50 ---\n"
          ]
        },
        {
          "name": "stderr",
          "output_type": "stream",
          "text": []
        },
        {
          "name": "stdout",
          "output_type": "stream",
          "text": [
            "\n",
            "Validation Epoch 3: Avg Loss: 0.5403, Overall Mean IoU: 0.4144\n",
            "New best mIoU: 0.4144 at epoch 3\n",
            "Saving checkpoint to ./checkpoints/bisenet/best_miou_checkpoint.pth...\n",
            "Checkpoint saved successfully to ./checkpoints/bisenet/best_miou_checkpoint.pth\n",
            "Checkpoint 'best_miou_checkpoint.pth' also saved to W&B artifacts.\n",
            "\n",
            "--- Epoch 4/50 ---\n"
          ]
        },
        {
          "name": "stderr",
          "output_type": "stream",
          "text": []
        },
        {
          "name": "stdout",
          "output_type": "stream",
          "text": [
            "\n",
            "Validation Epoch 4: Avg Loss: 0.4377, Overall Mean IoU: 0.4570\n",
            "New best mIoU: 0.4570 at epoch 4\n",
            "Saving checkpoint to ./checkpoints/bisenet/best_miou_checkpoint.pth...\n",
            "Checkpoint saved successfully to ./checkpoints/bisenet/best_miou_checkpoint.pth\n",
            "Checkpoint 'best_miou_checkpoint.pth' also saved to W&B artifacts.\n",
            "\n",
            "--- Epoch 5/50 ---\n"
          ]
        },
        {
          "name": "stderr",
          "output_type": "stream",
          "text": []
        },
        {
          "name": "stdout",
          "output_type": "stream",
          "text": [
            "\n",
            "Validation Epoch 5: Avg Loss: 0.3784, Overall Mean IoU: 0.4916\n",
            "New best mIoU: 0.4916 at epoch 5\n",
            "Saving checkpoint to ./checkpoints/bisenet/best_miou_checkpoint.pth...\n",
            "Checkpoint saved successfully to ./checkpoints/bisenet/best_miou_checkpoint.pth\n",
            "Checkpoint 'best_miou_checkpoint.pth' also saved to W&B artifacts.\n",
            "Saving checkpoint to ./checkpoints/bisenet/checkpoint.pth...\n",
            "Checkpoint saved successfully to ./checkpoints/bisenet/checkpoint.pth\n",
            "Checkpoint 'checkpoint.pth' also saved to W&B artifacts.\n",
            "\n",
            "--- Epoch 6/50 ---\n"
          ]
        },
        {
          "name": "stderr",
          "output_type": "stream",
          "text": []
        },
        {
          "name": "stdout",
          "output_type": "stream",
          "text": [
            "\n",
            "Validation Epoch 6: Avg Loss: 0.3418, Overall Mean IoU: 0.5110\n",
            "New best mIoU: 0.5110 at epoch 6\n",
            "Saving checkpoint to ./checkpoints/bisenet/best_miou_checkpoint.pth...\n",
            "Checkpoint saved successfully to ./checkpoints/bisenet/best_miou_checkpoint.pth\n",
            "Checkpoint 'best_miou_checkpoint.pth' also saved to W&B artifacts.\n",
            "\n",
            "--- Epoch 7/50 ---\n"
          ]
        },
        {
          "name": "stderr",
          "output_type": "stream",
          "text": []
        },
        {
          "name": "stdout",
          "output_type": "stream",
          "text": [
            "\n",
            "Validation Epoch 7: Avg Loss: 0.3170, Overall Mean IoU: 0.5130\n",
            "New best mIoU: 0.5130 at epoch 7\n",
            "Saving checkpoint to ./checkpoints/bisenet/best_miou_checkpoint.pth...\n",
            "Checkpoint saved successfully to ./checkpoints/bisenet/best_miou_checkpoint.pth\n",
            "Checkpoint 'best_miou_checkpoint.pth' also saved to W&B artifacts.\n",
            "\n",
            "--- Epoch 8/50 ---\n"
          ]
        },
        {
          "name": "stderr",
          "output_type": "stream",
          "text": []
        },
        {
          "name": "stdout",
          "output_type": "stream",
          "text": [
            "\n",
            "Validation Epoch 8: Avg Loss: 0.3044, Overall Mean IoU: 0.5176\n",
            "New best mIoU: 0.5176 at epoch 8\n",
            "Saving checkpoint to ./checkpoints/bisenet/best_miou_checkpoint.pth...\n",
            "Checkpoint saved successfully to ./checkpoints/bisenet/best_miou_checkpoint.pth\n",
            "Checkpoint 'best_miou_checkpoint.pth' also saved to W&B artifacts.\n",
            "\n",
            "--- Epoch 9/50 ---\n"
          ]
        },
        {
          "name": "stderr",
          "output_type": "stream",
          "text": []
        },
        {
          "name": "stdout",
          "output_type": "stream",
          "text": [
            "\n",
            "Validation Epoch 9: Avg Loss: 0.3038, Overall Mean IoU: 0.5100\n",
            "\n",
            "--- Epoch 10/50 ---\n"
          ]
        },
        {
          "name": "stderr",
          "output_type": "stream",
          "text": []
        },
        {
          "name": "stdout",
          "output_type": "stream",
          "text": [
            "\n",
            "Validation Epoch 10: Avg Loss: 0.2884, Overall Mean IoU: 0.5148\n",
            "Saving checkpoint to ./checkpoints/bisenet/checkpoint.pth...\n",
            "Checkpoint saved successfully to ./checkpoints/bisenet/checkpoint.pth\n",
            "Checkpoint 'checkpoint.pth' also saved to W&B artifacts.\n",
            "\n",
            "--- Epoch 11/50 ---\n"
          ]
        },
        {
          "name": "stderr",
          "output_type": "stream",
          "text": []
        },
        {
          "name": "stdout",
          "output_type": "stream",
          "text": [
            "\n",
            "Validation Epoch 11: Avg Loss: 0.3063, Overall Mean IoU: 0.5009\n",
            "\n",
            "--- Epoch 12/50 ---\n"
          ]
        },
        {
          "name": "stderr",
          "output_type": "stream",
          "text": []
        },
        {
          "name": "stdout",
          "output_type": "stream",
          "text": [
            "\n",
            "Validation Epoch 12: Avg Loss: 0.2799, Overall Mean IoU: 0.5316\n",
            "New best mIoU: 0.5316 at epoch 12\n",
            "Saving checkpoint to ./checkpoints/bisenet/best_miou_checkpoint.pth...\n",
            "Checkpoint saved successfully to ./checkpoints/bisenet/best_miou_checkpoint.pth\n",
            "Checkpoint 'best_miou_checkpoint.pth' also saved to W&B artifacts.\n",
            "\n",
            "--- Epoch 13/50 ---\n"
          ]
        },
        {
          "name": "stderr",
          "output_type": "stream",
          "text": []
        },
        {
          "name": "stdout",
          "output_type": "stream",
          "text": [
            "\n",
            "Validation Epoch 13: Avg Loss: 0.2765, Overall Mean IoU: 0.5450\n",
            "New best mIoU: 0.5450 at epoch 13\n",
            "Saving checkpoint to ./checkpoints/bisenet/best_miou_checkpoint.pth...\n",
            "Checkpoint saved successfully to ./checkpoints/bisenet/best_miou_checkpoint.pth\n",
            "Checkpoint 'best_miou_checkpoint.pth' also saved to W&B artifacts.\n",
            "\n",
            "--- Epoch 14/50 ---\n"
          ]
        },
        {
          "name": "stderr",
          "output_type": "stream",
          "text": []
        },
        {
          "name": "stdout",
          "output_type": "stream",
          "text": [
            "\n",
            "Validation Epoch 14: Avg Loss: 0.2737, Overall Mean IoU: 0.5402\n",
            "\n",
            "--- Epoch 15/50 ---\n"
          ]
        },
        {
          "name": "stderr",
          "output_type": "stream",
          "text": []
        },
        {
          "name": "stdout",
          "output_type": "stream",
          "text": [
            "\n",
            "Validation Epoch 15: Avg Loss: 0.2752, Overall Mean IoU: 0.5342\n",
            "Saving checkpoint to ./checkpoints/bisenet/checkpoint.pth...\n",
            "Checkpoint saved successfully to ./checkpoints/bisenet/checkpoint.pth\n",
            "Checkpoint 'checkpoint.pth' also saved to W&B artifacts.\n",
            "\n",
            "--- Epoch 16/50 ---\n"
          ]
        },
        {
          "name": "stderr",
          "output_type": "stream",
          "text": []
        },
        {
          "name": "stdout",
          "output_type": "stream",
          "text": [
            "\n",
            "Validation Epoch 16: Avg Loss: 0.2726, Overall Mean IoU: 0.5427\n",
            "\n",
            "--- Epoch 17/50 ---\n"
          ]
        },
        {
          "name": "stderr",
          "output_type": "stream",
          "text": []
        },
        {
          "name": "stdout",
          "output_type": "stream",
          "text": [
            "\n",
            "Validation Epoch 17: Avg Loss: 0.2676, Overall Mean IoU: 0.5445\n",
            "\n",
            "--- Epoch 18/50 ---\n"
          ]
        },
        {
          "name": "stderr",
          "output_type": "stream",
          "text": []
        },
        {
          "name": "stdout",
          "output_type": "stream",
          "text": [
            "\n",
            "Validation Epoch 18: Avg Loss: 0.2734, Overall Mean IoU: 0.5414\n",
            "\n",
            "--- Epoch 19/50 ---\n"
          ]
        },
        {
          "name": "stderr",
          "output_type": "stream",
          "text": []
        },
        {
          "name": "stdout",
          "output_type": "stream",
          "text": [
            "\n",
            "Validation Epoch 19: Avg Loss: 0.2666, Overall Mean IoU: 0.5486\n",
            "New best mIoU: 0.5486 at epoch 19\n",
            "Saving checkpoint to ./checkpoints/bisenet/best_miou_checkpoint.pth...\n",
            "Checkpoint saved successfully to ./checkpoints/bisenet/best_miou_checkpoint.pth\n",
            "Checkpoint 'best_miou_checkpoint.pth' also saved to W&B artifacts.\n",
            "\n",
            "--- Epoch 20/50 ---\n"
          ]
        },
        {
          "name": "stderr",
          "output_type": "stream",
          "text": []
        },
        {
          "name": "stdout",
          "output_type": "stream",
          "text": [
            "\n",
            "Validation Epoch 20: Avg Loss: 0.2714, Overall Mean IoU: 0.5390\n",
            "Saving checkpoint to ./checkpoints/bisenet/checkpoint.pth...\n",
            "Checkpoint saved successfully to ./checkpoints/bisenet/checkpoint.pth\n",
            "Checkpoint 'checkpoint.pth' also saved to W&B artifacts.\n",
            "\n",
            "--- Epoch 21/50 ---\n"
          ]
        },
        {
          "name": "stderr",
          "output_type": "stream",
          "text": []
        },
        {
          "name": "stdout",
          "output_type": "stream",
          "text": [
            "\n",
            "Validation Epoch 21: Avg Loss: 0.2750, Overall Mean IoU: 0.5330\n",
            "\n",
            "--- Epoch 22/50 ---\n"
          ]
        },
        {
          "name": "stderr",
          "output_type": "stream",
          "text": []
        },
        {
          "name": "stdout",
          "output_type": "stream",
          "text": [
            "\n",
            "Validation Epoch 22: Avg Loss: 0.2744, Overall Mean IoU: 0.5332\n",
            "\n",
            "--- Epoch 23/50 ---\n"
          ]
        },
        {
          "name": "stderr",
          "output_type": "stream",
          "text": []
        },
        {
          "name": "stdout",
          "output_type": "stream",
          "text": [
            "\n",
            "Validation Epoch 23: Avg Loss: 0.2762, Overall Mean IoU: 0.5375\n",
            "\n",
            "--- Epoch 24/50 ---\n"
          ]
        },
        {
          "name": "stderr",
          "output_type": "stream",
          "text": []
        },
        {
          "name": "stdout",
          "output_type": "stream",
          "text": [
            "\n",
            "Validation Epoch 24: Avg Loss: 0.2741, Overall Mean IoU: 0.5428\n",
            "\n",
            "--- Epoch 25/50 ---\n"
          ]
        },
        {
          "name": "stderr",
          "output_type": "stream",
          "text": []
        },
        {
          "name": "stdout",
          "output_type": "stream",
          "text": [
            "\n",
            "Validation Epoch 25: Avg Loss: 0.2815, Overall Mean IoU: 0.5397\n",
            "Saving checkpoint to ./checkpoints/bisenet/checkpoint.pth...\n",
            "Checkpoint saved successfully to ./checkpoints/bisenet/checkpoint.pth\n",
            "Checkpoint 'checkpoint.pth' also saved to W&B artifacts.\n",
            "\n",
            "--- Epoch 26/50 ---\n"
          ]
        },
        {
          "name": "stderr",
          "output_type": "stream",
          "text": []
        },
        {
          "name": "stdout",
          "output_type": "stream",
          "text": [
            "\n",
            "Validation Epoch 26: Avg Loss: 0.2773, Overall Mean IoU: 0.5365\n",
            "\n",
            "--- Epoch 27/50 ---\n"
          ]
        },
        {
          "name": "stderr",
          "output_type": "stream",
          "text": []
        },
        {
          "name": "stdout",
          "output_type": "stream",
          "text": [
            "\n",
            "Validation Epoch 27: Avg Loss: 0.2879, Overall Mean IoU: 0.5283\n",
            "\n",
            "--- Epoch 28/50 ---\n"
          ]
        },
        {
          "name": "stderr",
          "output_type": "stream",
          "text": []
        },
        {
          "name": "stdout",
          "output_type": "stream",
          "text": [
            "\n",
            "Validation Epoch 28: Avg Loss: 0.2765, Overall Mean IoU: 0.5479\n",
            "\n",
            "--- Epoch 29/50 ---\n"
          ]
        },
        {
          "name": "stderr",
          "output_type": "stream",
          "text": []
        },
        {
          "name": "stdout",
          "output_type": "stream",
          "text": [
            "\n",
            "Validation Epoch 29: Avg Loss: 0.2814, Overall Mean IoU: 0.5385\n",
            "\n",
            "--- Epoch 30/50 ---\n"
          ]
        },
        {
          "name": "stderr",
          "output_type": "stream",
          "text": []
        },
        {
          "name": "stdout",
          "output_type": "stream",
          "text": [
            "\n",
            "Validation Epoch 30: Avg Loss: 0.2792, Overall Mean IoU: 0.5340\n",
            "Saving checkpoint to ./checkpoints/bisenet/checkpoint.pth...\n",
            "Checkpoint saved successfully to ./checkpoints/bisenet/checkpoint.pth\n",
            "Checkpoint 'checkpoint.pth' also saved to W&B artifacts.\n",
            "\n",
            "--- Epoch 31/50 ---\n"
          ]
        },
        {
          "name": "stderr",
          "output_type": "stream",
          "text": []
        },
        {
          "name": "stdout",
          "output_type": "stream",
          "text": [
            "\n",
            "Validation Epoch 31: Avg Loss: 0.2833, Overall Mean IoU: 0.5394\n",
            "\n",
            "--- Epoch 32/50 ---\n"
          ]
        },
        {
          "name": "stderr",
          "output_type": "stream",
          "text": []
        },
        {
          "name": "stdout",
          "output_type": "stream",
          "text": [
            "\n",
            "Validation Epoch 32: Avg Loss: 0.2854, Overall Mean IoU: 0.5364\n",
            "\n",
            "--- Epoch 33/50 ---\n"
          ]
        },
        {
          "name": "stderr",
          "output_type": "stream",
          "text": []
        },
        {
          "name": "stdout",
          "output_type": "stream",
          "text": [
            "\n",
            "Validation Epoch 33: Avg Loss: 0.2835, Overall Mean IoU: 0.5379\n",
            "\n",
            "--- Epoch 34/50 ---\n"
          ]
        },
        {
          "name": "stderr",
          "output_type": "stream",
          "text": []
        },
        {
          "name": "stdout",
          "output_type": "stream",
          "text": [
            "\n",
            "Validation Epoch 34: Avg Loss: 0.2876, Overall Mean IoU: 0.5289\n",
            "\n",
            "--- Epoch 35/50 ---\n"
          ]
        },
        {
          "name": "stderr",
          "output_type": "stream",
          "text": []
        },
        {
          "name": "stdout",
          "output_type": "stream",
          "text": [
            "\n",
            "Validation Epoch 35: Avg Loss: 0.2808, Overall Mean IoU: 0.5479\n",
            "Saving checkpoint to ./checkpoints/bisenet/checkpoint.pth...\n",
            "Checkpoint saved successfully to ./checkpoints/bisenet/checkpoint.pth\n",
            "Checkpoint 'checkpoint.pth' also saved to W&B artifacts.\n",
            "\n",
            "--- Epoch 36/50 ---\n"
          ]
        },
        {
          "name": "stderr",
          "output_type": "stream",
          "text": []
        },
        {
          "name": "stdout",
          "output_type": "stream",
          "text": [
            "\n",
            "Validation Epoch 36: Avg Loss: 0.2871, Overall Mean IoU: 0.5372\n",
            "\n",
            "--- Epoch 37/50 ---\n"
          ]
        },
        {
          "name": "stderr",
          "output_type": "stream",
          "text": []
        },
        {
          "name": "stdout",
          "output_type": "stream",
          "text": [
            "\n",
            "Validation Epoch 37: Avg Loss: 0.2868, Overall Mean IoU: 0.5423\n",
            "\n",
            "--- Epoch 38/50 ---\n"
          ]
        },
        {
          "name": "stderr",
          "output_type": "stream",
          "text": []
        },
        {
          "name": "stdout",
          "output_type": "stream",
          "text": [
            "\n",
            "Validation Epoch 38: Avg Loss: 0.2866, Overall Mean IoU: 0.5457\n",
            "\n",
            "--- Epoch 39/50 ---\n"
          ]
        },
        {
          "name": "stderr",
          "output_type": "stream",
          "text": []
        },
        {
          "name": "stdout",
          "output_type": "stream",
          "text": [
            "\n",
            "Validation Epoch 39: Avg Loss: 0.2903, Overall Mean IoU: 0.5396\n",
            "\n",
            "--- Epoch 40/50 ---\n"
          ]
        },
        {
          "name": "stderr",
          "output_type": "stream",
          "text": []
        },
        {
          "name": "stdout",
          "output_type": "stream",
          "text": [
            "\n",
            "Validation Epoch 40: Avg Loss: 0.2928, Overall Mean IoU: 0.5387\n",
            "Saving checkpoint to ./checkpoints/bisenet/checkpoint.pth...\n",
            "Checkpoint saved successfully to ./checkpoints/bisenet/checkpoint.pth\n",
            "Checkpoint 'checkpoint.pth' also saved to W&B artifacts.\n",
            "\n",
            "--- Epoch 41/50 ---\n"
          ]
        },
        {
          "name": "stderr",
          "output_type": "stream",
          "text": []
        },
        {
          "name": "stdout",
          "output_type": "stream",
          "text": [
            "\n",
            "Validation Epoch 41: Avg Loss: 0.2958, Overall Mean IoU: 0.5385\n",
            "\n",
            "--- Epoch 42/50 ---\n"
          ]
        },
        {
          "name": "stderr",
          "output_type": "stream",
          "text": []
        },
        {
          "name": "stdout",
          "output_type": "stream",
          "text": [
            "\n",
            "Validation Epoch 42: Avg Loss: 0.2985, Overall Mean IoU: 0.5366\n",
            "\n",
            "--- Epoch 43/50 ---\n"
          ]
        },
        {
          "name": "stderr",
          "output_type": "stream",
          "text": []
        },
        {
          "name": "stdout",
          "output_type": "stream",
          "text": [
            "\n",
            "Validation Epoch 43: Avg Loss: 0.3030, Overall Mean IoU: 0.5291\n",
            "\n",
            "--- Epoch 44/50 ---\n"
          ]
        },
        {
          "name": "stderr",
          "output_type": "stream",
          "text": []
        },
        {
          "name": "stdout",
          "output_type": "stream",
          "text": [
            "\n",
            "Validation Epoch 44: Avg Loss: 0.3005, Overall Mean IoU: 0.5334\n",
            "\n",
            "--- Epoch 45/50 ---\n"
          ]
        },
        {
          "name": "stderr",
          "output_type": "stream",
          "text": []
        },
        {
          "name": "stdout",
          "output_type": "stream",
          "text": [
            "\n",
            "Validation Epoch 45: Avg Loss: 0.2997, Overall Mean IoU: 0.5343\n",
            "Saving checkpoint to ./checkpoints/bisenet/checkpoint.pth...\n",
            "Checkpoint saved successfully to ./checkpoints/bisenet/checkpoint.pth\n",
            "Checkpoint 'checkpoint.pth' also saved to W&B artifacts.\n",
            "\n",
            "--- Epoch 46/50 ---\n"
          ]
        },
        {
          "name": "stderr",
          "output_type": "stream",
          "text": []
        },
        {
          "name": "stdout",
          "output_type": "stream",
          "text": [
            "\n",
            "Validation Epoch 46: Avg Loss: 0.3015, Overall Mean IoU: 0.5342\n",
            "\n",
            "--- Epoch 47/50 ---\n"
          ]
        },
        {
          "name": "stderr",
          "output_type": "stream",
          "text": []
        },
        {
          "name": "stdout",
          "output_type": "stream",
          "text": [
            "\n",
            "Validation Epoch 47: Avg Loss: 0.3026, Overall Mean IoU: 0.5337\n",
            "\n",
            "--- Epoch 48/50 ---\n"
          ]
        },
        {
          "name": "stderr",
          "output_type": "stream",
          "text": []
        },
        {
          "name": "stdout",
          "output_type": "stream",
          "text": [
            "\n",
            "Validation Epoch 48: Avg Loss: 0.3047, Overall Mean IoU: 0.5321\n",
            "\n",
            "--- Epoch 49/50 ---\n"
          ]
        },
        {
          "name": "stderr",
          "output_type": "stream",
          "text": []
        },
        {
          "name": "stdout",
          "output_type": "stream",
          "text": [
            "\n",
            "Validation Epoch 49: Avg Loss: 0.3050, Overall Mean IoU: 0.5312\n",
            "\n",
            "--- Epoch 50/50 ---\n"
          ]
        },
        {
          "name": "stderr",
          "output_type": "stream",
          "text": []
        },
        {
          "name": "stdout",
          "output_type": "stream",
          "text": [
            "\n",
            "Validation Epoch 50: Avg Loss: 0.3076, Overall Mean IoU: 0.5318\n",
            "\n",
            "--- Training Finished ---\n",
            "Loading best model from ./checkpoints/bisenet/best_miou_checkpoint.pth for final evaluation...\n",
            "Loading checkpoint from './checkpoints/bisenet/best_miou_checkpoint.pth'...\n",
            "Checkpoint loaded successfully.\n",
            "Loaded per-class IoUs from the best checkpoint.\n",
            "\n",
            "Calculating performance metrics (FLOPs, Latency on current model state)...\n",
            "Calculating FLOPs and Parameters...\n"
          ]
        },
        {
          "name": "stderr",
          "output_type": "stream",
          "text": [
            "WARNING:fvcore.nn.jit_analysis:Unsupported operator aten::max_pool2d encountered 1 time(s)\n",
            "WARNING:fvcore.nn.jit_analysis:Unsupported operator aten::add_ encountered 8 time(s)\n",
            "WARNING:fvcore.nn.jit_analysis:Unsupported operator aten::mean encountered 2 time(s)\n",
            "WARNING:fvcore.nn.jit_analysis:Unsupported operator aten::sigmoid encountered 3 time(s)\n",
            "WARNING:fvcore.nn.jit_analysis:Unsupported operator aten::mul encountered 4 time(s)\n",
            "WARNING:fvcore.nn.jit_analysis:Unsupported operator aten::add encountered 1 time(s)\n",
            "WARNING:fvcore.nn.jit_analysis:The following submodules of the model were never called during the trace of the graph. They may be unused, or they were accessed by direct calls to .forward() or via other python methods. In the latter case they will have zeros for statistics, though their statistics will still contribute to their parent calling module.\n",
            "context_path.features.avgpool, context_path.features.fc, supervision1, supervision2\n"
          ]
        },
        {
          "name": "stdout",
          "output_type": "stream",
          "text": [
            "Calculating Latency (warmup: 10 iters, measurement: 100 iters)...\n",
            " Latency iteration 10/100 completed.\n",
            " Latency iteration 20/100 completed.\n",
            " Latency iteration 30/100 completed.\n",
            " Latency iteration 40/100 completed.\n",
            " Latency iteration 50/100 completed.\n",
            " Latency iteration 60/100 completed.\n",
            " Latency iteration 70/100 completed.\n",
            " Latency iteration 80/100 completed.\n",
            " Latency iteration 90/100 completed.\n",
            " Latency iteration 100/100 completed.\n",
            "\n",
            "--- Table 2: Real-time Cityscapes (BiSeNet - Step 2b) ---\n",
            "| Metric                      | Value                               |\n",
            "|-----------------------------|-------------------------------------|\n",
            "| Best mIoU (%)               | 54.86                              |\n",
            "| Latency (ms)                | 5.23 +/- 0.34 |\n",
            "| FLOPs (G)                   | 25.78                                |\n",
            "| Params (M)                  | 12.58                                |\n",
            "\n",
            "Per-Class IoUs from Best Model Checkpoint:\n",
            "| Class Name           | IoU     |\n",
            "|----------------------|---------|\n",
            "| road                 | 0.9641 |\n",
            "| sidewalk             | 0.7365 |\n",
            "| building             | 0.8620 |\n",
            "| wall                 | 0.4205 |\n",
            "| fence                | 0.3495 |\n",
            "| pole                 | 0.3474 |\n",
            "| traffic light        | 0.3187 |\n",
            "| traffic sign         | 0.4938 |\n",
            "| vegetation           | 0.8772 |\n",
            "| terrain              | 0.5272 |\n",
            "| sky                  | 0.9087 |\n",
            "| person               | 0.6340 |\n",
            "| rider                | 0.2654 |\n",
            "| car                  | 0.8715 |\n",
            "| truck                | 0.3114 |\n",
            "| bus                  | 0.3880 |\n",
            "| train                | 0.3408 |\n",
            "| motorcycle           | 0.2186 |\n",
            "| bicycle              | 0.5883 |\n",
            "------------------------------------\n",
            "\n",
            "Full FLOPs Table (from fvcore calculation):\n",
            "| module                                      | #parameters or shape   | #flops     |\n",
            "|:--------------------------------------------|:-----------------------|:-----------|\n",
            "| model                                       | 12.582M                | 25.78G     |\n",
            "|  saptial_path                               |  0.371M                |  5.088G    |\n",
            "|   saptial_path.convblock1                   |   1.856K               |   0.243G   |\n",
            "|    saptial_path.convblock1.conv1            |    1.728K              |    0.226G  |\n",
            "|    saptial_path.convblock1.bn               |    0.128K              |    16.777M |\n",
            "|   saptial_path.convblock2                   |   73.984K              |   2.424G   |\n",
            "|    saptial_path.convblock2.conv1            |    73.728K             |    2.416G  |\n",
            "|    saptial_path.convblock2.bn               |    0.256K              |    8.389M  |\n",
            "|   saptial_path.convblock3                   |   0.295M               |   2.42G    |\n",
            "|    saptial_path.convblock3.conv1            |    0.295M              |    2.416G  |\n",
            "|    saptial_path.convblock3.bn               |    0.512K              |    4.194M  |\n",
            "|  context_path.features                      |  11.69M                |  19.002G   |\n",
            "|   context_path.features.conv1               |   9.408K               |   1.233G   |\n",
            "|    context_path.features.conv1.weight       |    (64, 3, 7, 7)       |            |\n",
            "|   context_path.features.bn1                 |   0.128K               |   16.777M  |\n",
            "|    context_path.features.bn1.weight         |    (64,)               |            |\n",
            "|    context_path.features.bn1.bias           |    (64,)               |            |\n",
            "|   context_path.features.layer1              |   0.148M               |   4.849G   |\n",
            "|    context_path.features.layer1.0           |    73.984K             |    2.424G  |\n",
            "|    context_path.features.layer1.1           |    73.984K             |    2.424G  |\n",
            "|   context_path.features.layer2              |   0.526M               |   4.305G   |\n",
            "|    context_path.features.layer2.0           |    0.23M               |    1.885G  |\n",
            "|    context_path.features.layer2.1           |    0.295M              |    2.42G   |\n",
            "|   context_path.features.layer3              |   2.1M                 |   4.3G     |\n",
            "|    context_path.features.layer3.0           |    0.919M              |    1.882G  |\n",
            "|    context_path.features.layer3.1           |    1.181M              |    2.418G  |\n",
            "|   context_path.features.layer4              |   8.394M               |   4.298G   |\n",
            "|    context_path.features.layer4.0           |    3.673M              |    1.881G  |\n",
            "|    context_path.features.layer4.1           |    4.721M              |    2.417G  |\n",
            "|   context_path.features.fc                  |   0.513M               |            |\n",
            "|    context_path.features.fc.weight          |    (1000, 512)         |            |\n",
            "|    context_path.features.fc.bias            |    (1000,)             |            |\n",
            "|  attention_refinement_module1               |  66.304K               |  0.59M     |\n",
            "|   attention_refinement_module1.conv         |   65.792K              |   65.536K  |\n",
            "|    attention_refinement_module1.conv.weight |    (256, 256, 1, 1)    |            |\n",
            "|    attention_refinement_module1.conv.bias   |    (256,)              |            |\n",
            "|   attention_refinement_module1.bn           |   0.512K               |   0.512K   |\n",
            "|    attention_refinement_module1.bn.weight   |    (256,)              |            |\n",
            "|    attention_refinement_module1.bn.bias     |    (256,)              |            |\n",
            "|   attention_refinement_module1.avgpool      |                        |   0.524M   |\n",
            "|  attention_refinement_module2               |  0.264M                |  0.525M    |\n",
            "|   attention_refinement_module2.conv         |   0.263M               |   0.262M   |\n",
            "|    attention_refinement_module2.conv.weight |    (512, 512, 1, 1)    |            |\n",
            "|    attention_refinement_module2.conv.bias   |    (512,)              |            |\n",
            "|   attention_refinement_module2.bn           |   1.024K               |   1.024K   |\n",
            "|    attention_refinement_module2.bn.weight   |    (512,)              |            |\n",
            "|    attention_refinement_module2.bn.bias     |    (512,)              |            |\n",
            "|   attention_refinement_module2.avgpool      |                        |   0.262M   |\n",
            "|  supervision1                               |  4.883K                |            |\n",
            "|   supervision1.weight                       |   (19, 256, 1, 1)      |            |\n",
            "|   supervision1.bias                         |   (19,)                |            |\n",
            "|  supervision2                               |  9.747K                |            |\n",
            "|   supervision2.weight                       |   (19, 512, 1, 1)      |            |\n",
            "|   supervision2.bias                         |   (19,)                |            |\n",
            "|  feature_fusion_module                      |  0.176M                |  1.435G    |\n",
            "|   feature_fusion_module.convblock           |   0.175M               |   1.435G   |\n",
            "|    feature_fusion_module.convblock.conv1    |    0.175M              |    1.434G  |\n",
            "|    feature_fusion_module.convblock.bn       |    38                  |    0.311M  |\n",
            "|   feature_fusion_module.conv1               |   0.38K                |   0.361K   |\n",
            "|    feature_fusion_module.conv1.weight       |    (19, 19, 1, 1)      |            |\n",
            "|    feature_fusion_module.conv1.bias         |    (19,)               |            |\n",
            "|   feature_fusion_module.conv2               |   0.38K                |   0.361K   |\n",
            "|    feature_fusion_module.conv2.weight       |    (19, 19, 1, 1)      |            |\n",
            "|    feature_fusion_module.conv2.bias         |    (19,)               |            |\n",
            "|   feature_fusion_module.avgpool             |                        |   0.156M   |\n",
            "|  conv                                       |  0.38K                 |  0.189G    |\n",
            "|   conv.weight                               |   (19, 19, 1, 1)       |            |\n",
            "|   conv.bias                                 |   (19,)                |            |\n"
          ]
        },
        {
          "data": {
            "text/html": [],
            "text/plain": [
              "<IPython.core.display.HTML object>"
            ]
          },
          "metadata": {},
          "output_type": "display_data"
        },
        {
          "data": {
            "text/html": [
              "<br>    <style><br>        .wandb-row {<br>            display: flex;<br>            flex-direction: row;<br>            flex-wrap: wrap;<br>            justify-content: flex-start;<br>            width: 100%;<br>        }<br>        .wandb-col {<br>            display: flex;<br>            flex-direction: column;<br>            flex-basis: 100%;<br>            flex: 1;<br>            padding: 10px;<br>        }<br>    </style><br><div class=\"wandb-row\"><div class=\"wandb-col\"><h3>Run history:</h3><br/><table class=\"wandb\"><tr><td>epoch</td><td>▁▁▁▂▂▂▂▂▂▃▃▃▃▃▃▄▄▄▄▄▅▅▅▅▅▅▆▆▆▆▆▆▇▇▇▇▇▇██</td></tr><tr><td>train/batch_loss</td><td>█▄▄▃▃▂▂▂▂▂▂▂▂▂▂▂▁▂▁▂▁▁▁▁▁▁▁▁▁▁▁▁▁▁▁▁▁▁▁▁</td></tr><tr><td>train/epoch_loss</td><td>█▅▄▃▃▂▂▂▂▂▂▁▁▁▁▁▁▁▁▁▁▁▁▁▁▁▁▁▁▁▁▁▁▁▁▁▁▁▁▁</td></tr><tr><td>train/learning_rate</td><td>████▇▇▇▇▆▆▆▆▆▆▆▅▅▅▅▅▄▄▄▄▄▄▃▃▃▃▂▂▂▂▂▂▂▁▁▁</td></tr><tr><td>val/epoch_loss</td><td>█▆▄▃▂▂▁▁▁▁▁▁▁▁▁▁▁▁▁▁▁▁▁▁▁▁▁▁▁▁▁▁▁▁▁▁▁▁▁▂</td></tr><tr><td>val/mIoU</td><td>▁▄▅▆▇▇▇▇▇███████████▇█████▇███████▇█████</td></tr><tr><td>val_iou_per_class/iou_bicycle</td><td>▁▃▄▅▆▆▆▇▇▆▇▇▇▇▇█████████████████████████</td></tr><tr><td>val_iou_per_class/iou_building</td><td>▁▃▅▆▇▇▇▇█▇▇███████▇█████████████████████</td></tr><tr><td>val_iou_per_class/iou_bus</td><td>▁▁▂▄▅▆▄▆▅▇▇▆█▆▇▆▇▆▆▆▅▆▅▆▆▅▆▅▅▆▆▅▆▅▅▆▅▅▅▅</td></tr><tr><td>val_iou_per_class/iou_car</td><td>▁▃▃▅▅▇▆▇▆▆▇▇▇██▇▇▇▇█▇█▇▇▇▇█▇▇█▇▇█▇▇▇▇▇▇▇</td></tr><tr><td>val_iou_per_class/iou_fence</td><td>▁▃▃▇▆██▅█▆▇▆▇▆█▇█▇▆▇▆▇▆▆▆▇▇▇▇▆▇▇▇▆▆▇▇▇▆▆</td></tr><tr><td>val_iou_per_class/iou_motorcycle</td><td>▁▁▁▃▅▆▅▆▄▅▇█▅▇▆▇▆▆▆██▇▇▆▅▇▇█▆▆▆▇▇▆▆▆▆▆▆▆</td></tr><tr><td>val_iou_per_class/iou_person</td><td>▁▃▄▅▆▆▇▇▇▇▇▇▇█▇█████████████████████████</td></tr><tr><td>val_iou_per_class/iou_pole</td><td>▁▂▃▄▅▆▇▇▇▇▇▇▇███████████████████████████</td></tr><tr><td>val_iou_per_class/iou_rider</td><td>▁▁▂▄▄▄▅▇▄▆▇▇▅▇▅▆█▆▇▇▇▇▇▇▇▇▆█▇▇█▇▇█▇▇▇▇▇▇</td></tr><tr><td>val_iou_per_class/iou_road</td><td>▁▄▅▅▆▇▇▆▇▅▇▇▇▇▇▇▇████▇██████████████████</td></tr><tr><td>val_iou_per_class/iou_sidewalk</td><td>▁▄▃▄▆▆▆▆▇▅▇▇▇▇▇█▇▇███▇██████████████████</td></tr><tr><td>val_iou_per_class/iou_sky</td><td>▁▆▇▇▇███████████████████████████████████</td></tr><tr><td>val_iou_per_class/iou_terrain</td><td>▁▄▃▆▇█████████████▇██▇██▇███████████▇█▇█</td></tr><tr><td>val_iou_per_class/iou_traffic light</td><td>▁▂▃▄▅▆▆▆▇▇█▇▇▇▇██▇▇▇▇▇█▇████████▇▇▇███▇▇</td></tr><tr><td>val_iou_per_class/iou_traffic sign</td><td>▁▃▅▅▆▆▆▆▇▇▇▇█▇▇▇█▇▇█████████████████████</td></tr><tr><td>val_iou_per_class/iou_train</td><td>▁▄▇▃▆▆▇█▇▄█▅▆▇█▇▆▄▅▅▆▄▃▇▆▅▄▃▆▅▇▆▆▆▆▅▅▅▅▅</td></tr><tr><td>val_iou_per_class/iou_truck</td><td>▁▁▃█▇▆▃▆▁▄▅▇▇▅▅▃▄▃▅▆▄▄▇▅▅▄▄▂▅▄▅▄▄▄▂▃▃▃▃▃</td></tr><tr><td>val_iou_per_class/iou_vegetation</td><td>▁▃▄▅▆▇▇▇▇▆▇▇▇▇██████████████████████████</td></tr><tr><td>val_iou_per_class/iou_wall</td><td>▁▃▄▆█▇▆▃▇▃▇▅▇▇▆█▇▇▇▆▆▄▇▆▇█▆▇▇▇▆▇▆▇▇▆▆▆▆▆</td></tr></table><br/></div><div class=\"wandb-col\"><h3>Run summary:</h3><br/><table class=\"wandb\"><tr><td>Step2b_best_overall_val_mIoU_percent</td><td>54.86067</td></tr><tr><td>Step2b_final_iou_bicycle</td><td>0.58835</td></tr><tr><td>Step2b_final_iou_building</td><td>0.86201</td></tr><tr><td>Step2b_final_iou_bus</td><td>0.38797</td></tr><tr><td>Step2b_final_iou_car</td><td>0.87151</td></tr><tr><td>Step2b_final_iou_fence</td><td>0.34954</td></tr><tr><td>Step2b_final_iou_motorcycle</td><td>0.21859</td></tr><tr><td>Step2b_final_iou_person</td><td>0.63402</td></tr><tr><td>Step2b_final_iou_pole</td><td>0.34744</td></tr><tr><td>Step2b_final_iou_rider</td><td>0.26536</td></tr><tr><td>Step2b_final_iou_road</td><td>0.96407</td></tr><tr><td>Step2b_final_iou_sidewalk</td><td>0.7365</td></tr><tr><td>Step2b_final_iou_sky</td><td>0.90866</td></tr><tr><td>Step2b_final_iou_terrain</td><td>0.52718</td></tr><tr><td>Step2b_final_iou_traffic light</td><td>0.31866</td></tr><tr><td>Step2b_final_iou_traffic sign</td><td>0.49379</td></tr><tr><td>Step2b_final_iou_train</td><td>0.34077</td></tr><tr><td>Step2b_final_iou_truck</td><td>0.31143</td></tr><tr><td>Step2b_final_iou_vegetation</td><td>0.87723</td></tr><tr><td>Step2b_final_iou_wall</td><td>0.42046</td></tr><tr><td>Step2b_flops_g</td><td>25.77978</td></tr><tr><td>Step2b_latency_ms_mean</td><td>5.22945</td></tr><tr><td>Step2b_params_m</td><td>12.58167</td></tr><tr><td>best_val_mIoU</td><td>0.54861</td></tr><tr><td>epoch</td><td>50</td></tr><tr><td>final_train_epoch_loss_last_epoch</td><td>0.05314</td></tr><tr><td>train/batch_loss</td><td>0.05278</td></tr><tr><td>train/epoch_loss</td><td>0.05314</td></tr><tr><td>train/learning_rate</td><td>0.0</td></tr><tr><td>val/epoch_loss</td><td>0.30758</td></tr><tr><td>val/mIoU</td><td>0.53184</td></tr><tr><td>val_iou_per_class/iou_bicycle</td><td>0.59974</td></tr><tr><td>val_iou_per_class/iou_building</td><td>0.8605</td></tr><tr><td>val_iou_per_class/iou_bus</td><td>0.28237</td></tr><tr><td>val_iou_per_class/iou_car</td><td>0.86654</td></tr><tr><td>val_iou_per_class/iou_fence</td><td>0.33142</td></tr><tr><td>val_iou_per_class/iou_motorcycle</td><td>0.18133</td></tr><tr><td>val_iou_per_class/iou_person</td><td>0.63969</td></tr><tr><td>val_iou_per_class/iou_pole</td><td>0.36325</td></tr><tr><td>val_iou_per_class/iou_rider</td><td>0.29226</td></tr><tr><td>val_iou_per_class/iou_road</td><td>0.9653</td></tr><tr><td>val_iou_per_class/iou_sidewalk</td><td>0.74141</td></tr><tr><td>val_iou_per_class/iou_sky</td><td>0.90719</td></tr><tr><td>val_iou_per_class/iou_terrain</td><td>0.52532</td></tr><tr><td>val_iou_per_class/iou_traffic light</td><td>0.33491</td></tr><tr><td>val_iou_per_class/iou_traffic sign</td><td>0.50058</td></tr><tr><td>val_iou_per_class/iou_train</td><td>0.24212</td></tr><tr><td>val_iou_per_class/iou_truck</td><td>0.22831</td></tr><tr><td>val_iou_per_class/iou_vegetation</td><td>0.87832</td></tr><tr><td>val_iou_per_class/iou_wall</td><td>0.36442</td></tr></table><br/></div></div>"
            ],
            "text/plain": [
              "<IPython.core.display.HTML object>"
            ]
          },
          "metadata": {},
          "output_type": "display_data"
        },
        {
          "data": {
            "text/html": [
              " View run <strong style=\"color:#cdcd00\">deep-shape-23</strong> at: <a href='https://wandb.ai/RTDA-SemSeg/RTDA-SemSeg/runs/28b0upft' target=\"_blank\">https://wandb.ai/RTDA-SemSeg/RTDA-SemSeg/runs/28b0upft</a><br> View project at: <a href='https://wandb.ai/RTDA-SemSeg/RTDA-SemSeg' target=\"_blank\">https://wandb.ai/RTDA-SemSeg/RTDA-SemSeg</a><br>Synced 5 W&B file(s), 17 media file(s), 0 artifact file(s) and 2 other file(s)"
            ],
            "text/plain": [
              "<IPython.core.display.HTML object>"
            ]
          },
          "metadata": {},
          "output_type": "display_data"
        },
        {
          "data": {
            "text/html": [
              "Find logs at: <code>./wandb/run-20250602_142502-28b0upft/logs</code>"
            ],
            "text/plain": [
              "<IPython.core.display.HTML object>"
            ]
          },
          "metadata": {},
          "output_type": "display_data"
        },
        {
          "name": "stdout",
          "output_type": "stream",
          "text": [
            "Run completed.\n",
            "\n",
            "--- Full training run has finished (or attempted to finish). ---\n"
          ]
        }
      ],
      "source": [
        "import sys\n",
        "import importlib\n",
        "\n",
        "# --- Re-import config to pick up manual changes ---\n",
        "try:\n",
        "    import config as cfg\n",
        "    importlib.reload(cfg) # Make sure the manually edited paths are loaded\n",
        "\n",
        "except ImportError:\n",
        "    print(\"ERROR: Could not import config.py. Ensure it's in your project path and sys.path is correct.\")\n",
        "    raise\n",
        "except Exception as e:\n",
        "    print(f\"ERROR during config reload or path check: {e}\")\n",
        "    raise\n",
        "\n",
        "# --- Run main.py's logic ---\n",
        "# Store original sys.argv to restore later if needed\n",
        "original_argv = sys.argv.copy()\n",
        "\n",
        "\n",
        "sys.argv = [\n",
        "    'main.py'\n",
        "]\n",
        "print(f\"\\nRunning main script with simulated command line arguments: {sys.argv}\")\n",
        "\n",
        "try:\n",
        "    import main as project_main\n",
        "    importlib.reload(project_main) # Re-import main in case its imports (like config) changed\n",
        "    project_main.main()\n",
        "    print(\"\\n--- Full training run has finished (or attempted to finish). ---\")\n",
        "except Exception as e:\n",
        "    import traceback\n",
        "    print(f\"An error occurred during the execution of main(): {e}\")\n",
        "    print(\"Full traceback:\")\n",
        "    print(traceback.format_exc())\n",
        "finally:\n",
        "    # Restore original sys.argv\n",
        "    sys.argv = original_argv"
      ]
    }
  ],
  "metadata": {
    "accelerator": "GPU",
    "colab": {
      "gpuType": "A100",
      "machine_shape": "hm",
      "provenance": []
    },
    "kernelspec": {
      "display_name": "Python 3",
      "name": "python3"
    },
    "language_info": {
      "name": "python"
    }
  },
  "nbformat": 4,
  "nbformat_minor": 0
}
